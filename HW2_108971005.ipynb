{
 "cells": [
  {
   "cell_type": "markdown",
   "metadata": {},
   "source": [
    "# HW2 - HR Analysis\n",
    "#### by 108971005 黃俊鈞"
   ]
  },
  {
   "cell_type": "markdown",
   "metadata": {},
   "source": [
    "本資料集是基於 HR 的員工特徵欄位，目的在於預測員工的離職情況。本流程依以下模式進行：\n",
    "\n",
    "![Data Pipeline](./HW2_data_pipeline.png)"
   ]
  },
  {
   "cell_type": "markdown",
   "metadata": {},
   "source": [
    "## 前置作業\n",
    "\n",
    "在一開始需讀取本次作業的函式庫，在 NB 上所寫的是以主要流程為主，因此把重構出來的各項流程都獨立在另一個程式碼檔案裡："
   ]
  },
  {
   "cell_type": "code",
   "execution_count": 1,
   "metadata": {},
   "outputs": [
    {
     "name": "stderr",
     "output_type": "stream",
     "text": [
      "Loading required package: lattice\n",
      "\n",
      "Loading required package: grid\n",
      "\n",
      "Registered S3 method overwritten by 'quantmod':\n",
      "  method            from\n",
      "  as.zoo.data.frame zoo \n",
      "\n",
      "randomForest 4.6-14\n",
      "\n",
      "Type rfNews() to see new features/changes/bug fixes.\n",
      "\n",
      "\n",
      "Attaching package: 'randomForest'\n",
      "\n",
      "\n",
      "The following object is masked from 'package:ggplot2':\n",
      "\n",
      "    margin\n",
      "\n",
      "\n"
     ]
    }
   ],
   "source": [
    "source('HW2_108971005.R')\n",
    "options(repr.matrix.max.cols=150, repr.matrix.max.rows=200)\n",
    "\n",
    "df.train <- read.csv('./hw2/training.csv', sep = ',')\n",
    "df.test <- read.csv('./hw2/testing.csv', sep = ',')"
   ]
  },
  {
   "cell_type": "markdown",
   "metadata": {},
   "source": [
    "## 資料探索\n",
    "\n",
    "資料探索的過程，我主要是在觀察資料的一些數據分佈情況，以決定如何進行特徵工程："
   ]
  },
  {
   "cell_type": "markdown",
   "metadata": {},
   "source": [
    "### 列出資料"
   ]
  },
  {
   "cell_type": "code",
   "execution_count": 2,
   "metadata": {},
   "outputs": [
    {
     "data": {
      "text/html": [
       "<table>\n",
       "<caption>A data.frame: 3 × 27</caption>\n",
       "<thead>\n",
       "\t<tr><th></th><th scope=col>Age</th><th scope=col>Attrition</th><th scope=col>BusinessTravel</th><th scope=col>Department</th><th scope=col>DistanceFromHome</th><th scope=col>Education</th><th scope=col>EducationField</th><th scope=col>EmployeeNumber</th><th scope=col>EnvironmentSatisfaction</th><th scope=col>Gender</th><th scope=col>JobInvolvement</th><th scope=col>JobLevel</th><th scope=col>JobRole</th><th scope=col>JobSatisfaction</th><th scope=col>MaritalStatus</th><th scope=col>MonthlyIncome</th><th scope=col>NumCompaniesWorked</th><th scope=col>PerformanceRating</th><th scope=col>RelationshipSatisfaction</th><th scope=col>StockOptionLevel</th><th scope=col>TotalWorkingYears</th><th scope=col>TrainingTimesLastYear</th><th scope=col>WorkLifeBalance</th><th scope=col>YearsAtCompany</th><th scope=col>YearsInCurrentRole</th><th scope=col>YearsSinceLastPromotion</th><th scope=col>YearsWithCurrManager</th></tr>\n",
       "\t<tr><th></th><th scope=col>&lt;int&gt;</th><th scope=col>&lt;fct&gt;</th><th scope=col>&lt;fct&gt;</th><th scope=col>&lt;fct&gt;</th><th scope=col>&lt;int&gt;</th><th scope=col>&lt;int&gt;</th><th scope=col>&lt;fct&gt;</th><th scope=col>&lt;int&gt;</th><th scope=col>&lt;int&gt;</th><th scope=col>&lt;fct&gt;</th><th scope=col>&lt;int&gt;</th><th scope=col>&lt;int&gt;</th><th scope=col>&lt;fct&gt;</th><th scope=col>&lt;int&gt;</th><th scope=col>&lt;fct&gt;</th><th scope=col>&lt;int&gt;</th><th scope=col>&lt;int&gt;</th><th scope=col>&lt;int&gt;</th><th scope=col>&lt;int&gt;</th><th scope=col>&lt;int&gt;</th><th scope=col>&lt;int&gt;</th><th scope=col>&lt;int&gt;</th><th scope=col>&lt;int&gt;</th><th scope=col>&lt;int&gt;</th><th scope=col>&lt;int&gt;</th><th scope=col>&lt;int&gt;</th><th scope=col>&lt;int&gt;</th></tr>\n",
       "</thead>\n",
       "<tbody>\n",
       "\t<tr><th scope=row>1</th><td>41</td><td>Yes</td><td>Travel_Rarely    </td><td>Sales                 </td><td>1</td><td>2</td><td>Life Sciences</td><td>1</td><td>2</td><td>Female</td><td>3</td><td>2</td><td>Sales Executive      </td><td>4</td><td>Single </td><td>5993</td><td>8</td><td>3</td><td>1</td><td>0</td><td> 8</td><td>0</td><td>1</td><td> 6</td><td>4</td><td>0</td><td>5</td></tr>\n",
       "\t<tr><th scope=row>2</th><td>49</td><td>No </td><td>Travel_Frequently</td><td>Research &amp; Development</td><td>8</td><td>1</td><td>Life Sciences</td><td>2</td><td>3</td><td><span style=white-space:pre-wrap>Male  </span></td><td>2</td><td>2</td><td><span style=white-space:pre-wrap>Research Scientist   </span></td><td>2</td><td>Married</td><td>5130</td><td>1</td><td>4</td><td>4</td><td>1</td><td>10</td><td>3</td><td>3</td><td>10</td><td>7</td><td>1</td><td>7</td></tr>\n",
       "\t<tr><th scope=row>3</th><td>37</td><td>Yes</td><td><span style=white-space:pre-wrap>Travel_Rarely    </span></td><td>Research &amp; Development</td><td>2</td><td>2</td><td><span style=white-space:pre-wrap>Other        </span></td><td>4</td><td>4</td><td><span style=white-space:pre-wrap>Male  </span></td><td>2</td><td>1</td><td>Laboratory Technician</td><td>3</td><td>Single </td><td>2090</td><td>6</td><td>3</td><td>2</td><td>0</td><td> 7</td><td>3</td><td>3</td><td> 0</td><td>0</td><td>0</td><td>0</td></tr>\n",
       "</tbody>\n",
       "</table>\n"
      ],
      "text/latex": [
       "A data.frame: 3 × 27\n",
       "\\begin{tabular}{r|lllllllllllllllllllllllllll}\n",
       "  & Age & Attrition & BusinessTravel & Department & DistanceFromHome & Education & EducationField & EmployeeNumber & EnvironmentSatisfaction & Gender & JobInvolvement & JobLevel & JobRole & JobSatisfaction & MaritalStatus & MonthlyIncome & NumCompaniesWorked & PerformanceRating & RelationshipSatisfaction & StockOptionLevel & TotalWorkingYears & TrainingTimesLastYear & WorkLifeBalance & YearsAtCompany & YearsInCurrentRole & YearsSinceLastPromotion & YearsWithCurrManager\\\\\n",
       "  & <int> & <fct> & <fct> & <fct> & <int> & <int> & <fct> & <int> & <int> & <fct> & <int> & <int> & <fct> & <int> & <fct> & <int> & <int> & <int> & <int> & <int> & <int> & <int> & <int> & <int> & <int> & <int> & <int>\\\\\n",
       "\\hline\n",
       "\t1 & 41 & Yes & Travel\\_Rarely     & Sales                  & 1 & 2 & Life Sciences & 1 & 2 & Female & 3 & 2 & Sales Executive       & 4 & Single  & 5993 & 8 & 3 & 1 & 0 &  8 & 0 & 1 &  6 & 4 & 0 & 5\\\\\n",
       "\t2 & 49 & No  & Travel\\_Frequently & Research \\& Development & 8 & 1 & Life Sciences & 2 & 3 & Male   & 2 & 2 & Research Scientist    & 2 & Married & 5130 & 1 & 4 & 4 & 1 & 10 & 3 & 3 & 10 & 7 & 1 & 7\\\\\n",
       "\t3 & 37 & Yes & Travel\\_Rarely     & Research \\& Development & 2 & 2 & Other         & 4 & 4 & Male   & 2 & 1 & Laboratory Technician & 3 & Single  & 2090 & 6 & 3 & 2 & 0 &  7 & 3 & 3 &  0 & 0 & 0 & 0\\\\\n",
       "\\end{tabular}\n"
      ],
      "text/markdown": [
       "\n",
       "A data.frame: 3 × 27\n",
       "\n",
       "| <!--/--> | Age &lt;int&gt; | Attrition &lt;fct&gt; | BusinessTravel &lt;fct&gt; | Department &lt;fct&gt; | DistanceFromHome &lt;int&gt; | Education &lt;int&gt; | EducationField &lt;fct&gt; | EmployeeNumber &lt;int&gt; | EnvironmentSatisfaction &lt;int&gt; | Gender &lt;fct&gt; | JobInvolvement &lt;int&gt; | JobLevel &lt;int&gt; | JobRole &lt;fct&gt; | JobSatisfaction &lt;int&gt; | MaritalStatus &lt;fct&gt; | MonthlyIncome &lt;int&gt; | NumCompaniesWorked &lt;int&gt; | PerformanceRating &lt;int&gt; | RelationshipSatisfaction &lt;int&gt; | StockOptionLevel &lt;int&gt; | TotalWorkingYears &lt;int&gt; | TrainingTimesLastYear &lt;int&gt; | WorkLifeBalance &lt;int&gt; | YearsAtCompany &lt;int&gt; | YearsInCurrentRole &lt;int&gt; | YearsSinceLastPromotion &lt;int&gt; | YearsWithCurrManager &lt;int&gt; |\n",
       "|---|---|---|---|---|---|---|---|---|---|---|---|---|---|---|---|---|---|---|---|---|---|---|---|---|---|---|---|\n",
       "| 1 | 41 | Yes | Travel_Rarely     | Sales                  | 1 | 2 | Life Sciences | 1 | 2 | Female | 3 | 2 | Sales Executive       | 4 | Single  | 5993 | 8 | 3 | 1 | 0 |  8 | 0 | 1 |  6 | 4 | 0 | 5 |\n",
       "| 2 | 49 | No  | Travel_Frequently | Research &amp; Development | 8 | 1 | Life Sciences | 2 | 3 | Male   | 2 | 2 | Research Scientist    | 2 | Married | 5130 | 1 | 4 | 4 | 1 | 10 | 3 | 3 | 10 | 7 | 1 | 7 |\n",
       "| 3 | 37 | Yes | Travel_Rarely     | Research &amp; Development | 2 | 2 | Other         | 4 | 4 | Male   | 2 | 1 | Laboratory Technician | 3 | Single  | 2090 | 6 | 3 | 2 | 0 |  7 | 3 | 3 |  0 | 0 | 0 | 0 |\n",
       "\n"
      ],
      "text/plain": [
       "  Age Attrition BusinessTravel    Department             DistanceFromHome\n",
       "1 41  Yes       Travel_Rarely     Sales                  1               \n",
       "2 49  No        Travel_Frequently Research & Development 8               \n",
       "3 37  Yes       Travel_Rarely     Research & Development 2               \n",
       "  Education EducationField EmployeeNumber EnvironmentSatisfaction Gender\n",
       "1 2         Life Sciences  1              2                       Female\n",
       "2 1         Life Sciences  2              3                       Male  \n",
       "3 2         Other          4              4                       Male  \n",
       "  JobInvolvement JobLevel JobRole               JobSatisfaction MaritalStatus\n",
       "1 3              2        Sales Executive       4               Single       \n",
       "2 2              2        Research Scientist    2               Married      \n",
       "3 2              1        Laboratory Technician 3               Single       \n",
       "  MonthlyIncome NumCompaniesWorked PerformanceRating RelationshipSatisfaction\n",
       "1 5993          8                  3                 1                       \n",
       "2 5130          1                  4                 4                       \n",
       "3 2090          6                  3                 2                       \n",
       "  StockOptionLevel TotalWorkingYears TrainingTimesLastYear WorkLifeBalance\n",
       "1 0                 8                0                     1              \n",
       "2 1                10                3                     3              \n",
       "3 0                 7                3                     3              \n",
       "  YearsAtCompany YearsInCurrentRole YearsSinceLastPromotion\n",
       "1  6             4                  0                      \n",
       "2 10             7                  1                      \n",
       "3  0             0                  0                      \n",
       "  YearsWithCurrManager\n",
       "1 5                   \n",
       "2 7                   \n",
       "3 0                   "
      ]
     },
     "metadata": {},
     "output_type": "display_data"
    }
   ],
   "source": [
    "head(df.train, n=3)"
   ]
  },
  {
   "cell_type": "code",
   "execution_count": 3,
   "metadata": {},
   "outputs": [
    {
     "data": {
      "text/html": [
       "<table>\n",
       "<caption>A data.frame: 3 × 27</caption>\n",
       "<thead>\n",
       "\t<tr><th></th><th scope=col>Age</th><th scope=col>Attrition</th><th scope=col>BusinessTravel</th><th scope=col>Department</th><th scope=col>DistanceFromHome</th><th scope=col>Education</th><th scope=col>EducationField</th><th scope=col>EmployeeNumber</th><th scope=col>EnvironmentSatisfaction</th><th scope=col>Gender</th><th scope=col>JobInvolvement</th><th scope=col>JobLevel</th><th scope=col>JobRole</th><th scope=col>JobSatisfaction</th><th scope=col>MaritalStatus</th><th scope=col>MonthlyIncome</th><th scope=col>NumCompaniesWorked</th><th scope=col>PerformanceRating</th><th scope=col>RelationshipSatisfaction</th><th scope=col>StockOptionLevel</th><th scope=col>TotalWorkingYears</th><th scope=col>TrainingTimesLastYear</th><th scope=col>WorkLifeBalance</th><th scope=col>YearsAtCompany</th><th scope=col>YearsInCurrentRole</th><th scope=col>YearsSinceLastPromotion</th><th scope=col>YearsWithCurrManager</th></tr>\n",
       "\t<tr><th></th><th scope=col>&lt;int&gt;</th><th scope=col>&lt;fct&gt;</th><th scope=col>&lt;fct&gt;</th><th scope=col>&lt;fct&gt;</th><th scope=col>&lt;int&gt;</th><th scope=col>&lt;int&gt;</th><th scope=col>&lt;fct&gt;</th><th scope=col>&lt;int&gt;</th><th scope=col>&lt;int&gt;</th><th scope=col>&lt;fct&gt;</th><th scope=col>&lt;int&gt;</th><th scope=col>&lt;int&gt;</th><th scope=col>&lt;fct&gt;</th><th scope=col>&lt;int&gt;</th><th scope=col>&lt;fct&gt;</th><th scope=col>&lt;int&gt;</th><th scope=col>&lt;int&gt;</th><th scope=col>&lt;int&gt;</th><th scope=col>&lt;int&gt;</th><th scope=col>&lt;int&gt;</th><th scope=col>&lt;int&gt;</th><th scope=col>&lt;int&gt;</th><th scope=col>&lt;int&gt;</th><th scope=col>&lt;int&gt;</th><th scope=col>&lt;int&gt;</th><th scope=col>&lt;int&gt;</th><th scope=col>&lt;int&gt;</th></tr>\n",
       "</thead>\n",
       "<tbody>\n",
       "\t<tr><th scope=row>1</th><td>38</td><td>No</td><td>Travel_Frequently</td><td>Research &amp; Development</td><td>23</td><td>3</td><td>Life Sciences</td><td>12</td><td>4</td><td><span style=white-space:pre-wrap>Male  </span></td><td>2</td><td>3</td><td>Manufacturing Director</td><td>3</td><td><span style=white-space:pre-wrap>Single  </span></td><td>9526</td><td>0</td><td>4</td><td>2</td><td>0</td><td>10</td><td>2</td><td>3</td><td> 9</td><td>7</td><td>1</td><td>8</td></tr>\n",
       "\t<tr><th scope=row>2</th><td>35</td><td>No</td><td><span style=white-space:pre-wrap>Travel_Rarely    </span></td><td>Research &amp; Development</td><td>16</td><td>3</td><td><span style=white-space:pre-wrap>Medical      </span></td><td>14</td><td>1</td><td><span style=white-space:pre-wrap>Male  </span></td><td>4</td><td>1</td><td>Laboratory Technician </td><td>2</td><td>Married </td><td>2426</td><td>0</td><td>3</td><td>3</td><td>1</td><td> 6</td><td>5</td><td>3</td><td> 5</td><td>4</td><td>0</td><td>3</td></tr>\n",
       "\t<tr><th scope=row>3</th><td>29</td><td>No</td><td><span style=white-space:pre-wrap>Travel_Rarely    </span></td><td>Research &amp; Development</td><td>21</td><td>4</td><td>Life Sciences</td><td>20</td><td>2</td><td>Female</td><td>4</td><td>3</td><td>Manufacturing Director</td><td>1</td><td>Divorced</td><td>9980</td><td>1</td><td>3</td><td>3</td><td>1</td><td>10</td><td>1</td><td>3</td><td>10</td><td>9</td><td>8</td><td>8</td></tr>\n",
       "</tbody>\n",
       "</table>\n"
      ],
      "text/latex": [
       "A data.frame: 3 × 27\n",
       "\\begin{tabular}{r|lllllllllllllllllllllllllll}\n",
       "  & Age & Attrition & BusinessTravel & Department & DistanceFromHome & Education & EducationField & EmployeeNumber & EnvironmentSatisfaction & Gender & JobInvolvement & JobLevel & JobRole & JobSatisfaction & MaritalStatus & MonthlyIncome & NumCompaniesWorked & PerformanceRating & RelationshipSatisfaction & StockOptionLevel & TotalWorkingYears & TrainingTimesLastYear & WorkLifeBalance & YearsAtCompany & YearsInCurrentRole & YearsSinceLastPromotion & YearsWithCurrManager\\\\\n",
       "  & <int> & <fct> & <fct> & <fct> & <int> & <int> & <fct> & <int> & <int> & <fct> & <int> & <int> & <fct> & <int> & <fct> & <int> & <int> & <int> & <int> & <int> & <int> & <int> & <int> & <int> & <int> & <int> & <int>\\\\\n",
       "\\hline\n",
       "\t1 & 38 & No & Travel\\_Frequently & Research \\& Development & 23 & 3 & Life Sciences & 12 & 4 & Male   & 2 & 3 & Manufacturing Director & 3 & Single   & 9526 & 0 & 4 & 2 & 0 & 10 & 2 & 3 &  9 & 7 & 1 & 8\\\\\n",
       "\t2 & 35 & No & Travel\\_Rarely     & Research \\& Development & 16 & 3 & Medical       & 14 & 1 & Male   & 4 & 1 & Laboratory Technician  & 2 & Married  & 2426 & 0 & 3 & 3 & 1 &  6 & 5 & 3 &  5 & 4 & 0 & 3\\\\\n",
       "\t3 & 29 & No & Travel\\_Rarely     & Research \\& Development & 21 & 4 & Life Sciences & 20 & 2 & Female & 4 & 3 & Manufacturing Director & 1 & Divorced & 9980 & 1 & 3 & 3 & 1 & 10 & 1 & 3 & 10 & 9 & 8 & 8\\\\\n",
       "\\end{tabular}\n"
      ],
      "text/markdown": [
       "\n",
       "A data.frame: 3 × 27\n",
       "\n",
       "| <!--/--> | Age &lt;int&gt; | Attrition &lt;fct&gt; | BusinessTravel &lt;fct&gt; | Department &lt;fct&gt; | DistanceFromHome &lt;int&gt; | Education &lt;int&gt; | EducationField &lt;fct&gt; | EmployeeNumber &lt;int&gt; | EnvironmentSatisfaction &lt;int&gt; | Gender &lt;fct&gt; | JobInvolvement &lt;int&gt; | JobLevel &lt;int&gt; | JobRole &lt;fct&gt; | JobSatisfaction &lt;int&gt; | MaritalStatus &lt;fct&gt; | MonthlyIncome &lt;int&gt; | NumCompaniesWorked &lt;int&gt; | PerformanceRating &lt;int&gt; | RelationshipSatisfaction &lt;int&gt; | StockOptionLevel &lt;int&gt; | TotalWorkingYears &lt;int&gt; | TrainingTimesLastYear &lt;int&gt; | WorkLifeBalance &lt;int&gt; | YearsAtCompany &lt;int&gt; | YearsInCurrentRole &lt;int&gt; | YearsSinceLastPromotion &lt;int&gt; | YearsWithCurrManager &lt;int&gt; |\n",
       "|---|---|---|---|---|---|---|---|---|---|---|---|---|---|---|---|---|---|---|---|---|---|---|---|---|---|---|---|\n",
       "| 1 | 38 | No | Travel_Frequently | Research &amp; Development | 23 | 3 | Life Sciences | 12 | 4 | Male   | 2 | 3 | Manufacturing Director | 3 | Single   | 9526 | 0 | 4 | 2 | 0 | 10 | 2 | 3 |  9 | 7 | 1 | 8 |\n",
       "| 2 | 35 | No | Travel_Rarely     | Research &amp; Development | 16 | 3 | Medical       | 14 | 1 | Male   | 4 | 1 | Laboratory Technician  | 2 | Married  | 2426 | 0 | 3 | 3 | 1 |  6 | 5 | 3 |  5 | 4 | 0 | 3 |\n",
       "| 3 | 29 | No | Travel_Rarely     | Research &amp; Development | 21 | 4 | Life Sciences | 20 | 2 | Female | 4 | 3 | Manufacturing Director | 1 | Divorced | 9980 | 1 | 3 | 3 | 1 | 10 | 1 | 3 | 10 | 9 | 8 | 8 |\n",
       "\n"
      ],
      "text/plain": [
       "  Age Attrition BusinessTravel    Department             DistanceFromHome\n",
       "1 38  No        Travel_Frequently Research & Development 23              \n",
       "2 35  No        Travel_Rarely     Research & Development 16              \n",
       "3 29  No        Travel_Rarely     Research & Development 21              \n",
       "  Education EducationField EmployeeNumber EnvironmentSatisfaction Gender\n",
       "1 3         Life Sciences  12             4                       Male  \n",
       "2 3         Medical        14             1                       Male  \n",
       "3 4         Life Sciences  20             2                       Female\n",
       "  JobInvolvement JobLevel JobRole                JobSatisfaction MaritalStatus\n",
       "1 2              3        Manufacturing Director 3               Single       \n",
       "2 4              1        Laboratory Technician  2               Married      \n",
       "3 4              3        Manufacturing Director 1               Divorced     \n",
       "  MonthlyIncome NumCompaniesWorked PerformanceRating RelationshipSatisfaction\n",
       "1 9526          0                  4                 2                       \n",
       "2 2426          0                  3                 3                       \n",
       "3 9980          1                  3                 3                       \n",
       "  StockOptionLevel TotalWorkingYears TrainingTimesLastYear WorkLifeBalance\n",
       "1 0                10                2                     3              \n",
       "2 1                 6                5                     3              \n",
       "3 1                10                1                     3              \n",
       "  YearsAtCompany YearsInCurrentRole YearsSinceLastPromotion\n",
       "1  9             7                  1                      \n",
       "2  5             4                  0                      \n",
       "3 10             9                  8                      \n",
       "  YearsWithCurrManager\n",
       "1 8                   \n",
       "2 3                   \n",
       "3 8                   "
      ]
     },
     "metadata": {},
     "output_type": "display_data"
    }
   ],
   "source": [
    "head(df.test, n=3)"
   ]
  },
  {
   "cell_type": "markdown",
   "metadata": {},
   "source": [
    "### 觀察統計數據"
   ]
  },
  {
   "cell_type": "code",
   "execution_count": 4,
   "metadata": {},
   "outputs": [
    {
     "data": {
      "text/plain": [
       "      Age        Attrition           BusinessTravel\n",
       " Min.   :18.00   No :987   Non-Travel       :116   \n",
       " 1st Qu.:30.00   Yes:190   Travel_Frequently:220   \n",
       " Median :36.00             Travel_Rarely    :841   \n",
       " Mean   :36.82                                     \n",
       " 3rd Qu.:42.00                                     \n",
       " Max.   :60.00                                     \n",
       "                                                   \n",
       "                  Department  DistanceFromHome   Education    \n",
       " Human Resources       : 54   Min.   : 1.000   Min.   :1.000  \n",
       " Research & Development:759   1st Qu.: 2.000   1st Qu.:2.000  \n",
       " Sales                 :364   Median : 7.000   Median :3.000  \n",
       "                              Mean   : 9.034   Mean   :2.926  \n",
       "                              3rd Qu.:13.000   3rd Qu.:4.000  \n",
       "                              Max.   :29.000   Max.   :5.000  \n",
       "                                                              \n",
       "          EducationField EmployeeNumber EnvironmentSatisfaction    Gender   \n",
       " Human Resources : 23    Min.   :   1   Min.   :1.000           Female:474  \n",
       " Life Sciences   :491    1st Qu.: 514   1st Qu.:2.000           Male  :703  \n",
       " Marketing       :136    Median :1029   Median :3.000                       \n",
       " Medical         :364    Mean   :1034   Mean   :2.728                       \n",
       " Other           : 59    3rd Qu.:1554   3rd Qu.:4.000                       \n",
       " Technical Degree:104    Max.   :2065   Max.   :4.000                       \n",
       "                                                                            \n",
       " JobInvolvement     JobLevel                          JobRole   \n",
       " Min.   :1.000   Min.   :1.000   Sales Executive          :270  \n",
       " 1st Qu.:2.000   1st Qu.:1.000   Research Scientist       :237  \n",
       " Median :3.000   Median :2.000   Laboratory Technician    :202  \n",
       " Mean   :2.723   Mean   :2.066   Manufacturing Director   :116  \n",
       " 3rd Qu.:3.000   3rd Qu.:3.000   Healthcare Representative:101  \n",
       " Max.   :4.000   Max.   :5.000   Manager                  : 80  \n",
       "                                 (Other)                  :171  \n",
       " JobSatisfaction  MaritalStatus MonthlyIncome   NumCompaniesWorked\n",
       " Min.   :1.000   Divorced:259   Min.   : 1009   Min.   :0.000     \n",
       " 1st Qu.:2.000   Married :542   1st Qu.: 2911   1st Qu.:1.000     \n",
       " Median :3.000   Single  :376   Median : 4869   Median :2.000     \n",
       " Mean   :2.691                  Mean   : 6459   Mean   :2.679     \n",
       " 3rd Qu.:4.000                  3rd Qu.: 8103   3rd Qu.:4.000     \n",
       " Max.   :4.000                  Max.   :19999   Max.   :9.000     \n",
       "                                                                  \n",
       " PerformanceRating RelationshipSatisfaction StockOptionLevel TotalWorkingYears\n",
       " Min.   :3.000     Min.   :1.000            Min.   :0.0000   Min.   : 0.00    \n",
       " 1st Qu.:3.000     1st Qu.:2.000            1st Qu.:0.0000   1st Qu.: 6.00    \n",
       " Median :3.000     Median :3.000            Median :1.0000   Median :10.00    \n",
       " Mean   :3.144     Mean   :2.714            Mean   :0.7901   Mean   :11.19    \n",
       " 3rd Qu.:3.000     3rd Qu.:4.000            3rd Qu.:1.0000   3rd Qu.:15.00    \n",
       " Max.   :4.000     Max.   :4.000            Max.   :3.0000   Max.   :40.00    \n",
       "                                                                              \n",
       " TrainingTimesLastYear WorkLifeBalance YearsAtCompany   YearsInCurrentRole\n",
       " Min.   :0.000         Min.   :1.000   Min.   : 0.000   Min.   : 0.00     \n",
       " 1st Qu.:2.000         1st Qu.:2.000   1st Qu.: 3.000   1st Qu.: 2.00     \n",
       " Median :3.000         Median :3.000   Median : 5.000   Median : 3.00     \n",
       " Mean   :2.815         Mean   :2.761   Mean   : 7.091   Mean   : 4.27     \n",
       " 3rd Qu.:3.000         3rd Qu.:3.000   3rd Qu.:10.000   3rd Qu.: 7.00     \n",
       " Max.   :6.000         Max.   :4.000   Max.   :40.000   Max.   :18.00     \n",
       "                                                                          \n",
       " YearsSinceLastPromotion YearsWithCurrManager\n",
       " Min.   : 0.000          Min.   : 0.000      \n",
       " 1st Qu.: 0.000          1st Qu.: 2.000      \n",
       " Median : 1.000          Median : 3.000      \n",
       " Mean   : 2.173          Mean   : 4.176      \n",
       " 3rd Qu.: 3.000          3rd Qu.: 7.000      \n",
       " Max.   :15.000          Max.   :17.000      \n",
       "                                             "
      ]
     },
     "metadata": {},
     "output_type": "display_data"
    }
   ],
   "source": [
    "summary(df.train)"
   ]
  },
  {
   "cell_type": "markdown",
   "metadata": {},
   "source": [
    "### 視覺化分析"
   ]
  },
  {
   "cell_type": "code",
   "execution_count": 5,
   "metadata": {},
   "outputs": [
    {
     "data": {
      "image/png": "[encoded data removed]",
      "text/plain": [
       "plot without title"
      ]
     },
     "metadata": {
      "image/png": {
       "height": 420,
       "width": 420
      }
     },
     "output_type": "display_data"
    }
   ],
   "source": [
    "ggplot(df.train, aes(x = Attrition)) + geom_bar()"
   ]
  },
  {
   "cell_type": "code",
   "execution_count": 6,
   "metadata": {},
   "outputs": [
    {
     "data": {
      "image/png": "[encoded data removed]",
      "text/plain": [
       "plot without title"
      ]
     },
     "metadata": {
      "image/png": {
       "height": 420,
       "width": 420
      }
     },
     "output_type": "display_data"
    }
   ],
   "source": [
    "ggplot(df.train, aes(x = Age, fill = Attrition)) + geom_bar() + theme(axis.text.x = element_text(angle = 90, vjust = 0.5, hjust=1))"
   ]
  },
  {
   "cell_type": "markdown",
   "metadata": {},
   "source": [
    "### 觀察結果\n",
    "\n",
    "1. 會離職的人數與不會離職的人數相比，差距很大，這會導致不平衡的預測結果"
   ]
  }
 ],
 "metadata": {
  "kernelspec": {
   "display_name": "R",
   "language": "R",
   "name": "ir"
  },
  "language_info": {
   "codemirror_mode": "r",
   "file_extension": ".r",
   "mimetype": "text/x-r-source",
   "name": "R",
   "pygments_lexer": "r",
   "version": "4.0.3"
  }
 },
 "nbformat": 4,
 "nbformat_minor": 4
}
