{
 "cells": [
  {
   "cell_type": "markdown",
   "metadata": {},
   "source": [
    "# preprocessing\n",
    "\n",
    "## 資料問題\n",
    "\n",
    "1. 精準度\n",
    "2. 完整度\n",
    "3. 正確性\n",
    "4. 更新度\n",
    "5. 可信度\n",
    "6. 可解釋性"
   ]
  },
  {
   "cell_type": "markdown",
   "metadata": {},
   "source": [
    "## major tasks\n",
    "\n",
    "1. data cleaning\n",
    "2. data integration: 資料的整併\n",
    "3. data reduction\n",
    "4. data transformation & discretization"
   ]
  },
  {
   "cell_type": "markdown",
   "metadata": {},
   "source": [
    "## data cleaning\n",
    "\n",
    "1. 真實世界的資料都是 dirty 的\n",
    " - 不完整\n",
    " - noisy\n",
    " - inconsistent\n",
    " - intentional"
   ]
  },
  {
   "cell_type": "markdown",
   "metadata": {},
   "source": [
    "## incomplete(missing) data\n",
    "\n",
    "1. 如何出現 missing data\n",
    "  - 機器問題\n",
    "  - 資料庫正規化\n",
    "  - 資料被刪掉\n",
    "  - 當時不覺得重要\n",
    "  - 沒有紀錄歷程\n",
    "1. 如何處理\n",
    "  - 拿掉這筆\n",
    "    - 資料更少更難建模\n",
    "  - 手動填寫\n",
    "  - 自動填寫\n",
    "    - 給 unknown\n",
    "    - 給平均值\n",
    "      - 全部的平均值\n",
    "      - 該 class 的平均值\n",
    "    - 根據其他 feature 來 regression 出他的值"
   ]
  },
  {
   "cell_type": "markdown",
   "metadata": {},
   "source": [
    "## noisy data\n",
    "\n",
    "- 隨機性錯誤，例如輸入錯誤等，或正規化沒處理好\n",
    "- 如何處理\n",
    "  - regression\n",
    "  - binning\n",
    "  - clustering\n",
    "  - 人機合作\n",
    "- 如何偵測\n",
    "  - 使用 metadata\n",
    "  - 檢查欄位 overloading\n",
    "  - 檢查唯一性、連續性、null\n",
    "  - data scrubbing: 用 domain knowledge 來偵測錯誤情況\n",
    "  - data auditing: 分析、驗證資料\n",
    "- 資料轉換及整合\n",
    "  - 用資料轉換工具\n",
    "  - ETL\n"
   ]
  },
  {
   "cell_type": "markdown",
   "metadata": {},
   "source": [
    "## 資料整合性\n",
    "\n",
    "- 資料散落在不同的資料源，需要整併在同一處\n",
    "- scheam integration: \n",
    "  - 命名問題，要確認 join 的 domain 是否一樣\n",
    "- entity identification problem\n",
    "  - 真實世界是一個 entity，但在資料裡是不同的 entity"
   ]
  },
  {
   "cell_type": "markdown",
   "metadata": {},
   "source": [
    "## redundancy\n",
    "\n",
    "1. 可用 correlation、covariance 分析處理 redundant\n"
   ]
  },
  {
   "cell_type": "markdown",
   "metadata": {},
   "source": [
    "## data reduction\n",
    "\n",
    "- 把資料變小，使得處理起來速度較快\n",
    "- 做轉換\n",
    "  - PCA\n",
    "  - FFT\n",
    "  - wavelet trans\n",
    "  - descrete cosin trans\n",
    "  - feature subset selection\n",
    "  - feature creation"
   ]
  },
  {
   "cell_type": "markdown",
   "metadata": {},
   "source": [
    "## attribute subset selection\n",
    "\n",
    "- redundant attributes\n",
    "  - duplicate\n",
    "- inrelevant attributes\n",
    "  - no information"
   ]
  },
  {
   "cell_type": "markdown",
   "metadata": {},
   "source": [
    "## 找出最好的 subset\n",
    "\n",
    "- 暴力解有 $2^d$ 取法\n",
    "- 用 heuristic 的方法\n",
    "  - 用 entropy 來算\n",
    "  - 取第一名\n",
    "  - 取對第一名影響最大的\n",
    "  - 把最差的去掉\n",
    "  - branch and bound"
   ]
  },
  {
   "cell_type": "markdown",
   "metadata": {},
   "source": [
    "### svm 需不需要 feature selection?\n",
    "\n",
    "理論上不用，但可以增加效率"
   ]
  },
  {
   "cell_type": "markdown",
   "metadata": {},
   "source": [
    "## 產生新的 attribute\n",
    "\n",
    "- 例如把聲波轉成頻率\n",
    "- 或身高體重轉成 BMI\n",
    "- normalization\n",
    "  - min-max\n",
    "  - z-score\n",
    "  - 同除 n (ex 10)\n",
    "- discretization 切區間\n",
    "  - binning\n",
    "  - histogram\n",
    "  - clustering\n",
    "  - dt\n",
    "- concept hierarchy generation\n",
    "  - "
   ]
  }
 ],
 "metadata": {
  "kernelspec": {
   "display_name": "Python 3",
   "language": "python",
   "name": "python3"
  },
  "language_info": {
   "codemirror_mode": {
    "name": "ipython",
    "version": 3
   },
   "file_extension": ".py",
   "mimetype": "text/x-python",
   "name": "python",
   "nbconvert_exporter": "python",
   "pygments_lexer": "ipython3",
   "version": "3.8.6"
  }
 },
 "nbformat": 4,
 "nbformat_minor": 4
}
