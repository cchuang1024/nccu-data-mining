{
 "cells": [
  {
   "cell_type": "code",
   "execution_count": null,
   "metadata": {},
   "outputs": [],
   "source": []
  },
  {
   "cell_type": "code",
   "execution_count": null,
   "metadata": {},
   "outputs": [],
   "source": []
  },
  {
   "cell_type": "markdown",
   "metadata": {},
   "source": [
    "### 載入使用到的套件"
   ]
  },
  {
   "cell_type": "code",
   "execution_count": 1,
   "metadata": {},
   "outputs": [
    {
     "name": "stderr",
     "output_type": "stream",
     "text": [
      "randomForest 4.6-14\n",
      "\n",
      "Type rfNews() to see new features/changes/bug fixes.\n",
      "\n",
      "\n",
      "Attaching package: ‘randomForest’\n",
      "\n",
      "\n",
      "The following object is masked from ‘package:ggplot2’:\n",
      "\n",
      "    margin\n",
      "\n",
      "\n",
      "Loading required package: lattice\n",
      "\n",
      "Loading required package: grid\n",
      "\n",
      "Registered S3 method overwritten by 'quantmod':\n",
      "  method            from\n",
      "  as.zoo.data.frame zoo \n",
      "\n"
     ]
    }
   ],
   "source": [
    "library(ggplot2)\n",
    "library(randomForest)\n",
    "library(rpart)\n",
    "library(e1071)\n",
    "library(DMwR)\n",
    "library(ROCR)\n",
    "library(fastAdaboost)\n",
    "\n",
    "options(repr.matrix.max.cols=150, repr.matrix.max.rows=200)"
   ]
  },
  {
   "cell_type": "markdown",
   "metadata": {},
   "source": [
    "### 載入測試資料集"
   ]
  },
  {
   "cell_type": "code",
   "execution_count": 2,
   "metadata": {
    "scrolled": true
   },
   "outputs": [],
   "source": [
    "df.train <- read.csv('./hw2/training.csv', sep = ',')\n",
    "df.test <- read.csv('./hw2/testing.csv', sep = ',')"
   ]
  },
  {
   "cell_type": "markdown",
   "metadata": {},
   "source": [
    "### 檢視資料集"
   ]
  },
  {
   "cell_type": "markdown",
   "metadata": {},
   "source": [
    "#### 檢視欄位"
   ]
  },
  {
   "cell_type": "code",
   "execution_count": 3,
   "metadata": {
    "scrolled": true
   },
   "outputs": [
    {
     "data": {
      "text/html": [
       "<style>\n",
       ".list-inline {list-style: none; margin:0; padding: 0}\n",
       ".list-inline>li {display: inline-block}\n",
       ".list-inline>li:not(:last-child)::after {content: \"\\00b7\"; padding: 0 .5ex}\n",
       "</style>\n",
       "<ol class=list-inline><li>'Age'</li><li>'Attrition'</li><li>'BusinessTravel'</li><li>'Department'</li><li>'DistanceFromHome'</li><li>'Education'</li><li>'EducationField'</li><li>'EmployeeNumber'</li><li>'EnvironmentSatisfaction'</li><li>'Gender'</li><li>'JobInvolvement'</li><li>'JobLevel'</li><li>'JobRole'</li><li>'JobSatisfaction'</li><li>'MaritalStatus'</li><li>'MonthlyIncome'</li><li>'NumCompaniesWorked'</li><li>'PerformanceRating'</li><li>'RelationshipSatisfaction'</li><li>'StockOptionLevel'</li><li>'TotalWorkingYears'</li><li>'TrainingTimesLastYear'</li><li>'WorkLifeBalance'</li><li>'YearsAtCompany'</li><li>'YearsInCurrentRole'</li><li>'YearsSinceLastPromotion'</li><li>'YearsWithCurrManager'</li></ol>\n"
      ],
      "text/latex": [
       "\\begin{enumerate*}\n",
       "\\item 'Age'\n",
       "\\item 'Attrition'\n",
       "\\item 'BusinessTravel'\n",
       "\\item 'Department'\n",
       "\\item 'DistanceFromHome'\n",
       "\\item 'Education'\n",
       "\\item 'EducationField'\n",
       "\\item 'EmployeeNumber'\n",
       "\\item 'EnvironmentSatisfaction'\n",
       "\\item 'Gender'\n",
       "\\item 'JobInvolvement'\n",
       "\\item 'JobLevel'\n",
       "\\item 'JobRole'\n",
       "\\item 'JobSatisfaction'\n",
       "\\item 'MaritalStatus'\n",
       "\\item 'MonthlyIncome'\n",
       "\\item 'NumCompaniesWorked'\n",
       "\\item 'PerformanceRating'\n",
       "\\item 'RelationshipSatisfaction'\n",
       "\\item 'StockOptionLevel'\n",
       "\\item 'TotalWorkingYears'\n",
       "\\item 'TrainingTimesLastYear'\n",
       "\\item 'WorkLifeBalance'\n",
       "\\item 'YearsAtCompany'\n",
       "\\item 'YearsInCurrentRole'\n",
       "\\item 'YearsSinceLastPromotion'\n",
       "\\item 'YearsWithCurrManager'\n",
       "\\end{enumerate*}\n"
      ],
      "text/markdown": [
       "1. 'Age'\n",
       "2. 'Attrition'\n",
       "3. 'BusinessTravel'\n",
       "4. 'Department'\n",
       "5. 'DistanceFromHome'\n",
       "6. 'Education'\n",
       "7. 'EducationField'\n",
       "8. 'EmployeeNumber'\n",
       "9. 'EnvironmentSatisfaction'\n",
       "10. 'Gender'\n",
       "11. 'JobInvolvement'\n",
       "12. 'JobLevel'\n",
       "13. 'JobRole'\n",
       "14. 'JobSatisfaction'\n",
       "15. 'MaritalStatus'\n",
       "16. 'MonthlyIncome'\n",
       "17. 'NumCompaniesWorked'\n",
       "18. 'PerformanceRating'\n",
       "19. 'RelationshipSatisfaction'\n",
       "20. 'StockOptionLevel'\n",
       "21. 'TotalWorkingYears'\n",
       "22. 'TrainingTimesLastYear'\n",
       "23. 'WorkLifeBalance'\n",
       "24. 'YearsAtCompany'\n",
       "25. 'YearsInCurrentRole'\n",
       "26. 'YearsSinceLastPromotion'\n",
       "27. 'YearsWithCurrManager'\n",
       "\n",
       "\n"
      ],
      "text/plain": [
       " [1] \"Age\"                      \"Attrition\"               \n",
       " [3] \"BusinessTravel\"           \"Department\"              \n",
       " [5] \"DistanceFromHome\"         \"Education\"               \n",
       " [7] \"EducationField\"           \"EmployeeNumber\"          \n",
       " [9] \"EnvironmentSatisfaction\"  \"Gender\"                  \n",
       "[11] \"JobInvolvement\"           \"JobLevel\"                \n",
       "[13] \"JobRole\"                  \"JobSatisfaction\"         \n",
       "[15] \"MaritalStatus\"            \"MonthlyIncome\"           \n",
       "[17] \"NumCompaniesWorked\"       \"PerformanceRating\"       \n",
       "[19] \"RelationshipSatisfaction\" \"StockOptionLevel\"        \n",
       "[21] \"TotalWorkingYears\"        \"TrainingTimesLastYear\"   \n",
       "[23] \"WorkLifeBalance\"          \"YearsAtCompany\"          \n",
       "[25] \"YearsInCurrentRole\"       \"YearsSinceLastPromotion\" \n",
       "[27] \"YearsWithCurrManager\"    "
      ]
     },
     "metadata": {},
     "output_type": "display_data"
    }
   ],
   "source": [
    "colnames(df.train)"
   ]
  },
  {
   "cell_type": "markdown",
   "metadata": {},
   "source": [
    "#### 檢視分類標籤欄位資料量比例"
   ]
  },
  {
   "cell_type": "code",
   "execution_count": 4,
   "metadata": {},
   "outputs": [
    {
     "data": {
      "image/png": "[encoded data removed]",
      "text/plain": [
       "plot without title"
      ]
     },
     "metadata": {
      "image/png": {
       "height": 420,
       "width": 420
      },
      "text/plain": {
       "height": 420,
       "width": 420
      }
     },
     "output_type": "display_data"
    }
   ],
   "source": [
    "ggplot(df.train, aes(x = Attrition)) + geom_bar()"
   ]
  },
  {
   "cell_type": "markdown",
   "metadata": {},
   "source": [
    "#### 檢視其他欄位與分類標籤欄位之比例"
   ]
  },
  {
   "cell_type": "code",
   "execution_count": 5,
   "metadata": {},
   "outputs": [
    {
     "data": {
      "image/png": "[encoded data removed]",
      "text/plain": [
       "plot without title"
      ]
     },
     "metadata": {
      "image/png": {
       "height": 420,
       "width": 420
      },
      "text/plain": {
       "height": 420,
       "width": 420
      }
     },
     "output_type": "display_data"
    }
   ],
   "source": [
    "ggplot(df.train, aes(x = EnvironmentSatisfaction, fill = Attrition)) + geom_bar() + theme(axis.text.x = element_text(angle = 90, vjust = 0.5, hjust=1))"
   ]
  },
  {
   "cell_type": "code",
   "execution_count": 6,
   "metadata": {},
   "outputs": [
    {
     "data": {
      "image/png": "[encoded data removed]",
      "text/plain": [
       "plot without title"
      ]
     },
     "metadata": {
      "image/png": {
       "height": 420,
       "width": 420
      },
      "text/plain": {
       "height": 420,
       "width": 420
      }
     },
     "output_type": "display_data"
    }
   ],
   "source": [
    "ggplot(df.train, aes(x = JobSatisfaction, fill = Attrition)) + geom_bar() + theme(axis.text.x = element_text(angle = 90, vjust = 0.5, hjust=1))"
   ]
  },
  {
   "cell_type": "code",
   "execution_count": 7,
   "metadata": {},
   "outputs": [
    {
     "data": {
      "image/png": "[encoded data removed]",
      "text/plain": [
       "plot without title"
      ]
     },
     "metadata": {
      "image/png": {
       "height": 420,
       "width": 420
      },
      "text/plain": {
       "height": 420,
       "width": 420
      }
     },
     "output_type": "display_data"
    }
   ],
   "source": [
    "ggplot(df.test, aes(x = PerformanceRating, fill = Attrition)) + geom_bar() + theme(axis.text.x = element_text(angle = 90, vjust = 0.5, hjust=1))"
   ]
  },
  {
   "cell_type": "markdown",
   "metadata": {},
   "source": [
    "#### 檢視統計分佈"
   ]
  },
  {
   "cell_type": "code",
   "execution_count": 8,
   "metadata": {},
   "outputs": [
    {
     "data": {
      "text/plain": [
       "      Age         Attrition         BusinessTravel      Department       \n",
       " Min.   :18.00   Length:1177        Length:1177        Length:1177       \n",
       " 1st Qu.:30.00   Class :character   Class :character   Class :character  \n",
       " Median :36.00   Mode  :character   Mode  :character   Mode  :character  \n",
       " Mean   :36.82                                                           \n",
       " 3rd Qu.:42.00                                                           \n",
       " Max.   :60.00                                                           \n",
       " DistanceFromHome   Education     EducationField     EmployeeNumber\n",
       " Min.   : 1.000   Min.   :1.000   Length:1177        Min.   :   1  \n",
       " 1st Qu.: 2.000   1st Qu.:2.000   Class :character   1st Qu.: 514  \n",
       " Median : 7.000   Median :3.000   Mode  :character   Median :1029  \n",
       " Mean   : 9.034   Mean   :2.926                      Mean   :1034  \n",
       " 3rd Qu.:13.000   3rd Qu.:4.000                      3rd Qu.:1554  \n",
       " Max.   :29.000   Max.   :5.000                      Max.   :2065  \n",
       " EnvironmentSatisfaction    Gender          JobInvolvement     JobLevel    \n",
       " Min.   :1.000           Length:1177        Min.   :1.000   Min.   :1.000  \n",
       " 1st Qu.:2.000           Class :character   1st Qu.:2.000   1st Qu.:1.000  \n",
       " Median :3.000           Mode  :character   Median :3.000   Median :2.000  \n",
       " Mean   :2.728                              Mean   :2.723   Mean   :2.066  \n",
       " 3rd Qu.:4.000                              3rd Qu.:3.000   3rd Qu.:3.000  \n",
       " Max.   :4.000                              Max.   :4.000   Max.   :5.000  \n",
       "   JobRole          JobSatisfaction MaritalStatus      MonthlyIncome  \n",
       " Length:1177        Min.   :1.000   Length:1177        Min.   : 1009  \n",
       " Class :character   1st Qu.:2.000   Class :character   1st Qu.: 2911  \n",
       " Mode  :character   Median :3.000   Mode  :character   Median : 4869  \n",
       "                    Mean   :2.691                      Mean   : 6459  \n",
       "                    3rd Qu.:4.000                      3rd Qu.: 8103  \n",
       "                    Max.   :4.000                      Max.   :19999  \n",
       " NumCompaniesWorked PerformanceRating RelationshipSatisfaction StockOptionLevel\n",
       " Min.   :0.000      Min.   :3.000     Min.   :1.000            Min.   :0.0000  \n",
       " 1st Qu.:1.000      1st Qu.:3.000     1st Qu.:2.000            1st Qu.:0.0000  \n",
       " Median :2.000      Median :3.000     Median :3.000            Median :1.0000  \n",
       " Mean   :2.679      Mean   :3.144     Mean   :2.714            Mean   :0.7901  \n",
       " 3rd Qu.:4.000      3rd Qu.:3.000     3rd Qu.:4.000            3rd Qu.:1.0000  \n",
       " Max.   :9.000      Max.   :4.000     Max.   :4.000            Max.   :3.0000  \n",
       " TotalWorkingYears TrainingTimesLastYear WorkLifeBalance YearsAtCompany  \n",
       " Min.   : 0.00     Min.   :0.000         Min.   :1.000   Min.   : 0.000  \n",
       " 1st Qu.: 6.00     1st Qu.:2.000         1st Qu.:2.000   1st Qu.: 3.000  \n",
       " Median :10.00     Median :3.000         Median :3.000   Median : 5.000  \n",
       " Mean   :11.19     Mean   :2.815         Mean   :2.761   Mean   : 7.091  \n",
       " 3rd Qu.:15.00     3rd Qu.:3.000         3rd Qu.:3.000   3rd Qu.:10.000  \n",
       " Max.   :40.00     Max.   :6.000         Max.   :4.000   Max.   :40.000  \n",
       " YearsInCurrentRole YearsSinceLastPromotion YearsWithCurrManager\n",
       " Min.   : 0.00      Min.   : 0.000          Min.   : 0.000      \n",
       " 1st Qu.: 2.00      1st Qu.: 0.000          1st Qu.: 2.000      \n",
       " Median : 3.00      Median : 1.000          Median : 3.000      \n",
       " Mean   : 4.27      Mean   : 2.173          Mean   : 4.176      \n",
       " 3rd Qu.: 7.00      3rd Qu.: 3.000          3rd Qu.: 7.000      \n",
       " Max.   :18.00      Max.   :15.000          Max.   :17.000      "
      ]
     },
     "metadata": {},
     "output_type": "display_data"
    }
   ],
   "source": [
    "summary(df.train)"
   ]
  },
  {
   "cell_type": "markdown",
   "metadata": {},
   "source": [
    "#### 計算標籤比例"
   ]
  },
  {
   "cell_type": "code",
   "execution_count": 9,
   "metadata": {},
   "outputs": [],
   "source": [
    "count_rate <- function(df, col_name, col_values){\n",
    "  res <- list()\n",
    "  for(col_value in col_values){\n",
    "    res[col_value] <- (nrow(df.train[(df.train[col_name]==col_value) & (df.train['Attrition']=='Yes'), ]) / \n",
    "                      nrow(df.train[(df.train[col_name]==col_value), ]))\n",
    "  }\n",
    "  return(res)\n",
    "}"
   ]
  },
  {
   "cell_type": "code",
   "execution_count": 10,
   "metadata": {},
   "outputs": [
    {
     "data": {
      "text/html": [
       "<dl>\n",
       "\t<dt>$Female</dt>\n",
       "\t\t<dd>0.156118143459916</dd>\n",
       "\t<dt>$Male</dt>\n",
       "\t\t<dd>0.165007112375533</dd>\n",
       "</dl>\n"
      ],
      "text/latex": [
       "\\begin{description}\n",
       "\\item[\\$Female] 0.156118143459916\n",
       "\\item[\\$Male] 0.165007112375533\n",
       "\\end{description}\n"
      ],
      "text/markdown": [
       "$Female\n",
       ":   0.156118143459916\n",
       "$Male\n",
       ":   0.165007112375533\n",
       "\n",
       "\n"
      ],
      "text/plain": [
       "$Female\n",
       "[1] 0.1561181\n",
       "\n",
       "$Male\n",
       "[1] 0.1650071\n"
      ]
     },
     "metadata": {},
     "output_type": "display_data"
    }
   ],
   "source": [
    "# Gender\n",
    "count_rate(df.train, 'Gender', c(as.character(unique(df.train[, 'Gender']))))"
   ]
  },
  {
   "cell_type": "code",
   "execution_count": 11,
   "metadata": {},
   "outputs": [
    {
     "data": {
      "text/html": [
       "<dl>\n",
       "\t<dt>$Travel_Rarely</dt>\n",
       "\t\t<dd>0.145065398335315</dd>\n",
       "\t<dt>$Travel_Frequently</dt>\n",
       "\t\t<dd>0.268181818181818</dd>\n",
       "\t<dt>$`Non-Travel`</dt>\n",
       "\t\t<dd>0.0775862068965517</dd>\n",
       "</dl>\n"
      ],
      "text/latex": [
       "\\begin{description}\n",
       "\\item[\\$Travel\\_Rarely] 0.145065398335315\n",
       "\\item[\\$Travel\\_Frequently] 0.268181818181818\n",
       "\\item[\\$`Non-Travel`] 0.0775862068965517\n",
       "\\end{description}\n"
      ],
      "text/markdown": [
       "$Travel_Rarely\n",
       ":   0.145065398335315\n",
       "$Travel_Frequently\n",
       ":   0.268181818181818\n",
       "$`Non-Travel`\n",
       ":   0.0775862068965517\n",
       "\n",
       "\n"
      ],
      "text/plain": [
       "$Travel_Rarely\n",
       "[1] 0.1450654\n",
       "\n",
       "$Travel_Frequently\n",
       "[1] 0.2681818\n",
       "\n",
       "$`Non-Travel`\n",
       "[1] 0.07758621\n"
      ]
     },
     "metadata": {},
     "output_type": "display_data"
    }
   ],
   "source": [
    "# BusinessTravel\n",
    "count_rate(df.train, 'BusinessTravel', c(as.character(unique(df.train[, 'BusinessTravel']))))"
   ]
  },
  {
   "cell_type": "code",
   "execution_count": 12,
   "metadata": {},
   "outputs": [
    {
     "data": {
      "text/html": [
       "<dl>\n",
       "\t<dt>$Sales</dt>\n",
       "\t\t<dd>0.208791208791209</dd>\n",
       "\t<dt>$`Research &amp; Development`</dt>\n",
       "\t\t<dd>0.137022397891963</dd>\n",
       "\t<dt>$`Human Resources`</dt>\n",
       "\t\t<dd>0.185185185185185</dd>\n",
       "</dl>\n"
      ],
      "text/latex": [
       "\\begin{description}\n",
       "\\item[\\$Sales] 0.208791208791209\n",
       "\\item[\\$`Research \\& Development`] 0.137022397891963\n",
       "\\item[\\$`Human Resources`] 0.185185185185185\n",
       "\\end{description}\n"
      ],
      "text/markdown": [
       "$Sales\n",
       ":   0.208791208791209\n",
       "$`Research &amp; Development`\n",
       ":   0.137022397891963\n",
       "$`Human Resources`\n",
       ":   0.185185185185185\n",
       "\n",
       "\n"
      ],
      "text/plain": [
       "$Sales\n",
       "[1] 0.2087912\n",
       "\n",
       "$`Research & Development`\n",
       "[1] 0.1370224\n",
       "\n",
       "$`Human Resources`\n",
       "[1] 0.1851852\n"
      ]
     },
     "metadata": {},
     "output_type": "display_data"
    }
   ],
   "source": [
    "# Department\n",
    "count_rate(df.train, 'Department', c(as.character(unique(df.train[, 'Department']))))"
   ]
  },
  {
   "cell_type": "code",
   "execution_count": 13,
   "metadata": {},
   "outputs": [
    {
     "data": {
      "text/html": [
       "<dl>\n",
       "\t<dt>$`Sales Executive`</dt>\n",
       "\t\t<dd>0.17037037037037</dd>\n",
       "\t<dt>$`Research Scientist`</dt>\n",
       "\t\t<dd>0.156118143459916</dd>\n",
       "\t<dt>$`Laboratory Technician`</dt>\n",
       "\t\t<dd>0.222772277227723</dd>\n",
       "\t<dt>$`Healthcare Representative`</dt>\n",
       "\t\t<dd>0.0792079207920792</dd>\n",
       "\t<dt>$Manager</dt>\n",
       "\t\t<dd>0.0625</dd>\n",
       "\t<dt>$`Manufacturing Director`</dt>\n",
       "\t\t<dd>0.0775862068965517</dd>\n",
       "\t<dt>$`Sales Representative`</dt>\n",
       "\t\t<dd>0.424242424242424</dd>\n",
       "\t<dt>$`Research Director`</dt>\n",
       "\t\t<dd>0.0327868852459016</dd>\n",
       "\t<dt>$`Human Resources`</dt>\n",
       "\t\t<dd>0.227272727272727</dd>\n",
       "</dl>\n"
      ],
      "text/latex": [
       "\\begin{description}\n",
       "\\item[\\$`Sales Executive`] 0.17037037037037\n",
       "\\item[\\$`Research Scientist`] 0.156118143459916\n",
       "\\item[\\$`Laboratory Technician`] 0.222772277227723\n",
       "\\item[\\$`Healthcare Representative`] 0.0792079207920792\n",
       "\\item[\\$Manager] 0.0625\n",
       "\\item[\\$`Manufacturing Director`] 0.0775862068965517\n",
       "\\item[\\$`Sales Representative`] 0.424242424242424\n",
       "\\item[\\$`Research Director`] 0.0327868852459016\n",
       "\\item[\\$`Human Resources`] 0.227272727272727\n",
       "\\end{description}\n"
      ],
      "text/markdown": [
       "$`Sales Executive`\n",
       ":   0.17037037037037\n",
       "$`Research Scientist`\n",
       ":   0.156118143459916\n",
       "$`Laboratory Technician`\n",
       ":   0.222772277227723\n",
       "$`Healthcare Representative`\n",
       ":   0.0792079207920792\n",
       "$Manager\n",
       ":   0.0625\n",
       "$`Manufacturing Director`\n",
       ":   0.0775862068965517\n",
       "$`Sales Representative`\n",
       ":   0.424242424242424\n",
       "$`Research Director`\n",
       ":   0.0327868852459016\n",
       "$`Human Resources`\n",
       ":   0.227272727272727\n",
       "\n",
       "\n"
      ],
      "text/plain": [
       "$`Sales Executive`\n",
       "[1] 0.1703704\n",
       "\n",
       "$`Research Scientist`\n",
       "[1] 0.1561181\n",
       "\n",
       "$`Laboratory Technician`\n",
       "[1] 0.2227723\n",
       "\n",
       "$`Healthcare Representative`\n",
       "[1] 0.07920792\n",
       "\n",
       "$Manager\n",
       "[1] 0.0625\n",
       "\n",
       "$`Manufacturing Director`\n",
       "[1] 0.07758621\n",
       "\n",
       "$`Sales Representative`\n",
       "[1] 0.4242424\n",
       "\n",
       "$`Research Director`\n",
       "[1] 0.03278689\n",
       "\n",
       "$`Human Resources`\n",
       "[1] 0.2272727\n"
      ]
     },
     "metadata": {},
     "output_type": "display_data"
    }
   ],
   "source": [
    "# JobRole\n",
    "count_rate(df.train, 'JobRole', c(as.character(unique(df.train[, 'JobRole']))))"
   ]
  },
  {
   "cell_type": "code",
   "execution_count": 14,
   "metadata": {},
   "outputs": [
    {
     "data": {
      "text/html": [
       "<dl>\n",
       "\t<dt>$`Life Sciences`</dt>\n",
       "\t\t<dd>0.146639511201629</dd>\n",
       "\t<dt>$Other</dt>\n",
       "\t\t<dd>0.101694915254237</dd>\n",
       "\t<dt>$Medical</dt>\n",
       "\t\t<dd>0.142857142857143</dd>\n",
       "\t<dt>$Marketing</dt>\n",
       "\t\t<dd>0.213235294117647</dd>\n",
       "\t<dt>$`Technical Degree`</dt>\n",
       "\t\t<dd>0.25</dd>\n",
       "\t<dt>$`Human Resources`</dt>\n",
       "\t\t<dd>0.217391304347826</dd>\n",
       "</dl>\n"
      ],
      "text/latex": [
       "\\begin{description}\n",
       "\\item[\\$`Life Sciences`] 0.146639511201629\n",
       "\\item[\\$Other] 0.101694915254237\n",
       "\\item[\\$Medical] 0.142857142857143\n",
       "\\item[\\$Marketing] 0.213235294117647\n",
       "\\item[\\$`Technical Degree`] 0.25\n",
       "\\item[\\$`Human Resources`] 0.217391304347826\n",
       "\\end{description}\n"
      ],
      "text/markdown": [
       "$`Life Sciences`\n",
       ":   0.146639511201629\n",
       "$Other\n",
       ":   0.101694915254237\n",
       "$Medical\n",
       ":   0.142857142857143\n",
       "$Marketing\n",
       ":   0.213235294117647\n",
       "$`Technical Degree`\n",
       ":   0.25\n",
       "$`Human Resources`\n",
       ":   0.217391304347826\n",
       "\n",
       "\n"
      ],
      "text/plain": [
       "$`Life Sciences`\n",
       "[1] 0.1466395\n",
       "\n",
       "$Other\n",
       "[1] 0.1016949\n",
       "\n",
       "$Medical\n",
       "[1] 0.1428571\n",
       "\n",
       "$Marketing\n",
       "[1] 0.2132353\n",
       "\n",
       "$`Technical Degree`\n",
       "[1] 0.25\n",
       "\n",
       "$`Human Resources`\n",
       "[1] 0.2173913\n"
      ]
     },
     "metadata": {},
     "output_type": "display_data"
    }
   ],
   "source": [
    "# EducationField\n",
    "count_rate(df.train, 'EducationField', c(as.character(unique(df.train[, 'EducationField']))))"
   ]
  },
  {
   "cell_type": "code",
   "execution_count": 15,
   "metadata": {},
   "outputs": [
    {
     "data": {
      "text/html": [
       "<dl>\n",
       "\t<dt>$Single</dt>\n",
       "\t\t<dd>0.247340425531915</dd>\n",
       "\t<dt>$Married</dt>\n",
       "\t\t<dd>0.136531365313653</dd>\n",
       "\t<dt>$Divorced</dt>\n",
       "\t\t<dd>0.0888030888030888</dd>\n",
       "</dl>\n"
      ],
      "text/latex": [
       "\\begin{description}\n",
       "\\item[\\$Single] 0.247340425531915\n",
       "\\item[\\$Married] 0.136531365313653\n",
       "\\item[\\$Divorced] 0.0888030888030888\n",
       "\\end{description}\n"
      ],
      "text/markdown": [
       "$Single\n",
       ":   0.247340425531915\n",
       "$Married\n",
       ":   0.136531365313653\n",
       "$Divorced\n",
       ":   0.0888030888030888\n",
       "\n",
       "\n"
      ],
      "text/plain": [
       "$Single\n",
       "[1] 0.2473404\n",
       "\n",
       "$Married\n",
       "[1] 0.1365314\n",
       "\n",
       "$Divorced\n",
       "[1] 0.08880309\n"
      ]
     },
     "metadata": {},
     "output_type": "display_data"
    }
   ],
   "source": [
    "# MaritalStatus\n",
    "count_rate(df.train, 'MaritalStatus', c(as.character(unique(df.train[, 'MaritalStatus']))))"
   ]
  },
  {
   "cell_type": "markdown",
   "metadata": {},
   "source": [
    "#### 根據上述結果設計數值轉換函式"
   ]
  },
  {
   "cell_type": "code",
   "execution_count": 16,
   "metadata": {},
   "outputs": [],
   "source": [
    "gender_mapper <- function(gender){\n",
    "  return(ifelse(gender == 'Male', 1, 0))\n",
    "}\n",
    "age_mapper <- function(age) {\n",
    "  return(ifelse(age <= 30, 3,\n",
    "         ifelse((30 < age && age <= 42), 2,\n",
    "         ifelse(42 < age, 1, 0))))\n",
    "}\n",
    "travel_mapper <- function(travel) {\n",
    "  return(ifelse(travel=='Travel_Rarely', 2,\n",
    "         ifelse(travel=='Travel_Frequently', 3,\n",
    "         ifelse(travel=='Non-Travel', 1, 0))))\n",
    "}\n",
    "department_mapper <- function(department){\n",
    "  return(ifelse(department=='Research & Development', 3,\n",
    "         ifelse(department=='Human Resources', 2,\n",
    "         ifelse(department=='Sales', 1, 0))))\n",
    "}\n",
    "field_mapper <- function(field) {\n",
    "  # 'Medical''Other''Marketing''Human Resources''Technical Degree'\n",
    "  return(ifelse(field=='Other', 1,\n",
    "         ifelse(field=='Life Sciences', 2,\n",
    "         ifelse(field=='Medical', 3, \n",
    "         ifelse(field=='Marketing', 4,\n",
    "         ifelse(field=='Human Resources', 5,\n",
    "         ifelse(field=='Technical Degree', 6, 0)))))))\n",
    "}\n",
    "marital_mapper <- function(marital){\n",
    "  return(ifelse(marital=='Single', 3,\n",
    "         ifelse(marital=='Married', 2,\n",
    "         ifelse(marital=='Divorced', 1, 0))))\n",
    "}\n",
    "role_mapper <- function(role){\n",
    "  return(ifelse(role=='Sales Representative', 9,\n",
    "         ifelse(role=='Human Resources', 8,\n",
    "         ifelse(role=='Laboratory Technician', 8,\n",
    "         ifelse(role=='Sales Executive', 6,\n",
    "         ifelse(role=='Research Scientist', 5,\n",
    "         ifelse(role=='Healthcare Representative', 4,\n",
    "         ifelse(role=='Manufacturing Director', 3,\n",
    "         ifelse(role=='Manager', 2,\n",
    "         ifelse(role=='Research Director', 1,0))))))))))\n",
    "}\n",
    "attrition_mapper <- function(attrition){\n",
    "  return(ifelse(attrition=='Yes', 1, 0))\n",
    "}\n",
    "couple_generator <- function(marital) {\n",
    "  return(ifelse(marital=='Married', 1, 0))\n",
    "}"
   ]
  },
  {
   "cell_type": "markdown",
   "metadata": {},
   "source": [
    "#### 除了上述資料外，其他的資料處理函式"
   ]
  },
  {
   "cell_type": "code",
   "execution_count": 17,
   "metadata": {},
   "outputs": [],
   "source": [
    "set_col_to_factor <- function(df, ...){\n",
    "  cols <- unlist(list(...))\n",
    "  for(col in cols){\n",
    "    df[, col] <- as.factor(df[, col])\n",
    "  }\n",
    "  return(df)\n",
    "}\n",
    "set_col_to_integer <- function(df, ...){\n",
    "  cols <- unlist(list(...))\n",
    "  for(col in cols) {\n",
    "    df[, col] <- as.integer(df[, col])\n",
    "  }\n",
    "  return(df)\n",
    "}\n",
    "set_col_to_numeric <- function(df, ...){\n",
    "  cols <- unlist(list(...))\n",
    "  for(col in cols){\n",
    "    if(is.factor(df[, col])){\n",
    "      df[, col] <- as.numeric(as.character(df[, col]))\n",
    "    }else{\n",
    "      df[, col] <- as.numeric(df[, col])      \n",
    "    }\n",
    "  } \n",
    "  return (df)\n",
    "}\n",
    "set_col_to_category <- function(df, old_col, new_col, mapper){\n",
    "  df[new_col] <- as.factor(mapper(df[old_col]))\n",
    "  return(df)\n",
    "}\n",
    "set_col_to_numerical_factor <- function(df, old_col, new_col) {\n",
    "  df[, new_col] <- as.factor(as.numeric(as.factor(df[, old_col])))\n",
    "  return(df)\n",
    "}\n",
    "set_col_to_log <- function(df, old_col, new_col){\n",
    "  df[, new_col] <- df[, old_col]\n",
    "  df[df[new_col]==0, new_col] <- 0.01\n",
    "  df[, new_col] <- log10(df[, new_col])\n",
    "  return(df)\n",
    "}\n",
    "set_col_to_scale <- function(df, old_col, new_col){\n",
    "  df[, new_col] <- scale(as.numeric(df[, old_col]))\n",
    "  return(df)\n",
    "}\n",
    "shuffle_frame <- function(df){\n",
    "   set.seed(28657)\n",
    "   shf_rows <- sample(nrow(df))\n",
    "   shf_train <- df[shf_rows, ]\n",
    "   return(shf_train)\n",
    "}\n",
    "remove_cols <- function(df, ...){\n",
    "  cols <- unlist(list(...))\n",
    "  new_df <- df[, !(names(df) %in% cols)]\n",
    "  return(new_df)\n",
    "}"
   ]
  },
  {
   "cell_type": "markdown",
   "metadata": {},
   "source": [
    "### 資料清洗流程"
   ]
  },
  {
   "cell_type": "markdown",
   "metadata": {},
   "source": [
    "#### 不同的清洗函式"
   ]
  },
  {
   "cell_type": "code",
   "execution_count": 18,
   "metadata": {
    "scrolled": false
   },
   "outputs": [],
   "source": [
    "wrangling_process_1 <- function(df){\n",
    "  df <- set_col_to_category(df, 'Attrition', 'Target', attrition_mapper)\n",
    "\n",
    "  df <- set_col_to_category(df, 'Gender', 'Gender_1', gender_mapper)\n",
    "  df <- set_col_to_category(df, 'BusinessTravel', 'BusinessTravel_1', travel_mapper)\n",
    "  df <- set_col_to_category(df, 'Department', 'Department_1', department_mapper)\n",
    "  df <- set_col_to_category(df, 'EducationField', 'EducationField_1', field_mapper)\n",
    "  # df <- set_col_to_numerical_factor(df, 'JobRole', 'JobRole_1')\n",
    "  df <- set_col_to_category(df, 'JobRole', 'JobRole_1', role_mapper)\n",
    "  df <- set_col_to_category(df, 'MaritalStatus', 'MaritalStatus_1', marital_mapper)\n",
    "  # df <- set_col_to_category(df, 'MaritalStatus', 'Couple', couple_generator)\n",
    "  # df <- set_col_to_numeric(df, 'Couple')\n",
    "\n",
    "  # df <- set_col_to_category(df, 'Age', 'Age_1', age_mapper)\n",
    "  df <- set_col_to_scale(df, 'Age', 'Age_1')\n",
    "  \n",
    "  # df <- set_col_to_log(df, 'MonthlyIncome', 'MonthlyIncome_1')\n",
    "  df <- set_col_to_scale(df, 'MonthlyIncome', 'MonthlyIncome_1')\n",
    "  \n",
    "  df <- set_col_to_scale(df, 'TotalWorkingYears', 'TotalWorkingYears_1')\n",
    "  df <- set_col_to_scale(df, 'YearsAtCompany', 'YearsAtCompany_1')\n",
    "  df <- set_col_to_scale(df, 'YearsInCurrentRole', 'YearsInCurrentRole_1')\n",
    "  df <- set_col_to_scale(df, 'YearsSinceLastPromotion', 'YearsSinceLastPromotion_1')\n",
    "  df <- set_col_to_scale(df, 'YearsWithCurrManager', 'YearsWithCurrManager_1')\n",
    "  df <- set_col_to_scale(df, 'DistanceFromHome', 'DistanceFromHome_1')\n",
    "  \n",
    "  # df['HighSatisfy'] <- ifelse((df['EnvironmentSatisfaction']==4) & (df['JobSatisfaction']==4), 1, 0)\n",
    "  df['AgvSatisfy'] <- round((df['EnvironmentSatisfaction'] + (df['JobSatisfaction'])) / 2, digits = 0)\n",
    "  \n",
    "  df <- remove_cols(df, 'Gender', 'Age', 'BusinessTravel', 'Department', \n",
    "                    'EducationField', 'JobRole', 'EmployeeNumber', 'MaritalStatus', 'Attrition',\n",
    "                    'MonthlyIncome', 'EmployeeNumber',\n",
    "                    'TotalWorkingYears', 'YearsAtCompany', 'YearsInCurrentRole',\n",
    "                    'YearsSinceLastPromotion', 'YearsWithCurrManager', 'DistanceFromHome'\n",
    "                    , 'EnvironmentSatisfaction', 'JobSatisfaction'\n",
    "                   )\n",
    "  \n",
    "  return(df)\n",
    "}"
   ]
  },
  {
   "cell_type": "code",
   "execution_count": 19,
   "metadata": {},
   "outputs": [],
   "source": [
    "wrangling_process_2 <- function(df){\n",
    "  df <- set_col_to_category(df, 'Attrition', 'Target', attrition_mapper)\n",
    "\n",
    "  df <- set_col_to_category(df, 'Gender', 'Gender_1', gender_mapper)\n",
    "  df <- set_col_to_scale(df, 'Gender_1', 'Gender_2')\n",
    "  \n",
    "  df <- set_col_to_category(df, 'BusinessTravel', 'BusinessTravel_1', travel_mapper)\n",
    "  df <- set_col_to_scale(df, 'BusinessTravel', 'BusinessTravel_1')\n",
    "  \n",
    "  df <- set_col_to_category(df, 'Department', 'Department_1', department_mapper)\n",
    "  df <- set_col_to_scale(df, 'Department_1', 'Department_2')\n",
    "  \n",
    "  df <- set_col_to_category(df, 'EducationField', 'EducationField_1', field_mapper)\n",
    "  df <- set_col_to_scale(df, 'EducationField_1', 'EducationField_2')\n",
    "  \n",
    "  # df <- set_col_to_numerical_factor(df, 'JobRole', 'JobRole_1')\n",
    "  df <- set_col_to_category(df, 'JobRole', 'JobRole_1', role_mapper)\n",
    "  df <- set_col_to_scale(df, 'JobRole_1', 'JobRole_2')\n",
    "  \n",
    "  # df <- set_col_to_category(df, 'MaritalStatus', 'Couple', couple_generator)\n",
    "  # df <- set_col_to_numeric(df, 'Couple')\n",
    "  df <- set_col_to_category(df, 'MaritalStatus', 'MaritalStatus_1', marital_mapper)\n",
    "  df <- set_col_to_scale(df, 'MaritalStatus_1', 'MaritalStatus_2')\n",
    "\n",
    "  # df <- set_col_to_category(df, 'Age', 'Age_1', age_mapper)\n",
    "  df <- set_col_to_scale(df, 'Age', 'Age_1')\n",
    "  \n",
    "  # df <- set_col_to_log(df, 'MonthlyIncome', 'MonthlyIncome_1')\n",
    "  df <- set_col_to_scale(df, 'MonthlyIncome', 'MonthlyIncome_1')\n",
    "  \n",
    "  df <- set_col_to_scale(df, 'TotalWorkingYears', 'TotalWorkingYears_1')\n",
    "  df <- set_col_to_scale(df, 'YearsAtCompany', 'YearsAtCompany_1')\n",
    "  df <- set_col_to_scale(df, 'YearsInCurrentRole', 'YearsInCurrentRole_1')\n",
    "  df <- set_col_to_scale(df, 'YearsSinceLastPromotion', 'YearsSinceLastPromotion_1')\n",
    "  df <- set_col_to_scale(df, 'YearsWithCurrManager', 'YearsWithCurrManager_1')\n",
    "  df <- set_col_to_scale(df, 'DistanceFromHome', 'DistanceFromHome_1')\n",
    "  \n",
    "  # Education JobInvolvement JobLevel NumCompaniesWorked PerformanceRating RelationshipSatisfaction\n",
    "  # StockOptionLevel TrainingTimesLastYear WorkLifeBalance\n",
    "  df <- set_col_to_scale(df, 'Education', 'Education_1')\n",
    "  df <- set_col_to_scale(df, 'JobInvolvement', 'JobInvolvement_1')\n",
    "  df <- set_col_to_scale(df, 'JobLevel', 'JobLevel_1')\n",
    "  df <- set_col_to_scale(df, 'NumCompaniesWorked', 'NumCompaniesWorked_1')\n",
    "  df <- set_col_to_scale(df, 'PerformanceRating', 'PerformanceRating_1')\n",
    "  df <- set_col_to_scale(df, 'RelationshipSatisfaction', 'RelationshipSatisfaction_1')\n",
    "  df <- set_col_to_scale(df, 'StockOptionLevel', 'StockOptionLevel_1')\n",
    "  df <- set_col_to_scale(df, 'TrainingTimesLastYear', 'TrainingTimesLastYear_1')\n",
    "  df <- set_col_to_scale(df, 'WorkLifeBalance', 'WorkLifeBalance_1')\n",
    "    \n",
    "  # df['HighSatisfy'] <- ifelse((df['EnvironmentSatisfaction']==4) & (df['JobSatisfaction']==4), 1, 0)\n",
    "  df['AvgSatisfy'] <- round((df['EnvironmentSatisfaction'] + (df['JobSatisfaction'])) / 2, digits = 0)\n",
    "  df <- set_col_to_scale(df, 'AvgSatisfy', 'AvgSatisfy_1')\n",
    "  \n",
    "  df <- remove_cols(df, 'Age', 'Gender', 'Gender_1', 'BusinessTravel', 'BusinessTravel_1',\n",
    "                    'Department', 'Department_1',  'EducationField', 'EducationField_1',\n",
    "                    'JobRole', 'JobRole_1', 'EmployeeNumber', 'MaritalStatus', 'MaritalStatus_1',\n",
    "                    'Attrition', 'MonthlyIncome', 'EmployeeNumber', 'TotalWorkingYears',\n",
    "                    'YearsAtCompany', 'YearsInCurrentRole', 'AvgSatisfy',\n",
    "                    'YearsSinceLastPromotion', 'YearsWithCurrManager', 'DistanceFromHome',\n",
    "                    'EnvironmentSatisfaction', 'JobSatisfaction',\n",
    "                    'Education', 'JobInvolvement', 'JobLevel', 'NumCompaniesWorked', 'PerformanceRating', \n",
    "                    'RelationshipSatisfaction', 'StockOptionLevel', 'TrainingTimesLastYear', 'WorkLifeBalance')\n",
    "  \n",
    "  return(df)\n",
    "}"
   ]
  },
  {
   "cell_type": "markdown",
   "metadata": {},
   "source": [
    "#### 執行資料清洗"
   ]
  },
  {
   "cell_type": "code",
   "execution_count": 20,
   "metadata": {},
   "outputs": [
    {
     "data": {
      "text/html": [
       "<table>\n",
       "<caption>A data.frame: 6 × 25</caption>\n",
       "<thead>\n",
       "\t<tr><th></th><th scope=col>Education</th><th scope=col>JobInvolvement</th><th scope=col>JobLevel</th><th scope=col>NumCompaniesWorked</th><th scope=col>PerformanceRating</th><th scope=col>RelationshipSatisfaction</th><th scope=col>StockOptionLevel</th><th scope=col>TrainingTimesLastYear</th><th scope=col>WorkLifeBalance</th><th scope=col>Target</th><th scope=col>Gender_1</th><th scope=col>BusinessTravel_1</th><th scope=col>Department_1</th><th scope=col>EducationField_1</th><th scope=col>JobRole_1</th><th scope=col>MaritalStatus_1</th><th scope=col>Age_1</th><th scope=col>MonthlyIncome_1</th><th scope=col>TotalWorkingYears_1</th><th scope=col>YearsAtCompany_1</th><th scope=col>YearsInCurrentRole_1</th><th scope=col>YearsSinceLastPromotion_1</th><th scope=col>YearsWithCurrManager_1</th><th scope=col>DistanceFromHome_1</th><th scope=col>AgvSatisfy</th></tr>\n",
       "\t<tr><th></th><th scope=col>&lt;int&gt;</th><th scope=col>&lt;int&gt;</th><th scope=col>&lt;int&gt;</th><th scope=col>&lt;int&gt;</th><th scope=col>&lt;int&gt;</th><th scope=col>&lt;int&gt;</th><th scope=col>&lt;int&gt;</th><th scope=col>&lt;int&gt;</th><th scope=col>&lt;int&gt;</th><th scope=col>&lt;fct&gt;</th><th scope=col>&lt;fct&gt;</th><th scope=col>&lt;fct&gt;</th><th scope=col>&lt;fct&gt;</th><th scope=col>&lt;fct&gt;</th><th scope=col>&lt;fct&gt;</th><th scope=col>&lt;fct&gt;</th><th scope=col>&lt;dbl[,1]&gt;</th><th scope=col>&lt;dbl[,1]&gt;</th><th scope=col>&lt;dbl[,1]&gt;</th><th scope=col>&lt;dbl[,1]&gt;</th><th scope=col>&lt;dbl[,1]&gt;</th><th scope=col>&lt;dbl[,1]&gt;</th><th scope=col>&lt;dbl[,1]&gt;</th><th scope=col>&lt;dbl[,1]&gt;</th><th scope=col>&lt;dbl&gt;</th></tr>\n",
       "</thead>\n",
       "<tbody>\n",
       "\t<tr><th scope=row>631</th><td>3</td><td>2</td><td>1</td><td>4</td><td>4</td><td>2</td><td>0</td><td>0</td><td>3</td><td>1</td><td>1</td><td>2</td><td>3</td><td>3</td><td>5</td><td>3</td><td>-0.42513167</td><td>-0.88426973</td><td>-0.8076522</td><td>-0.8220256</td><td>-0.6211184</td><td>-0.05438851</td><td>-0.60477306</td><td> 1.9938899</td><td>2</td></tr>\n",
       "\t<tr><th scope=row>408</th><td>1</td><td>4</td><td>2</td><td>1</td><td>4</td><td>2</td><td>2</td><td>3</td><td>3</td><td>0</td><td>0</td><td>3</td><td>1</td><td>3</td><td>6</td><td>1</td><td>-1.09200859</td><td>-0.38642678</td><td>-0.6770923</td><td>-0.1761483</td><td> 0.1996784</td><td>-0.68198924</td><td>-0.04888248</td><td>-0.7535444</td><td>4</td></tr>\n",
       "\t<tr><th scope=row>526</th><td>1</td><td>3</td><td>2</td><td>0</td><td>3</td><td>1</td><td>1</td><td>2</td><td>2</td><td>0</td><td>1</td><td>2</td><td>3</td><td>2</td><td>4</td><td>2</td><td>-0.09169322</td><td> 0.02716254</td><td> 0.7590666</td><td> 1.4385448</td><td> 1.0204752</td><td> 0.57321223</td><td> 1.89673455</td><td> 0.6201727</td><td>4</td></tr>\n",
       "\t<tr><th scope=row>587</th><td>4</td><td>3</td><td>2</td><td>0</td><td>3</td><td>2</td><td>1</td><td>2</td><td>3</td><td>0</td><td>0</td><td>2</td><td>3</td><td>2</td><td>3</td><td>2</td><td>-1.09200859</td><td>-0.47601292</td><td>-0.9382121</td><td>-0.6605563</td><td>-0.6211184</td><td>-0.05438851</td><td>-0.60477306</td><td>-0.8784277</td><td>2</td></tr>\n",
       "\t<tr><th scope=row>103</th><td>3</td><td>1</td><td>2</td><td>3</td><td>3</td><td>3</td><td>1</td><td>2</td><td>3</td><td>1</td><td>0</td><td>2</td><td>1</td><td>2</td><td>6</td><td>2</td><td>-0.64742398</td><td>-0.40519721</td><td>-0.9382121</td><td>-0.8220256</td><td>-0.6211184</td><td>-0.05438851</td><td>-0.60477306</td><td> 1.3694730</td><td>2</td></tr>\n",
       "\t<tr><th scope=row>406</th><td>4</td><td>1</td><td>1</td><td>1</td><td>3</td><td>4</td><td>1</td><td>5</td><td>3</td><td>0</td><td>1</td><td>3</td><td>3</td><td>2</td><td>5</td><td>1</td><td>-0.86971628</td><td>-0.79745650</td><td>-0.1548527</td><td> 0.4697289</td><td> 0.7468763</td><td>-0.05438851</td><td> 1.06289868</td><td>-1.0033111</td><td>3</td></tr>\n",
       "</tbody>\n",
       "</table>\n"
      ],
      "text/latex": [
       "A data.frame: 6 × 25\n",
       "\\begin{tabular}{r|lllllllllllllllllllllllll}\n",
       "  & Education & JobInvolvement & JobLevel & NumCompaniesWorked & PerformanceRating & RelationshipSatisfaction & StockOptionLevel & TrainingTimesLastYear & WorkLifeBalance & Target & Gender\\_1 & BusinessTravel\\_1 & Department\\_1 & EducationField\\_1 & JobRole\\_1 & MaritalStatus\\_1 & Age\\_1 & MonthlyIncome\\_1 & TotalWorkingYears\\_1 & YearsAtCompany\\_1 & YearsInCurrentRole\\_1 & YearsSinceLastPromotion\\_1 & YearsWithCurrManager\\_1 & DistanceFromHome\\_1 & AgvSatisfy\\\\\n",
       "  & <int> & <int> & <int> & <int> & <int> & <int> & <int> & <int> & <int> & <fct> & <fct> & <fct> & <fct> & <fct> & <fct> & <fct> & <dbl{[},1{]}> & <dbl{[},1{]}> & <dbl{[},1{]}> & <dbl{[},1{]}> & <dbl{[},1{]}> & <dbl{[},1{]}> & <dbl{[},1{]}> & <dbl{[},1{]}> & <dbl>\\\\\n",
       "\\hline\n",
       "\t631 & 3 & 2 & 1 & 4 & 4 & 2 & 0 & 0 & 3 & 1 & 1 & 2 & 3 & 3 & 5 & 3 & -0.42513167 & -0.88426973 & -0.8076522 & -0.8220256 & -0.6211184 & -0.05438851 & -0.60477306 &  1.9938899 & 2\\\\\n",
       "\t408 & 1 & 4 & 2 & 1 & 4 & 2 & 2 & 3 & 3 & 0 & 0 & 3 & 1 & 3 & 6 & 1 & -1.09200859 & -0.38642678 & -0.6770923 & -0.1761483 &  0.1996784 & -0.68198924 & -0.04888248 & -0.7535444 & 4\\\\\n",
       "\t526 & 1 & 3 & 2 & 0 & 3 & 1 & 1 & 2 & 2 & 0 & 1 & 2 & 3 & 2 & 4 & 2 & -0.09169322 &  0.02716254 &  0.7590666 &  1.4385448 &  1.0204752 &  0.57321223 &  1.89673455 &  0.6201727 & 4\\\\\n",
       "\t587 & 4 & 3 & 2 & 0 & 3 & 2 & 1 & 2 & 3 & 0 & 0 & 2 & 3 & 2 & 3 & 2 & -1.09200859 & -0.47601292 & -0.9382121 & -0.6605563 & -0.6211184 & -0.05438851 & -0.60477306 & -0.8784277 & 2\\\\\n",
       "\t103 & 3 & 1 & 2 & 3 & 3 & 3 & 1 & 2 & 3 & 1 & 0 & 2 & 1 & 2 & 6 & 2 & -0.64742398 & -0.40519721 & -0.9382121 & -0.8220256 & -0.6211184 & -0.05438851 & -0.60477306 &  1.3694730 & 2\\\\\n",
       "\t406 & 4 & 1 & 1 & 1 & 3 & 4 & 1 & 5 & 3 & 0 & 1 & 3 & 3 & 2 & 5 & 1 & -0.86971628 & -0.79745650 & -0.1548527 &  0.4697289 &  0.7468763 & -0.05438851 &  1.06289868 & -1.0033111 & 3\\\\\n",
       "\\end{tabular}\n"
      ],
      "text/markdown": [
       "\n",
       "A data.frame: 6 × 25\n",
       "\n",
       "| <!--/--> | Education &lt;int&gt; | JobInvolvement &lt;int&gt; | JobLevel &lt;int&gt; | NumCompaniesWorked &lt;int&gt; | PerformanceRating &lt;int&gt; | RelationshipSatisfaction &lt;int&gt; | StockOptionLevel &lt;int&gt; | TrainingTimesLastYear &lt;int&gt; | WorkLifeBalance &lt;int&gt; | Target &lt;fct&gt; | Gender_1 &lt;fct&gt; | BusinessTravel_1 &lt;fct&gt; | Department_1 &lt;fct&gt; | EducationField_1 &lt;fct&gt; | JobRole_1 &lt;fct&gt; | MaritalStatus_1 &lt;fct&gt; | Age_1 &lt;dbl[,1]&gt; | MonthlyIncome_1 &lt;dbl[,1]&gt; | TotalWorkingYears_1 &lt;dbl[,1]&gt; | YearsAtCompany_1 &lt;dbl[,1]&gt; | YearsInCurrentRole_1 &lt;dbl[,1]&gt; | YearsSinceLastPromotion_1 &lt;dbl[,1]&gt; | YearsWithCurrManager_1 &lt;dbl[,1]&gt; | DistanceFromHome_1 &lt;dbl[,1]&gt; | AgvSatisfy &lt;dbl&gt; |\n",
       "|---|---|---|---|---|---|---|---|---|---|---|---|---|---|---|---|---|---|---|---|---|---|---|---|---|---|\n",
       "| 631 | 3 | 2 | 1 | 4 | 4 | 2 | 0 | 0 | 3 | 1 | 1 | 2 | 3 | 3 | 5 | 3 | -0.42513167 | -0.88426973 | -0.8076522 | -0.8220256 | -0.6211184 | -0.05438851 | -0.60477306 |  1.9938899 | 2 |\n",
       "| 408 | 1 | 4 | 2 | 1 | 4 | 2 | 2 | 3 | 3 | 0 | 0 | 3 | 1 | 3 | 6 | 1 | -1.09200859 | -0.38642678 | -0.6770923 | -0.1761483 |  0.1996784 | -0.68198924 | -0.04888248 | -0.7535444 | 4 |\n",
       "| 526 | 1 | 3 | 2 | 0 | 3 | 1 | 1 | 2 | 2 | 0 | 1 | 2 | 3 | 2 | 4 | 2 | -0.09169322 |  0.02716254 |  0.7590666 |  1.4385448 |  1.0204752 |  0.57321223 |  1.89673455 |  0.6201727 | 4 |\n",
       "| 587 | 4 | 3 | 2 | 0 | 3 | 2 | 1 | 2 | 3 | 0 | 0 | 2 | 3 | 2 | 3 | 2 | -1.09200859 | -0.47601292 | -0.9382121 | -0.6605563 | -0.6211184 | -0.05438851 | -0.60477306 | -0.8784277 | 2 |\n",
       "| 103 | 3 | 1 | 2 | 3 | 3 | 3 | 1 | 2 | 3 | 1 | 0 | 2 | 1 | 2 | 6 | 2 | -0.64742398 | -0.40519721 | -0.9382121 | -0.8220256 | -0.6211184 | -0.05438851 | -0.60477306 |  1.3694730 | 2 |\n",
       "| 406 | 4 | 1 | 1 | 1 | 3 | 4 | 1 | 5 | 3 | 0 | 1 | 3 | 3 | 2 | 5 | 1 | -0.86971628 | -0.79745650 | -0.1548527 |  0.4697289 |  0.7468763 | -0.05438851 |  1.06289868 | -1.0033111 | 3 |\n",
       "\n"
      ],
      "text/plain": [
       "    Education JobInvolvement JobLevel NumCompaniesWorked PerformanceRating\n",
       "631 3         2              1        4                  4                \n",
       "408 1         4              2        1                  4                \n",
       "526 1         3              2        0                  3                \n",
       "587 4         3              2        0                  3                \n",
       "103 3         1              2        3                  3                \n",
       "406 4         1              1        1                  3                \n",
       "    RelationshipSatisfaction StockOptionLevel TrainingTimesLastYear\n",
       "631 2                        0                0                    \n",
       "408 2                        2                3                    \n",
       "526 1                        1                2                    \n",
       "587 2                        1                2                    \n",
       "103 3                        1                2                    \n",
       "406 4                        1                5                    \n",
       "    WorkLifeBalance Target Gender_1 BusinessTravel_1 Department_1\n",
       "631 3               1      1        2                3           \n",
       "408 3               0      0        3                1           \n",
       "526 2               0      1        2                3           \n",
       "587 3               0      0        2                3           \n",
       "103 3               1      0        2                1           \n",
       "406 3               0      1        3                3           \n",
       "    EducationField_1 JobRole_1 MaritalStatus_1 Age_1       MonthlyIncome_1\n",
       "631 3                5         3               -0.42513167 -0.88426973    \n",
       "408 3                6         1               -1.09200859 -0.38642678    \n",
       "526 2                4         2               -0.09169322  0.02716254    \n",
       "587 2                3         2               -1.09200859 -0.47601292    \n",
       "103 2                6         2               -0.64742398 -0.40519721    \n",
       "406 2                5         1               -0.86971628 -0.79745650    \n",
       "    TotalWorkingYears_1 YearsAtCompany_1 YearsInCurrentRole_1\n",
       "631 -0.8076522          -0.8220256       -0.6211184          \n",
       "408 -0.6770923          -0.1761483        0.1996784          \n",
       "526  0.7590666           1.4385448        1.0204752          \n",
       "587 -0.9382121          -0.6605563       -0.6211184          \n",
       "103 -0.9382121          -0.8220256       -0.6211184          \n",
       "406 -0.1548527           0.4697289        0.7468763          \n",
       "    YearsSinceLastPromotion_1 YearsWithCurrManager_1 DistanceFromHome_1\n",
       "631 -0.05438851               -0.60477306             1.9938899        \n",
       "408 -0.68198924               -0.04888248            -0.7535444        \n",
       "526  0.57321223                1.89673455             0.6201727        \n",
       "587 -0.05438851               -0.60477306            -0.8784277        \n",
       "103 -0.05438851               -0.60477306             1.3694730        \n",
       "406 -0.05438851                1.06289868            -1.0033111        \n",
       "    AgvSatisfy\n",
       "631 2         \n",
       "408 4         \n",
       "526 4         \n",
       "587 2         \n",
       "103 2         \n",
       "406 3         "
      ]
     },
     "metadata": {},
     "output_type": "display_data"
    },
    {
     "data": {
      "text/plain": [
       "   Education     JobInvolvement     JobLevel     NumCompaniesWorked\n",
       " Min.   :1.000   Min.   :1.000   Min.   :1.000   Min.   :0.000     \n",
       " 1st Qu.:2.000   1st Qu.:2.000   1st Qu.:1.000   1st Qu.:1.000     \n",
       " Median :3.000   Median :3.000   Median :2.000   Median :2.000     \n",
       " Mean   :2.926   Mean   :2.723   Mean   :2.066   Mean   :2.679     \n",
       " 3rd Qu.:4.000   3rd Qu.:3.000   3rd Qu.:3.000   3rd Qu.:4.000     \n",
       " Max.   :5.000   Max.   :4.000   Max.   :5.000   Max.   :9.000     \n",
       "                                                                   \n",
       " PerformanceRating RelationshipSatisfaction StockOptionLevel\n",
       " Min.   :3.000     Min.   :1.000            Min.   :0.0000  \n",
       " 1st Qu.:3.000     1st Qu.:2.000            1st Qu.:0.0000  \n",
       " Median :3.000     Median :3.000            Median :1.0000  \n",
       " Mean   :3.144     Mean   :2.714            Mean   :0.7901  \n",
       " 3rd Qu.:3.000     3rd Qu.:4.000            3rd Qu.:1.0000  \n",
       " Max.   :4.000     Max.   :4.000            Max.   :3.0000  \n",
       "                                                            \n",
       " TrainingTimesLastYear WorkLifeBalance Target  Gender_1 BusinessTravel_1\n",
       " Min.   :0.000         Min.   :1.000   0:987   0:474    1:116           \n",
       " 1st Qu.:2.000         1st Qu.:2.000   1:190   1:703    2:841           \n",
       " Median :3.000         Median :3.000                    3:220           \n",
       " Mean   :2.815         Mean   :2.761                                    \n",
       " 3rd Qu.:3.000         3rd Qu.:3.000                                    \n",
       " Max.   :6.000         Max.   :4.000                                    \n",
       "                                                                        \n",
       " Department_1 EducationField_1   JobRole_1   MaritalStatus_1\n",
       " 1:364        1: 59            6      :270   1:259          \n",
       " 2: 54        2:491            8      :246   2:542          \n",
       " 3:759        3:364            5      :237   3:376          \n",
       "              4:136            3      :116                  \n",
       "              5: 23            4      :101                  \n",
       "              6:104            2      : 80                  \n",
       "                               (Other):127                  \n",
       "       Age_1.V1        MonthlyIncome_1.V1  TotalWorkingYears_1.V1\n",
       " Min.   :-2.0923240   Min.   :-1.1624133   Min.   :-1.460452     \n",
       " 1st Qu.:-0.7585701   1st Qu.:-0.7567161   1st Qu.:-0.677092     \n",
       " Median :-0.0916932   Median :-0.3390741   Median :-0.154853     \n",
       " Mean   : 0.0000000   Mean   : 0.0000000   Mean   : 0.000000     \n",
       " 3rd Qu.: 0.5751837   3rd Qu.: 0.3507391   3rd Qu.: 0.497947     \n",
       " Max.   : 2.5758145   Max.   : 2.8881597   Max.   : 3.761944     \n",
       "                                                                 \n",
       " YearsAtCompany_1.V1 YearsInCurrentRole_1.V1 YearsSinceLastPromotion_1.V1\n",
       " Min.   :-1.144964   Min.   :-1.168316       Min.   :-0.681989           \n",
       " 1st Qu.:-0.660556   1st Qu.:-0.621118       1st Qu.:-0.681989           \n",
       " Median :-0.337618   Median :-0.347519       Median :-0.368189           \n",
       " Mean   : 0.000000   Mean   : 0.000000       Mean   : 0.000000           \n",
       " 3rd Qu.: 0.469729   3rd Qu.: 0.746876       3rd Qu.: 0.259412           \n",
       " Max.   : 5.313808   Max.   : 3.756465       Max.   : 4.025016           \n",
       "                                                                         \n",
       " YearsWithCurrManager_1.V1 DistanceFromHome_1.V1   AgvSatisfy   \n",
       " Min.   :-1.160664         Min.   :-1.0033111    Min.   :1.000  \n",
       " 1st Qu.:-0.604773         1st Qu.:-0.8784277    1st Qu.:2.000  \n",
       " Median :-0.326828         Median :-0.2540109    Median :2.000  \n",
       " Mean   : 0.000000         Mean   : 0.0000000    Mean   :2.723  \n",
       " 3rd Qu.: 0.784953         3rd Qu.: 0.4952894    3rd Qu.:4.000  \n",
       " Max.   : 3.564406         Max.   : 2.4934234    Max.   :4.000  \n",
       "                                                                "
      ]
     },
     "metadata": {},
     "output_type": "display_data"
    }
   ],
   "source": [
    "wrangler <- (function(df) wrangling_process_1(df))\n",
    "\n",
    "df.procd <- shuffle_frame(wrangler(df.train))\n",
    "head(df.procd)\n",
    "summary(df.procd)"
   ]
  },
  {
   "cell_type": "markdown",
   "metadata": {},
   "source": [
    "### 資料降維處理"
   ]
  },
  {
   "cell_type": "code",
   "execution_count": 21,
   "metadata": {},
   "outputs": [
    {
     "ename": "ERROR",
     "evalue": "Error in Math.data.frame(df.procd[, 2:24]): non-numeric variable(s) in data frame: Target, Gender_1, BusinessTravel_1, Department_1, EducationField_1, JobRole_1, MaritalStatus_1\n",
     "output_type": "error",
     "traceback": [
      "Error in Math.data.frame(df.procd[, 2:24]): non-numeric variable(s) in data frame: Target, Gender_1, BusinessTravel_1, Department_1, EducationField_1, JobRole_1, MaritalStatus_1\nTraceback:\n",
      "1. Math.data.frame(df.procd[, 2:24])",
      "2. stop(\"non-numeric variable(s) in data frame: \", paste(vnames[!mode.ok], \n .     collapse = \", \"))"
     ]
    }
   ],
   "source": [
    "df.procd.log <- log(df.procd[, 2:24])\n",
    "df.procd.target <- df.procd[, 1]\n",
    "df.procd.pca <- prcomp(df.procd.log,center = TRUE, scale. = TRUE)"
   ]
  },
  {
   "cell_type": "code",
   "execution_count": null,
   "metadata": {},
   "outputs": [],
   "source": []
  },
  {
   "cell_type": "code",
   "execution_count": null,
   "metadata": {},
   "outputs": [],
   "source": []
  },
  {
   "cell_type": "code",
   "execution_count": null,
   "metadata": {},
   "outputs": [],
   "source": []
  },
  {
   "cell_type": "markdown",
   "metadata": {},
   "source": [
    "### 測試資料切分"
   ]
  },
  {
   "cell_type": "markdown",
   "metadata": {},
   "source": [
    "#### 做 k-fold 的函式"
   ]
  },
  {
   "cell_type": "code",
   "execution_count": 22,
   "metadata": {},
   "outputs": [],
   "source": [
    "build_fold_indices <- function(fold) {\n",
    "  valid_fold <- 1:fold\n",
    "  fold_indices <- data.frame(valid = valid_fold)\n",
    "  return(fold_indices)\n",
    "}\n",
    "pick_out_indices <- function(total_rows, fold, ...) {\n",
    "  indices <- c()\n",
    "  for (i in list(...)) {\n",
    "    indices <- append(indices, seq(i, total_rows, fold))\n",
    "  }\n",
    "  indices <- unique(indices)\n",
    "  return(indices)\n",
    "}\n",
    "get_by_exclude <- function(df, fold, ...) {\n",
    "  total_rows <- nrow(df)\n",
    "  exclude <- pick_out_indices(total_rows, fold, ...)\n",
    "  excluded <- df[-exclude,]\n",
    "  return(excluded)\n",
    "}\n",
    "get_by_index <- function(df, fold, ...) {\n",
    "  total_rows <- nrow(df)\n",
    "  include <- pick_out_indices(total_rows, fold, ...)\n",
    "  included <- df[include,]\n",
    "  return(included)\n",
    "}\n",
    "subset_by_fold <- function(df, fold, index, indices){\n",
    "  training_frame <- get_by_exclude(df,\n",
    "                                   fold,\n",
    "                                   indices[index, 'valid'])\n",
    "  validation_frame <- get_by_index(df, fold, indices[index, 'valid'])\n",
    "  return(list(training=training_frame,\n",
    "              validation=validation_frame))\n",
    "}"
   ]
  },
  {
   "cell_type": "markdown",
   "metadata": {},
   "source": [
    "#### 做 under/over sampling 並且切分為 training & validation 資料"
   ]
  },
  {
   "cell_type": "code",
   "execution_count": 23,
   "metadata": {},
   "outputs": [
    {
     "name": "stderr",
     "output_type": "stream",
     "text": [
      "Warning message in if (class(data[, col]) %in% c(\"factor\", \"character\")) {:\n",
      "“the condition has length > 1 and only the first element will be used”\n",
      "Warning message in if (class(data[, col]) %in% c(\"factor\", \"character\")) {:\n",
      "“the condition has length > 1 and only the first element will be used”\n",
      "Warning message in if (class(data[, col]) %in% c(\"factor\", \"character\")) {:\n",
      "“the condition has length > 1 and only the first element will be used”\n",
      "Warning message in if (class(data[, col]) %in% c(\"factor\", \"character\")) {:\n",
      "“the condition has length > 1 and only the first element will be used”\n",
      "Warning message in if (class(data[, col]) %in% c(\"factor\", \"character\")) {:\n",
      "“the condition has length > 1 and only the first element will be used”\n",
      "Warning message in if (class(data[, col]) %in% c(\"factor\", \"character\")) {:\n",
      "“the condition has length > 1 and only the first element will be used”\n",
      "Warning message in if (class(data[, col]) %in% c(\"factor\", \"character\")) {:\n",
      "“the condition has length > 1 and only the first element will be used”\n",
      "Warning message in if (class(data[, col]) %in% c(\"factor\", \"character\")) {:\n",
      "“the condition has length > 1 and only the first element will be used”\n"
     ]
    },
    {
     "data": {
      "image/png": "[encoded data removed]",
      "text/plain": [
       "plot without title"
      ]
     },
     "metadata": {
      "image/png": {
       "height": 420,
       "width": 420
      },
      "text/plain": {
       "height": 420,
       "width": 420
      }
     },
     "output_type": "display_data"
    },
    {
     "data": {
      "text/html": [
       "<table>\n",
       "<caption>A data.frame: 6 × 25</caption>\n",
       "<thead>\n",
       "\t<tr><th></th><th scope=col>Education</th><th scope=col>JobInvolvement</th><th scope=col>JobLevel</th><th scope=col>NumCompaniesWorked</th><th scope=col>PerformanceRating</th><th scope=col>RelationshipSatisfaction</th><th scope=col>StockOptionLevel</th><th scope=col>TrainingTimesLastYear</th><th scope=col>WorkLifeBalance</th><th scope=col>Target</th><th scope=col>Gender_1</th><th scope=col>BusinessTravel_1</th><th scope=col>Department_1</th><th scope=col>EducationField_1</th><th scope=col>JobRole_1</th><th scope=col>MaritalStatus_1</th><th scope=col>Age_1</th><th scope=col>MonthlyIncome_1</th><th scope=col>TotalWorkingYears_1</th><th scope=col>YearsAtCompany_1</th><th scope=col>YearsInCurrentRole_1</th><th scope=col>YearsSinceLastPromotion_1</th><th scope=col>YearsWithCurrManager_1</th><th scope=col>DistanceFromHome_1</th><th scope=col>AgvSatisfy</th></tr>\n",
       "\t<tr><th></th><th scope=col>&lt;dbl&gt;</th><th scope=col>&lt;dbl&gt;</th><th scope=col>&lt;dbl&gt;</th><th scope=col>&lt;dbl&gt;</th><th scope=col>&lt;dbl&gt;</th><th scope=col>&lt;dbl&gt;</th><th scope=col>&lt;dbl&gt;</th><th scope=col>&lt;dbl&gt;</th><th scope=col>&lt;dbl&gt;</th><th scope=col>&lt;fct&gt;</th><th scope=col>&lt;fct&gt;</th><th scope=col>&lt;fct&gt;</th><th scope=col>&lt;fct&gt;</th><th scope=col>&lt;fct&gt;</th><th scope=col>&lt;fct&gt;</th><th scope=col>&lt;fct&gt;</th><th scope=col>&lt;dbl[,1]&gt;</th><th scope=col>&lt;dbl[,1]&gt;</th><th scope=col>&lt;dbl[,1]&gt;</th><th scope=col>&lt;dbl[,1]&gt;</th><th scope=col>&lt;dbl[,1]&gt;</th><th scope=col>&lt;dbl[,1]&gt;</th><th scope=col>&lt;dbl[,1]&gt;</th><th scope=col>&lt;dbl[,1]&gt;</th><th scope=col>&lt;dbl&gt;</th></tr>\n",
       "</thead>\n",
       "<tbody>\n",
       "\t<tr><th scope=row>79</th><td>4</td><td>3</td><td>4</td><td>0</td><td>3</td><td>3</td><td>0</td><td>1</td><td>2</td><td>0</td><td>1</td><td>2</td><td>1</td><td>3</td><td>6</td><td>3</td><td> 2.3535221</td><td> 1.58126866</td><td> 3.5008244</td><td> 4.8294004</td><td> 1.5676731</td><td>-0.3681889</td><td> 1.06289868</td><td> 0.1206392</td><td>4</td></tr>\n",
       "\t<tr><th scope=row>431</th><td>2</td><td>3</td><td>2</td><td>3</td><td>3</td><td>4</td><td>0</td><td>2</td><td>3</td><td>0</td><td>0</td><td>2</td><td>3</td><td>3</td><td>4</td><td>3</td><td>-0.3139855</td><td>-0.06754281</td><td>-0.1548527</td><td>-0.3376177</td><td>-0.8947174</td><td> 0.5732122</td><td>-0.32682777</td><td>-0.1291275</td><td>2</td></tr>\n",
       "\t<tr><th scope=row>647</th><td>1</td><td>2</td><td>1</td><td>0</td><td>3</td><td>1</td><td>0</td><td>2</td><td>1</td><td>0</td><td>1</td><td>2</td><td>3</td><td>2</td><td>5</td><td>2</td><td>-0.9808624</td><td>-0.69485904</td><td>-0.6770923</td><td>-0.3376177</td><td>-0.3475195</td><td>-0.6819892</td><td>-0.04888248</td><td>-0.8784277</td><td>2</td></tr>\n",
       "\t<tr><th scope=row>736</th><td>2</td><td>4</td><td>5</td><td>1</td><td>3</td><td>4</td><td>2</td><td>4</td><td>2</td><td>0</td><td>1</td><td>2</td><td>3</td><td>2</td><td>2</td><td>1</td><td> 0.7974760</td><td> 2.71559976</td><td> 1.9341057</td><td> 2.8917687</td><td> 1.2940742</td><td> 3.7112159</td><td> 2.45262513</td><td>-0.6286610</td><td>2</td></tr>\n",
       "\t<tr><th scope=row>23</th><td>4</td><td>3</td><td>2</td><td>0</td><td>3</td><td>4</td><td>1</td><td>2</td><td>3</td><td>0</td><td>1</td><td>2</td><td>1</td><td>4</td><td>6</td><td>2</td><td> 0.5751837</td><td> 0.07814131</td><td>-0.1548527</td><td> 0.3082596</td><td> 0.7468763</td><td> 0.5732122</td><td>-0.60477306</td><td>-0.1291275</td><td>2</td></tr>\n",
       "\t<tr><th scope=row>721</th><td>3</td><td>3</td><td>2</td><td>1</td><td>3</td><td>2</td><td>2</td><td>2</td><td>3</td><td>0</td><td>1</td><td>2</td><td>3</td><td>2</td><td>4</td><td>1</td><td>-0.8697163</td><td> 0.03505465</td><td>-0.6770923</td><td>-0.1761483</td><td>-1.1683163</td><td>-0.3681889</td><td>-1.16066363</td><td>-0.2540109</td><td>4</td></tr>\n",
       "</tbody>\n",
       "</table>\n"
      ],
      "text/latex": [
       "A data.frame: 6 × 25\n",
       "\\begin{tabular}{r|lllllllllllllllllllllllll}\n",
       "  & Education & JobInvolvement & JobLevel & NumCompaniesWorked & PerformanceRating & RelationshipSatisfaction & StockOptionLevel & TrainingTimesLastYear & WorkLifeBalance & Target & Gender\\_1 & BusinessTravel\\_1 & Department\\_1 & EducationField\\_1 & JobRole\\_1 & MaritalStatus\\_1 & Age\\_1 & MonthlyIncome\\_1 & TotalWorkingYears\\_1 & YearsAtCompany\\_1 & YearsInCurrentRole\\_1 & YearsSinceLastPromotion\\_1 & YearsWithCurrManager\\_1 & DistanceFromHome\\_1 & AgvSatisfy\\\\\n",
       "  & <dbl> & <dbl> & <dbl> & <dbl> & <dbl> & <dbl> & <dbl> & <dbl> & <dbl> & <fct> & <fct> & <fct> & <fct> & <fct> & <fct> & <fct> & <dbl{[},1{]}> & <dbl{[},1{]}> & <dbl{[},1{]}> & <dbl{[},1{]}> & <dbl{[},1{]}> & <dbl{[},1{]}> & <dbl{[},1{]}> & <dbl{[},1{]}> & <dbl>\\\\\n",
       "\\hline\n",
       "\t79 & 4 & 3 & 4 & 0 & 3 & 3 & 0 & 1 & 2 & 0 & 1 & 2 & 1 & 3 & 6 & 3 &  2.3535221 &  1.58126866 &  3.5008244 &  4.8294004 &  1.5676731 & -0.3681889 &  1.06289868 &  0.1206392 & 4\\\\\n",
       "\t431 & 2 & 3 & 2 & 3 & 3 & 4 & 0 & 2 & 3 & 0 & 0 & 2 & 3 & 3 & 4 & 3 & -0.3139855 & -0.06754281 & -0.1548527 & -0.3376177 & -0.8947174 &  0.5732122 & -0.32682777 & -0.1291275 & 2\\\\\n",
       "\t647 & 1 & 2 & 1 & 0 & 3 & 1 & 0 & 2 & 1 & 0 & 1 & 2 & 3 & 2 & 5 & 2 & -0.9808624 & -0.69485904 & -0.6770923 & -0.3376177 & -0.3475195 & -0.6819892 & -0.04888248 & -0.8784277 & 2\\\\\n",
       "\t736 & 2 & 4 & 5 & 1 & 3 & 4 & 2 & 4 & 2 & 0 & 1 & 2 & 3 & 2 & 2 & 1 &  0.7974760 &  2.71559976 &  1.9341057 &  2.8917687 &  1.2940742 &  3.7112159 &  2.45262513 & -0.6286610 & 2\\\\\n",
       "\t23 & 4 & 3 & 2 & 0 & 3 & 4 & 1 & 2 & 3 & 0 & 1 & 2 & 1 & 4 & 6 & 2 &  0.5751837 &  0.07814131 & -0.1548527 &  0.3082596 &  0.7468763 &  0.5732122 & -0.60477306 & -0.1291275 & 2\\\\\n",
       "\t721 & 3 & 3 & 2 & 1 & 3 & 2 & 2 & 2 & 3 & 0 & 1 & 2 & 3 & 2 & 4 & 1 & -0.8697163 &  0.03505465 & -0.6770923 & -0.1761483 & -1.1683163 & -0.3681889 & -1.16066363 & -0.2540109 & 4\\\\\n",
       "\\end{tabular}\n"
      ],
      "text/markdown": [
       "\n",
       "A data.frame: 6 × 25\n",
       "\n",
       "| <!--/--> | Education &lt;dbl&gt; | JobInvolvement &lt;dbl&gt; | JobLevel &lt;dbl&gt; | NumCompaniesWorked &lt;dbl&gt; | PerformanceRating &lt;dbl&gt; | RelationshipSatisfaction &lt;dbl&gt; | StockOptionLevel &lt;dbl&gt; | TrainingTimesLastYear &lt;dbl&gt; | WorkLifeBalance &lt;dbl&gt; | Target &lt;fct&gt; | Gender_1 &lt;fct&gt; | BusinessTravel_1 &lt;fct&gt; | Department_1 &lt;fct&gt; | EducationField_1 &lt;fct&gt; | JobRole_1 &lt;fct&gt; | MaritalStatus_1 &lt;fct&gt; | Age_1 &lt;dbl[,1]&gt; | MonthlyIncome_1 &lt;dbl[,1]&gt; | TotalWorkingYears_1 &lt;dbl[,1]&gt; | YearsAtCompany_1 &lt;dbl[,1]&gt; | YearsInCurrentRole_1 &lt;dbl[,1]&gt; | YearsSinceLastPromotion_1 &lt;dbl[,1]&gt; | YearsWithCurrManager_1 &lt;dbl[,1]&gt; | DistanceFromHome_1 &lt;dbl[,1]&gt; | AgvSatisfy &lt;dbl&gt; |\n",
       "|---|---|---|---|---|---|---|---|---|---|---|---|---|---|---|---|---|---|---|---|---|---|---|---|---|---|\n",
       "| 79 | 4 | 3 | 4 | 0 | 3 | 3 | 0 | 1 | 2 | 0 | 1 | 2 | 1 | 3 | 6 | 3 |  2.3535221 |  1.58126866 |  3.5008244 |  4.8294004 |  1.5676731 | -0.3681889 |  1.06289868 |  0.1206392 | 4 |\n",
       "| 431 | 2 | 3 | 2 | 3 | 3 | 4 | 0 | 2 | 3 | 0 | 0 | 2 | 3 | 3 | 4 | 3 | -0.3139855 | -0.06754281 | -0.1548527 | -0.3376177 | -0.8947174 |  0.5732122 | -0.32682777 | -0.1291275 | 2 |\n",
       "| 647 | 1 | 2 | 1 | 0 | 3 | 1 | 0 | 2 | 1 | 0 | 1 | 2 | 3 | 2 | 5 | 2 | -0.9808624 | -0.69485904 | -0.6770923 | -0.3376177 | -0.3475195 | -0.6819892 | -0.04888248 | -0.8784277 | 2 |\n",
       "| 736 | 2 | 4 | 5 | 1 | 3 | 4 | 2 | 4 | 2 | 0 | 1 | 2 | 3 | 2 | 2 | 1 |  0.7974760 |  2.71559976 |  1.9341057 |  2.8917687 |  1.2940742 |  3.7112159 |  2.45262513 | -0.6286610 | 2 |\n",
       "| 23 | 4 | 3 | 2 | 0 | 3 | 4 | 1 | 2 | 3 | 0 | 1 | 2 | 1 | 4 | 6 | 2 |  0.5751837 |  0.07814131 | -0.1548527 |  0.3082596 |  0.7468763 |  0.5732122 | -0.60477306 | -0.1291275 | 2 |\n",
       "| 721 | 3 | 3 | 2 | 1 | 3 | 2 | 2 | 2 | 3 | 0 | 1 | 2 | 3 | 2 | 4 | 1 | -0.8697163 |  0.03505465 | -0.6770923 | -0.1761483 | -1.1683163 | -0.3681889 | -1.16066363 | -0.2540109 | 4 |\n",
       "\n"
      ],
      "text/plain": [
       "    Education JobInvolvement JobLevel NumCompaniesWorked PerformanceRating\n",
       "79  4         3              4        0                  3                \n",
       "431 2         3              2        3                  3                \n",
       "647 1         2              1        0                  3                \n",
       "736 2         4              5        1                  3                \n",
       "23  4         3              2        0                  3                \n",
       "721 3         3              2        1                  3                \n",
       "    RelationshipSatisfaction StockOptionLevel TrainingTimesLastYear\n",
       "79  3                        0                1                    \n",
       "431 4                        0                2                    \n",
       "647 1                        0                2                    \n",
       "736 4                        2                4                    \n",
       "23  4                        1                2                    \n",
       "721 2                        2                2                    \n",
       "    WorkLifeBalance Target Gender_1 BusinessTravel_1 Department_1\n",
       "79  2               0      1        2                1           \n",
       "431 3               0      0        2                3           \n",
       "647 1               0      1        2                3           \n",
       "736 2               0      1        2                3           \n",
       "23  3               0      1        2                1           \n",
       "721 3               0      1        2                3           \n",
       "    EducationField_1 JobRole_1 MaritalStatus_1 Age_1      MonthlyIncome_1\n",
       "79  3                6         3                2.3535221  1.58126866    \n",
       "431 3                4         3               -0.3139855 -0.06754281    \n",
       "647 2                5         2               -0.9808624 -0.69485904    \n",
       "736 2                2         1                0.7974760  2.71559976    \n",
       "23  4                6         2                0.5751837  0.07814131    \n",
       "721 2                4         1               -0.8697163  0.03505465    \n",
       "    TotalWorkingYears_1 YearsAtCompany_1 YearsInCurrentRole_1\n",
       "79   3.5008244           4.8294004        1.5676731          \n",
       "431 -0.1548527          -0.3376177       -0.8947174          \n",
       "647 -0.6770923          -0.3376177       -0.3475195          \n",
       "736  1.9341057           2.8917687        1.2940742          \n",
       "23  -0.1548527           0.3082596        0.7468763          \n",
       "721 -0.6770923          -0.1761483       -1.1683163          \n",
       "    YearsSinceLastPromotion_1 YearsWithCurrManager_1 DistanceFromHome_1\n",
       "79  -0.3681889                 1.06289868             0.1206392        \n",
       "431  0.5732122                -0.32682777            -0.1291275        \n",
       "647 -0.6819892                -0.04888248            -0.8784277        \n",
       "736  3.7112159                 2.45262513            -0.6286610        \n",
       "23   0.5732122                -0.60477306            -0.1291275        \n",
       "721 -0.3681889                -1.16066363            -0.2540109        \n",
       "    AgvSatisfy\n",
       "79  4         \n",
       "431 2         \n",
       "647 2         \n",
       "736 2         \n",
       "23  2         \n",
       "721 4         "
      ]
     },
     "metadata": {},
     "output_type": "display_data"
    },
    {
     "data": {
      "image/png": "[encoded data removed]",
      "text/plain": [
       "plot without title"
      ]
     },
     "metadata": {
      "image/png": {
       "height": 420,
       "width": 420
      },
      "text/plain": {
       "height": 420,
       "width": 420
      }
     },
     "output_type": "display_data"
    }
   ],
   "source": [
    "fold <- 3\n",
    "index <- 3\n",
    "df.rsmpl <- SMOTE(Target ~ ., df.procd, perc.over = 200, perc.under=200)\n",
    "# df.rsmpl <- df.procd\n",
    "fold_indices <- build_fold_indices(fold)\n",
    "splitted_frames <- subset_by_fold(df.rsmpl, fold, index, fold_indices)\n",
    "ggplot(df.rsmpl, aes(x = Target)) + geom_bar()\n",
    "ggplot(df.rsmpl, aes(x = JobRole_1, fill = Target)) + geom_bar() + theme(axis.text.x = element_text(angle = 90, vjust = 0.5, hjust=1))\n",
    "head(splitted_frames$training)"
   ]
  },
  {
   "cell_type": "markdown",
   "metadata": {},
   "source": [
    "### 模型訓練"
   ]
  },
  {
   "cell_type": "markdown",
   "metadata": {},
   "source": [
    "#### DecisionTree 分類器函式"
   ]
  },
  {
   "cell_type": "code",
   "execution_count": 24,
   "metadata": {},
   "outputs": [],
   "source": [
    "train_dt <- function(df, depth=5) {\n",
    "  model <- rpart(\n",
    "    Target ~ .,\n",
    "    data = df,\n",
    "    control = rpart.control(maxdepth = depth),\n",
    "    method = \"class\"\n",
    "  )\n",
    "  return (model)\n",
    "}\n",
    "\n",
    "predict_dt <- function(model, df) {\n",
    "  pred_class <- predict(model, df, type = \"class\")\n",
    "  pred_prob <- predict(model, df, type=\"prob\")\n",
    "  return (list(class=pred_class,\n",
    "              prob=pred_prob))\n",
    "}"
   ]
  },
  {
   "cell_type": "markdown",
   "metadata": {},
   "source": [
    "#### RandomForest 分類器函式"
   ]
  },
  {
   "cell_type": "code",
   "execution_count": 25,
   "metadata": {},
   "outputs": [],
   "source": [
    "train_rf <- function(df, mtry=9, ntree=100, maxnodes = 100) {\n",
    "   model <- randomForest(\n",
    "     Target ~ .,\n",
    "     data = df,\n",
    "     mtry = mtry,\n",
    "     importance=TRUE,\n",
    "     proximity=TRUE,\n",
    "     ntree=ntree,\n",
    "     maxnodes=maxnodes)\n",
    "   return (model)\n",
    " }\n",
    " predict_rf <- function(model, df) {\n",
    "   pred_class <- predict(model, df, type = \"class\")\n",
    "   pred_prob <- predict(model, df, type = \"prob\")\n",
    "   \n",
    "   return (list(class=pred_class,\n",
    "               prob=pred_prob))\n",
    " }"
   ]
  },
  {
   "cell_type": "markdown",
   "metadata": {},
   "source": [
    "#### Logistic Regression 分類器函式"
   ]
  },
  {
   "cell_type": "code",
   "execution_count": 26,
   "metadata": {},
   "outputs": [],
   "source": [
    "train_lg <- function(df) {\n",
    "  model <- glm(\n",
    "    Target ~ .,\n",
    "    data = df,\n",
    "    family = \"binomial\")\n",
    "  return (model)\n",
    "}\n",
    "\n",
    "predict_lg <- function(model, df, attrition_rate=0.5) {\n",
    "  pred_prob <- predict(model, df, type=\"response\")\n",
    "  pred_class <- ifelse(pred_prob > attrition_rate, 1, 0)  \n",
    "  return (list(class=pred_class,\n",
    "              prob=pred_prob))\n",
    "}"
   ]
  },
  {
   "cell_type": "markdown",
   "metadata": {},
   "source": [
    "### SVM 分類器函式"
   ]
  },
  {
   "cell_type": "code",
   "execution_count": 27,
   "metadata": {},
   "outputs": [],
   "source": [
    "train_sv <- function(df, kernel='linear') {\n",
    "  model_prob <- svm(\n",
    "    Target ~ .,\n",
    "    data = df,\n",
    "    kernel = kernel,\n",
    "    probability = TRUE)\n",
    "  \n",
    "  model_class <- svm(\n",
    "    Target ~ .,\n",
    "    data = df,\n",
    "    kernel = kernel,\n",
    "    probability = FALSE)\n",
    "  return (list(class=model_class,\n",
    "               prob=model_prob))\n",
    "}\n",
    "predict_sv <- function(model, df) {\n",
    "  pred_class <- predict(model$class, df, probability = FALSE)\n",
    "  pred_prob <- predict(model$prob, df, probability = TRUE)\n",
    "  return (list(class=pred_class,\n",
    "              prob=pred_prob))\n",
    "}"
   ]
  },
  {
   "cell_type": "markdown",
   "metadata": {},
   "source": [
    "### AdaBoost 分類器函式"
   ]
  },
  {
   "cell_type": "code",
   "execution_count": 40,
   "metadata": {},
   "outputs": [],
   "source": [
    "train_ad <- function(df, n=10) {\n",
    "  model <- adaboost(Target ~ ., df, n)\n",
    "  return (model)\n",
    "}\n",
    "predict_ad <- function(model, df) {\n",
    "  pred <- predict(model, df, prob=TRUE)\n",
    "  # pred_prob <- predict(model, df, type = \"prob\")\n",
    "  return (pred)\n",
    "}"
   ]
  },
  {
   "cell_type": "markdown",
   "metadata": {},
   "source": [
    "#### 模型訓練"
   ]
  },
  {
   "cell_type": "code",
   "execution_count": 52,
   "metadata": {
    "scrolled": false
   },
   "outputs": [],
   "source": [
    "# trainer <- (function(df) train_dt(df, 8))\n",
    "# predictor <- (function(model, df) predict_dt(model, df))\n",
    "# trainer <- (function(df) train_lg(df))\n",
    "# predictor <- (function(model, df) predict_lg(model, df))\n",
    "trainer <- (function(df) train_rf(df, 4, 100))\n",
    "predictor <- (function(model, df) predict_rf(model, df))\n",
    "# trainer <- (function(df) train_sv(df, kernel='sigmoid'))\n",
    "# predictor <- (function(model, df) predict_sv(model, df))\n",
    "# trainer <- (function(df) train_ad(df, 10))\n",
    "# predictor <- (function(model, df) predict_ad(model, df))\n",
    "\n",
    "model <- trainer(splitted_frames$training)"
   ]
  },
  {
   "cell_type": "markdown",
   "metadata": {},
   "source": [
    "### 模型評估"
   ]
  },
  {
   "cell_type": "markdown",
   "metadata": {},
   "source": [
    "#### 預備模型評估的函式"
   ]
  },
  {
   "cell_type": "code",
   "execution_count": 53,
   "metadata": {},
   "outputs": [],
   "source": [
    "build_cm <- function(df, pred) {\n",
    "  result_frame <- data.frame(truth = df$Target,\n",
    "                             pred = pred)\n",
    "  result_table <- table(result_frame)\n",
    "  return(result_table)\n",
    "}\n",
    "cal_pred_result <- function(cM) {\n",
    "  true_col <- 2\n",
    "  false_col <- 1\n",
    "  positive_row <- 2\n",
    "  negative_row <- 1\n",
    "  \n",
    "  TP <- cM[positive_row, ][true_col]\n",
    "  FN <- cM[positive_row, ][false_col]\n",
    "  TN <- cM[negative_row, ][false_col]\n",
    "  FP <- cM[negative_row, ][true_col]\n",
    "  \n",
    "  result <- c(TP, FP, TN, FN)\n",
    "  names(result) = c(\"TP\", \"FP\", \"TN\", \"FN\")\n",
    "  return(result)\n",
    "}\n",
    "get_rounded <- function(value, round_digits = 2) {\n",
    "  return(round(value, digits = round_digits))\n",
    "}\n",
    "cal_accu <- function(pred_result) {\n",
    "  TP <- unname(pred_result[\"TP\"])\n",
    "  FN <- unname(pred_result[\"FN\"])\n",
    "  TN <- unname(pred_result[\"TN\"])\n",
    "  FP <- unname(pred_result[\"FP\"])\n",
    "  total_rows = TP + FN + TN + FP\n",
    "  accuracy <- (TP + TN) / total_rows\n",
    "  return(get_rounded(accuracy))\n",
    "}\n",
    "cal_sensitivity <- function(pred_result) {\n",
    "  TP <- unname(pred_result[\"TP\"])\n",
    "  FN <- unname(pred_result[\"FN\"])\n",
    "  sensitivity <- TP / (TP + FN)\n",
    "  return(get_rounded(sensitivity))\n",
    "}\n",
    "cal_specificity <- function(pred_result) {\n",
    "  TN <- unname(pred_result[\"TN\"])\n",
    "  FP <- unname(pred_result[\"FP\"])\n",
    "  specificity <- TN / (TN + FP)\n",
    "  return(get_rounded(specificity))\n",
    "}\n",
    "cal_F1 <- function(pred_result) {\n",
    "  precision <- cal_precision(pred_result)\n",
    "  recall <- cal_sensitivity(pred_result)\n",
    "  F1 <- (2 * precision * recall) / (precision + recall)\n",
    "  return(get_rounded(F1))\n",
    "}\n",
    "cal_precision <- function(pred_result) {\n",
    "  TP <- unname(pred_result[\"TP\"])\n",
    "  FP <- unname(pred_result[\"FP\"])\n",
    "  precision <- TP / (TP + FP)\n",
    "  return(get_rounded(precision))\n",
    "}\n",
    "evaluate_model <- function(df, pred){\n",
    "  pred_class <- pred$class\n",
    "  pred_prob <- pred$prob\n",
    "  predict_cm <- build_cm(df, pred_class)\n",
    "  predict_result <- cal_pred_result(predict_cm)\n",
    "  accu <- cal_accu(predict_result)\n",
    "  preci <- cal_precision(predict_result)\n",
    "  sens <- cal_sensitivity(predict_result)\n",
    "  recl <- sens\n",
    "  spec <- cal_specificity(predict_result)\n",
    "  f1 <- cal_F1(predict_result)\n",
    "  \n",
    "  # svm\n",
    "  # attr(pred_prob, 'probabilities')\n",
    "  # roc_pred <- prediction(attr(pred_prob, 'probabilities')[, 1], df$Target)\n",
    "  \n",
    "  # normal\n",
    "  roc_pred <- prediction(pred_prob[, 2], df$Target)\n",
    "  \n",
    "  roc_perf <- performance(roc_pred, measure = 'auc')\n",
    "  r2 <- cor(as.numeric(df$Target), as.numeric(pred_class)) ^ 2\n",
    "  \n",
    "  return(list(cm=predict_cm,\n",
    "              result=predict_result,\n",
    "              accuracy=accu,\n",
    "              recall=recl,\n",
    "              precision=preci,\n",
    "              sensitivity=sens,\n",
    "              specificity=spec,\n",
    "              F1=f1,\n",
    "              AUC=roc_perf@y.values[[1]],\n",
    "              R2=r2))\n",
    "}"
   ]
  },
  {
   "cell_type": "markdown",
   "metadata": {},
   "source": [
    "#### 評估模型預測結果"
   ]
  },
  {
   "cell_type": "markdown",
   "metadata": {},
   "source": [
    "##### 訓練資料集"
   ]
  },
  {
   "cell_type": "code",
   "execution_count": 54,
   "metadata": {},
   "outputs": [
    {
     "name": "stdout",
     "output_type": "stream",
     "text": [
      "[1] \"training:\"\n",
      "$cm\n",
      "     pred\n",
      "truth   0   1\n",
      "    0 507   0\n",
      "    1   8 372\n",
      "\n",
      "$result\n",
      " TP  FP  TN  FN \n",
      "372   0 507   8 \n",
      "\n",
      "$accuracy\n",
      "[1] 0.99\n",
      "\n",
      "$recall\n",
      "[1] 0.98\n",
      "\n",
      "$precision\n",
      "[1] 1\n",
      "\n",
      "$sensitivity\n",
      "[1] 0.98\n",
      "\n",
      "$specificity\n",
      "[1] 1\n",
      "\n",
      "$F1\n",
      "[1] 0.99\n",
      "\n",
      "$AUC\n",
      "[1] 0.9999325\n",
      "\n",
      "$R2\n",
      "[1] 0.9637404\n",
      "\n"
     ]
    }
   ],
   "source": [
    "print('training:')\n",
    "pred_train <- predictor(model, splitted_frames$training)\n",
    "# print(pred_train)\n",
    "\n",
    "result_train <- evaluate_model(splitted_frames$training, pred_train)\n",
    "print(result_train)"
   ]
  },
  {
   "cell_type": "markdown",
   "metadata": {},
   "source": [
    "##### 驗證資料集"
   ]
  },
  {
   "cell_type": "code",
   "execution_count": 55,
   "metadata": {},
   "outputs": [
    {
     "name": "stdout",
     "output_type": "stream",
     "text": [
      "[1] \"validation:\"\n",
      "$cm\n",
      "     pred\n",
      "truth   0   1\n",
      "    0 243  10\n",
      "    1  35 155\n",
      "\n",
      "$result\n",
      " TP  FP  TN  FN \n",
      "155  10 243  35 \n",
      "\n",
      "$accuracy\n",
      "[1] 0.9\n",
      "\n",
      "$recall\n",
      "[1] 0.82\n",
      "\n",
      "$precision\n",
      "[1] 0.94\n",
      "\n",
      "$sensitivity\n",
      "[1] 0.82\n",
      "\n",
      "$specificity\n",
      "[1] 0.96\n",
      "\n",
      "$F1\n",
      "[1] 0.88\n",
      "\n",
      "$AUC\n",
      "[1] 0.9597982\n",
      "\n",
      "$R2\n",
      "[1] 0.6314864\n",
      "\n"
     ]
    }
   ],
   "source": [
    "print('validation:')\n",
    "pred_valid <- predictor(model, splitted_frames$validation)\n",
    "result_valid <- evaluate_model(splitted_frames$validation, pred_valid)\n",
    "print(result_valid)"
   ]
  },
  {
   "cell_type": "markdown",
   "metadata": {},
   "source": [
    "### 執行最後測試的資料"
   ]
  },
  {
   "cell_type": "code",
   "execution_count": 56,
   "metadata": {},
   "outputs": [
    {
     "name": "stdout",
     "output_type": "stream",
     "text": [
      "[1] \"testing:\"\n",
      "$cm\n",
      "     pred\n",
      "truth   0   1\n",
      "    0 220  26\n",
      "    1  26  21\n",
      "\n",
      "$result\n",
      " TP  FP  TN  FN \n",
      " 21  26 220  26 \n",
      "\n",
      "$accuracy\n",
      "[1] 0.82\n",
      "\n",
      "$recall\n",
      "[1] 0.45\n",
      "\n",
      "$precision\n",
      "[1] 0.45\n",
      "\n",
      "$sensitivity\n",
      "[1] 0.45\n",
      "\n",
      "$specificity\n",
      "[1] 0.89\n",
      "\n",
      "$F1\n",
      "[1] 0.45\n",
      "\n",
      "$AUC\n",
      "[1] 0.7711036\n",
      "\n",
      "$R2\n",
      "[1] 0.1163611\n",
      "\n"
     ]
    }
   ],
   "source": [
    "print('testing:')\n",
    "model.rsmpl <- trainer(df.rsmpl)\n",
    "df.test2 <- wrangler(df.test)\n",
    "pred_test <- predictor(model.rsmpl, df.test2)\n",
    "# pred_test <- predictor(model, df.test2)\n",
    "result_test <- evaluate_model(df.test2, pred_test)\n",
    "print(result_test)"
   ]
  },
  {
   "cell_type": "code",
   "execution_count": null,
   "metadata": {},
   "outputs": [],
   "source": []
  },
  {
   "cell_type": "code",
   "execution_count": null,
   "metadata": {},
   "outputs": [],
   "source": []
  },
  {
   "cell_type": "code",
   "execution_count": null,
   "metadata": {},
   "outputs": [],
   "source": []
  },
  {
   "cell_type": "code",
   "execution_count": null,
   "metadata": {},
   "outputs": [],
   "source": []
  }
 ],
 "metadata": {
  "kernelspec": {
   "display_name": "R",
   "language": "R",
   "name": "ir"
  },
  "language_info": {
   "codemirror_mode": "r",
   "file_extension": ".r",
   "mimetype": "text/x-r-source",
   "name": "R",
   "pygments_lexer": "r",
   "version": "4.0.3"
  }
 },
 "nbformat": 4,
 "nbformat_minor": 4
}
