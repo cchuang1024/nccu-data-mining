{
 "cells": [
  {
   "cell_type": "code",
   "execution_count": 29,
   "metadata": {},
   "outputs": [],
   "source": [
    "library(tidyverse)"
   ]
  },
  {
   "cell_type": "code",
   "execution_count": 48,
   "metadata": {
    "scrolled": false
   },
   "outputs": [
    {
     "data": {
      "text/html": [
       "<table>\n",
       "<caption>A data.frame: 3 × 27</caption>\n",
       "<thead>\n",
       "\t<tr><th></th><th scope=col>Age</th><th scope=col>Attrition</th><th scope=col>BusinessTravel</th><th scope=col>Department</th><th scope=col>DistanceFromHome</th><th scope=col>Education</th><th scope=col>EducationField</th><th scope=col>EmployeeNumber</th><th scope=col>EnvironmentSatisfaction</th><th scope=col>Gender</th><th scope=col>⋯</th><th scope=col>PerformanceRating</th><th scope=col>RelationshipSatisfaction</th><th scope=col>StockOptionLevel</th><th scope=col>TotalWorkingYears</th><th scope=col>TrainingTimesLastYear</th><th scope=col>WorkLifeBalance</th><th scope=col>YearsAtCompany</th><th scope=col>YearsInCurrentRole</th><th scope=col>YearsSinceLastPromotion</th><th scope=col>YearsWithCurrManager</th></tr>\n",
       "\t<tr><th></th><th scope=col>&lt;int&gt;</th><th scope=col>&lt;chr&gt;</th><th scope=col>&lt;chr&gt;</th><th scope=col>&lt;chr&gt;</th><th scope=col>&lt;int&gt;</th><th scope=col>&lt;int&gt;</th><th scope=col>&lt;chr&gt;</th><th scope=col>&lt;int&gt;</th><th scope=col>&lt;int&gt;</th><th scope=col>&lt;chr&gt;</th><th scope=col>⋯</th><th scope=col>&lt;int&gt;</th><th scope=col>&lt;int&gt;</th><th scope=col>&lt;int&gt;</th><th scope=col>&lt;int&gt;</th><th scope=col>&lt;int&gt;</th><th scope=col>&lt;int&gt;</th><th scope=col>&lt;int&gt;</th><th scope=col>&lt;int&gt;</th><th scope=col>&lt;int&gt;</th><th scope=col>&lt;int&gt;</th></tr>\n",
       "</thead>\n",
       "<tbody>\n",
       "\t<tr><th scope=row>1</th><td>41</td><td>Yes</td><td>Travel_Rarely    </td><td>Sales                 </td><td>1</td><td>2</td><td>Life Sciences</td><td>1</td><td>2</td><td>Female</td><td>⋯</td><td>3</td><td>1</td><td>0</td><td> 8</td><td>0</td><td>1</td><td> 6</td><td>4</td><td>0</td><td>5</td></tr>\n",
       "\t<tr><th scope=row>2</th><td>49</td><td>No </td><td>Travel_Frequently</td><td>Research &amp; Development</td><td>8</td><td>1</td><td>Life Sciences</td><td>2</td><td>3</td><td><span style=white-space:pre-wrap>Male  </span></td><td>⋯</td><td>4</td><td>4</td><td>1</td><td>10</td><td>3</td><td>3</td><td>10</td><td>7</td><td>1</td><td>7</td></tr>\n",
       "\t<tr><th scope=row>3</th><td>37</td><td>Yes</td><td><span style=white-space:pre-wrap>Travel_Rarely    </span></td><td>Research &amp; Development</td><td>2</td><td>2</td><td><span style=white-space:pre-wrap>Other        </span></td><td>4</td><td>4</td><td><span style=white-space:pre-wrap>Male  </span></td><td>⋯</td><td>3</td><td>2</td><td>0</td><td> 7</td><td>3</td><td>3</td><td> 0</td><td>0</td><td>0</td><td>0</td></tr>\n",
       "</tbody>\n",
       "</table>\n"
      ],
      "text/latex": [
       "A data.frame: 3 × 27\n",
       "\\begin{tabular}{r|lllllllllllllllllllll}\n",
       "  & Age & Attrition & BusinessTravel & Department & DistanceFromHome & Education & EducationField & EmployeeNumber & EnvironmentSatisfaction & Gender & ⋯ & PerformanceRating & RelationshipSatisfaction & StockOptionLevel & TotalWorkingYears & TrainingTimesLastYear & WorkLifeBalance & YearsAtCompany & YearsInCurrentRole & YearsSinceLastPromotion & YearsWithCurrManager\\\\\n",
       "  & <int> & <chr> & <chr> & <chr> & <int> & <int> & <chr> & <int> & <int> & <chr> & ⋯ & <int> & <int> & <int> & <int> & <int> & <int> & <int> & <int> & <int> & <int>\\\\\n",
       "\\hline\n",
       "\t1 & 41 & Yes & Travel\\_Rarely     & Sales                  & 1 & 2 & Life Sciences & 1 & 2 & Female & ⋯ & 3 & 1 & 0 &  8 & 0 & 1 &  6 & 4 & 0 & 5\\\\\n",
       "\t2 & 49 & No  & Travel\\_Frequently & Research \\& Development & 8 & 1 & Life Sciences & 2 & 3 & Male   & ⋯ & 4 & 4 & 1 & 10 & 3 & 3 & 10 & 7 & 1 & 7\\\\\n",
       "\t3 & 37 & Yes & Travel\\_Rarely     & Research \\& Development & 2 & 2 & Other         & 4 & 4 & Male   & ⋯ & 3 & 2 & 0 &  7 & 3 & 3 &  0 & 0 & 0 & 0\\\\\n",
       "\\end{tabular}\n"
      ],
      "text/markdown": [
       "\n",
       "A data.frame: 3 × 27\n",
       "\n",
       "| <!--/--> | Age &lt;int&gt; | Attrition &lt;chr&gt; | BusinessTravel &lt;chr&gt; | Department &lt;chr&gt; | DistanceFromHome &lt;int&gt; | Education &lt;int&gt; | EducationField &lt;chr&gt; | EmployeeNumber &lt;int&gt; | EnvironmentSatisfaction &lt;int&gt; | Gender &lt;chr&gt; | ⋯ ⋯ | PerformanceRating &lt;int&gt; | RelationshipSatisfaction &lt;int&gt; | StockOptionLevel &lt;int&gt; | TotalWorkingYears &lt;int&gt; | TrainingTimesLastYear &lt;int&gt; | WorkLifeBalance &lt;int&gt; | YearsAtCompany &lt;int&gt; | YearsInCurrentRole &lt;int&gt; | YearsSinceLastPromotion &lt;int&gt; | YearsWithCurrManager &lt;int&gt; |\n",
       "|---|---|---|---|---|---|---|---|---|---|---|---|---|---|---|---|---|---|---|---|---|---|\n",
       "| 1 | 41 | Yes | Travel_Rarely     | Sales                  | 1 | 2 | Life Sciences | 1 | 2 | Female | ⋯ | 3 | 1 | 0 |  8 | 0 | 1 |  6 | 4 | 0 | 5 |\n",
       "| 2 | 49 | No  | Travel_Frequently | Research &amp; Development | 8 | 1 | Life Sciences | 2 | 3 | Male   | ⋯ | 4 | 4 | 1 | 10 | 3 | 3 | 10 | 7 | 1 | 7 |\n",
       "| 3 | 37 | Yes | Travel_Rarely     | Research &amp; Development | 2 | 2 | Other         | 4 | 4 | Male   | ⋯ | 3 | 2 | 0 |  7 | 3 | 3 |  0 | 0 | 0 | 0 |\n",
       "\n"
      ],
      "text/plain": [
       "  Age Attrition BusinessTravel    Department             DistanceFromHome\n",
       "1 41  Yes       Travel_Rarely     Sales                  1               \n",
       "2 49  No        Travel_Frequently Research & Development 8               \n",
       "3 37  Yes       Travel_Rarely     Research & Development 2               \n",
       "  Education EducationField EmployeeNumber EnvironmentSatisfaction Gender ⋯\n",
       "1 2         Life Sciences  1              2                       Female ⋯\n",
       "2 1         Life Sciences  2              3                       Male   ⋯\n",
       "3 2         Other          4              4                       Male   ⋯\n",
       "  PerformanceRating RelationshipSatisfaction StockOptionLevel TotalWorkingYears\n",
       "1 3                 1                        0                 8               \n",
       "2 4                 4                        1                10               \n",
       "3 3                 2                        0                 7               \n",
       "  TrainingTimesLastYear WorkLifeBalance YearsAtCompany YearsInCurrentRole\n",
       "1 0                     1                6             4                 \n",
       "2 3                     3               10             7                 \n",
       "3 3                     3                0             0                 \n",
       "  YearsSinceLastPromotion YearsWithCurrManager\n",
       "1 0                       5                   \n",
       "2 1                       7                   \n",
       "3 0                       0                   "
      ]
     },
     "metadata": {},
     "output_type": "display_data"
    }
   ],
   "source": [
    "orig <- read.csv('./hw2/training.csv', sep = ',')\n",
    "head(orig, n=3)"
   ]
  },
  {
   "cell_type": "code",
   "execution_count": 31,
   "metadata": {},
   "outputs": [
    {
     "data": {
      "text/html": [
       "<style>\n",
       ".list-inline {list-style: none; margin:0; padding: 0}\n",
       ".list-inline>li {display: inline-block}\n",
       ".list-inline>li:not(:last-child)::after {content: \"\\00b7\"; padding: 0 .5ex}\n",
       "</style>\n",
       "<ol class=list-inline><li>'Age'</li><li>'Attrition'</li><li>'BusinessTravel'</li><li>'Department'</li><li>'DistanceFromHome'</li><li>'Education'</li><li>'EducationField'</li><li>'EmployeeNumber'</li><li>'EnvironmentSatisfaction'</li><li>'Gender'</li><li>'JobInvolvement'</li><li>'JobLevel'</li><li>'JobRole'</li><li>'JobSatisfaction'</li><li>'MaritalStatus'</li><li>'MonthlyIncome'</li><li>'NumCompaniesWorked'</li><li>'PerformanceRating'</li><li>'RelationshipSatisfaction'</li><li>'StockOptionLevel'</li><li>'TotalWorkingYears'</li><li>'TrainingTimesLastYear'</li><li>'WorkLifeBalance'</li><li>'YearsAtCompany'</li><li>'YearsInCurrentRole'</li><li>'YearsSinceLastPromotion'</li><li>'YearsWithCurrManager'</li></ol>\n"
      ],
      "text/latex": [
       "\\begin{enumerate*}\n",
       "\\item 'Age'\n",
       "\\item 'Attrition'\n",
       "\\item 'BusinessTravel'\n",
       "\\item 'Department'\n",
       "\\item 'DistanceFromHome'\n",
       "\\item 'Education'\n",
       "\\item 'EducationField'\n",
       "\\item 'EmployeeNumber'\n",
       "\\item 'EnvironmentSatisfaction'\n",
       "\\item 'Gender'\n",
       "\\item 'JobInvolvement'\n",
       "\\item 'JobLevel'\n",
       "\\item 'JobRole'\n",
       "\\item 'JobSatisfaction'\n",
       "\\item 'MaritalStatus'\n",
       "\\item 'MonthlyIncome'\n",
       "\\item 'NumCompaniesWorked'\n",
       "\\item 'PerformanceRating'\n",
       "\\item 'RelationshipSatisfaction'\n",
       "\\item 'StockOptionLevel'\n",
       "\\item 'TotalWorkingYears'\n",
       "\\item 'TrainingTimesLastYear'\n",
       "\\item 'WorkLifeBalance'\n",
       "\\item 'YearsAtCompany'\n",
       "\\item 'YearsInCurrentRole'\n",
       "\\item 'YearsSinceLastPromotion'\n",
       "\\item 'YearsWithCurrManager'\n",
       "\\end{enumerate*}\n"
      ],
      "text/markdown": [
       "1. 'Age'\n",
       "2. 'Attrition'\n",
       "3. 'BusinessTravel'\n",
       "4. 'Department'\n",
       "5. 'DistanceFromHome'\n",
       "6. 'Education'\n",
       "7. 'EducationField'\n",
       "8. 'EmployeeNumber'\n",
       "9. 'EnvironmentSatisfaction'\n",
       "10. 'Gender'\n",
       "11. 'JobInvolvement'\n",
       "12. 'JobLevel'\n",
       "13. 'JobRole'\n",
       "14. 'JobSatisfaction'\n",
       "15. 'MaritalStatus'\n",
       "16. 'MonthlyIncome'\n",
       "17. 'NumCompaniesWorked'\n",
       "18. 'PerformanceRating'\n",
       "19. 'RelationshipSatisfaction'\n",
       "20. 'StockOptionLevel'\n",
       "21. 'TotalWorkingYears'\n",
       "22. 'TrainingTimesLastYear'\n",
       "23. 'WorkLifeBalance'\n",
       "24. 'YearsAtCompany'\n",
       "25. 'YearsInCurrentRole'\n",
       "26. 'YearsSinceLastPromotion'\n",
       "27. 'YearsWithCurrManager'\n",
       "\n",
       "\n"
      ],
      "text/plain": [
       " [1] \"Age\"                      \"Attrition\"               \n",
       " [3] \"BusinessTravel\"           \"Department\"              \n",
       " [5] \"DistanceFromHome\"         \"Education\"               \n",
       " [7] \"EducationField\"           \"EmployeeNumber\"          \n",
       " [9] \"EnvironmentSatisfaction\"  \"Gender\"                  \n",
       "[11] \"JobInvolvement\"           \"JobLevel\"                \n",
       "[13] \"JobRole\"                  \"JobSatisfaction\"         \n",
       "[15] \"MaritalStatus\"            \"MonthlyIncome\"           \n",
       "[17] \"NumCompaniesWorked\"       \"PerformanceRating\"       \n",
       "[19] \"RelationshipSatisfaction\" \"StockOptionLevel\"        \n",
       "[21] \"TotalWorkingYears\"        \"TrainingTimesLastYear\"   \n",
       "[23] \"WorkLifeBalance\"          \"YearsAtCompany\"          \n",
       "[25] \"YearsInCurrentRole\"       \"YearsSinceLastPromotion\" \n",
       "[27] \"YearsWithCurrManager\"    "
      ]
     },
     "metadata": {},
     "output_type": "display_data"
    }
   ],
   "source": [
    "colnames(orig)"
   ]
  },
  {
   "cell_type": "code",
   "execution_count": 49,
   "metadata": {},
   "outputs": [
    {
     "data": {
      "text/html": [
       "<style>\n",
       ".list-inline {list-style: none; margin:0; padding: 0}\n",
       ".list-inline>li {display: inline-block}\n",
       ".list-inline>li:not(:last-child)::after {content: \"\\00b7\"; padding: 0 .5ex}\n",
       "</style>\n",
       "<ol class=list-inline><li>'Sales Executive'</li><li>'Research Scientist'</li><li>'Laboratory Technician'</li><li>'Healthcare Representative'</li><li>'Manager'</li><li>'Manufacturing Director'</li><li>'Sales Representative'</li><li>'Research Director'</li><li>'Human Resources'</li></ol>\n"
      ],
      "text/latex": [
       "\\begin{enumerate*}\n",
       "\\item 'Sales Executive'\n",
       "\\item 'Research Scientist'\n",
       "\\item 'Laboratory Technician'\n",
       "\\item 'Healthcare Representative'\n",
       "\\item 'Manager'\n",
       "\\item 'Manufacturing Director'\n",
       "\\item 'Sales Representative'\n",
       "\\item 'Research Director'\n",
       "\\item 'Human Resources'\n",
       "\\end{enumerate*}\n"
      ],
      "text/markdown": [
       "1. 'Sales Executive'\n",
       "2. 'Research Scientist'\n",
       "3. 'Laboratory Technician'\n",
       "4. 'Healthcare Representative'\n",
       "5. 'Manager'\n",
       "6. 'Manufacturing Director'\n",
       "7. 'Sales Representative'\n",
       "8. 'Research Director'\n",
       "9. 'Human Resources'\n",
       "\n",
       "\n"
      ],
      "text/plain": [
       "[1] \"Sales Executive\"           \"Research Scientist\"       \n",
       "[3] \"Laboratory Technician\"     \"Healthcare Representative\"\n",
       "[5] \"Manager\"                   \"Manufacturing Director\"   \n",
       "[7] \"Sales Representative\"      \"Research Director\"        \n",
       "[9] \"Human Resources\"          "
      ]
     },
     "metadata": {},
     "output_type": "display_data"
    }
   ],
   "source": [
    "unique(orig[, 'JobRole'])"
   ]
  },
  {
   "cell_type": "code",
   "execution_count": 32,
   "metadata": {},
   "outputs": [
    {
     "data": {
      "image/png": "[encoded data removed]",
      "text/plain": [
       "plot without title"
      ]
     },
     "metadata": {
      "image/png": {
       "height": 420,
       "width": 420
      },
      "text/plain": {
       "height": 420,
       "width": 420
      }
     },
     "output_type": "display_data"
    }
   ],
   "source": [
    "ggplot(orig, aes(x = Attrition)) + geom_bar()"
   ]
  },
  {
   "cell_type": "code",
   "execution_count": 33,
   "metadata": {},
   "outputs": [],
   "source": [
    "set_col_to_factor <- function(df, ...){\n",
    "  cols <- unlist(list(...))\n",
    "  for(col in cols){\n",
    "    df[, col] <- as.factor(df[, col])\n",
    "  }\n",
    "  return(df)\n",
    "}\n",
    "set_col_to_integer <- function(df, ...){\n",
    "  cols <- unlist(list(...))\n",
    "  for(col in cols) {\n",
    "    df[, col] <- as.integer(df[, col])\n",
    "  }\n",
    "  return(df)\n",
    "}\n",
    "set_col_to_numeric <- function(df, ...){\n",
    "  cols <- unlist(list(...))\n",
    "  for(col in cols){\n",
    "    df[, col] <- as.numeric(df[, col])\n",
    "  } \n",
    "  return (df)\n",
    "}\n",
    "set_col_to_category <- function(df, old_col, new_col, mapper){\n",
    "  df[new_col] <- as.factor(mapper(df[old_col]))\n",
    "  return(df)\n",
    "}"
   ]
  },
  {
   "cell_type": "code",
   "execution_count": 50,
   "metadata": {},
   "outputs": [
    {
     "data": {
      "image/png": "[encoded data removed]",
      "text/plain": [
       "plot without title"
      ]
     },
     "metadata": {
      "image/png": {
       "height": 420,
       "width": 420
      },
      "text/plain": {
       "height": 420,
       "width": 420
      }
     },
     "output_type": "display_data"
    }
   ],
   "source": [
    "ggplot(orig, aes(x = JobRole, fill = Attrition)) + geom_bar()"
   ]
  },
  {
   "cell_type": "code",
   "execution_count": 35,
   "metadata": {},
   "outputs": [],
   "source": [
    "build_fold_indices <- function(fold) {\n",
    "  test_fold <- 1:fold\n",
    "  shifted <- (test_fold + 1)\n",
    "  valid_fold <- ifelse((shifted > fold), shifted %% fold, shifted)\n",
    "  fold_indices <- data.frame(test = test_fold, valid = valid_fold)\n",
    "  \n",
    "  return(fold_indices)\n",
    "}\n",
    "\n",
    "pick_out_indices <- function(total_rows, fold, ...) {\n",
    "  indices <- c()\n",
    "  \n",
    "  for (i in list(...)) {\n",
    "    indices <- append(indices, seq(i, total_rows, fold))\n",
    "  }\n",
    "  \n",
    "  indices <- unique(indices)\n",
    "  \n",
    "  return(indices)\n",
    "}\n",
    "\n",
    "get_by_exclude <- function(df, fold, ...) {\n",
    "  total_rows <- nrow(df)\n",
    "  exclude <- pick_out_indices(total_rows, fold, ...)\n",
    "  excluded <- df[-exclude,]\n",
    "  \n",
    "  return(excluded)\n",
    "}\n",
    "\n",
    "get_by_index <- function(df, fold, ...) {\n",
    "  total_rows <- nrow(df)\n",
    "  \n",
    "  include <- pick_out_indices(total_rows, fold, ...)\n",
    "  included <- df[include,]\n",
    "  \n",
    "  return(included)\n",
    "}\n",
    "\n",
    "subset_by_fold <- function(df, fold, index, indices){\n",
    "  training_frame <- get_by_exclude(df,\n",
    "                                   fold,\n",
    "                                   indices[index, ]$test,\n",
    "                                   indices[index, ]$valid)\n",
    "  validation_frame <- get_by_index(df, fold, indices[index, ]$valid)\n",
    "  testing_frame <- get_by_index(df, fold, indices[index, ]$test)\n",
    "  \n",
    "  return(list(training=training_frame,\n",
    "              validation=validation_frame,\n",
    "              testing=testing_frame))\n",
    "}\n",
    "\n",
    "shuffle_frame <- function(df){\n",
    "   set.seed(28657)\n",
    "   shf_rows <- sample(nrow(df))\n",
    "   shf_train <- df[shf_rows, ]\n",
    "   return(shf_train)\n",
    "}\n",
    "\n",
    "remove_cols <- function(df, ...){\n",
    "  cols <- unlist(list(...))\n",
    "  new_df <- df[, !(names(df) %in% cols)]\n",
    "  return(new_df)\n",
    "}"
   ]
  },
  {
   "cell_type": "code",
   "execution_count": 36,
   "metadata": {},
   "outputs": [],
   "source": [
    "gender_mapper <- function(gender){\n",
    "  return(ifelse(gender == 'Male', 1, 0))\n",
    "}\n",
    "age_mapper <- function(age) {\n",
    "  return(ifelse(age <= 30, 2,\n",
    "                ifelse(31<= age && age <= 45, 3, 1)))\n",
    "}\n",
    "travel_mapper <- function(travel) {\n",
    "  return(ifelse(travel == 'Travel_Rarely', 3,\n",
    "                ifelse(travel == 'Travel_Frequently', 2, 1)))\n",
    "}\n",
    "department_mapper <- function(department){\n",
    "  return(ifelse(department == 'Human Resources', 1,\n",
    "               ifelse(department == 'Sales', 2, 3)))\n",
    "}\n",
    "field_mapper <- function(field) {\n",
    "  # 'Medical''Other''Marketing''Human Resources''Technical Degree'\n",
    "  return(ifelse(field=='Life Sciences', 6,\n",
    "               ifelse(field=='Medical', 5,\n",
    "                     ifelse(field=='Technical Degree', 4,\n",
    "                           ifelse(field=='Marketing', 3,\n",
    "                                 ifelse(field=='Human Resources', 2, 1))))))\n",
    "}\n",
    "job_mapper <- function(job){\n",
    "  \n",
    "}\n",
    "\n",
    "wrangling_process <- function(df){\n",
    "  df <- set_col_to_category(df, 'Gender', 'Gender_1', gender_mapper)\n",
    "  df <- set_col_to_category(df, 'Age', 'Age_1', age_mapper)\n",
    "  df <- set_col_to_category(df, 'BusinessTravel', 'BusinessTravel_1', travel_mapper)\n",
    "  df <- set_col_to_category(df, 'Department', 'Department_1', department_mapper)\n",
    "  df <- set_col_to_category(df, 'EducationField', 'EducationField_1', field_mapper)\n",
    "  df <- set_col_to_category(df, 'JobRole', 'JobRole_1', job_mapper)\n",
    "  df <- remove_cols(df, 'Gender', 'Age', 'BusinessTravel', 'Department', 'EducationField')\n",
    "  return(df)\n",
    "}"
   ]
  },
  {
   "cell_type": "code",
   "execution_count": 37,
   "metadata": {},
   "outputs": [],
   "source": [
    "fold <- 3\n",
    "index <- 1\n",
    "df <- shuffle_frame(wrangling_process(orig))\n",
    "fold_indices <- build_fold_indices(fold)\n",
    "splitted_frames <- subset_by_fold(df, fold, index, fold_indices)"
   ]
  },
  {
   "cell_type": "code",
   "execution_count": 38,
   "metadata": {},
   "outputs": [],
   "source": [
    "library(rpart)\n",
    "\n",
    "train_dt <- function(df, depth=5) {\n",
    "  model <- rpart(\n",
    "    Attrition ~ .,\n",
    "    data = df,\n",
    "    control = rpart.control(maxdepth = depth),\n",
    "    method = \"class\"\n",
    "  )\n",
    "  return (model)\n",
    "}\n",
    "\n",
    "predict_dt <- function(model, df) {\n",
    "  pred_frame <- predict(model, df, type = \"class\")\n",
    "  return (pred_frame)\n",
    "}"
   ]
  },
  {
   "cell_type": "code",
   "execution_count": 39,
   "metadata": {},
   "outputs": [],
   "source": [
    "library(randomForest)\n",
    "\n",
    "train_rf <- function(df) {\n",
    "   model <- randomForest(\n",
    "     Attrition ~ .,\n",
    "     data = df,\n",
    "     mtry = 9,\n",
    "     importance=TRUE,\n",
    "     proximity=TRUE,\n",
    "     ntree=500)\n",
    "\n",
    "   return (model)\n",
    " }\n",
    "\n",
    " predict_rf <- function(model, df) {\n",
    "   pred_frame <- predict(model, df)\n",
    "\n",
    "   return (pred_frame)\n",
    " }"
   ]
  },
  {
   "cell_type": "code",
   "execution_count": 40,
   "metadata": {},
   "outputs": [],
   "source": [
    "build_cm <- function(df, pred) {\n",
    "  result_frame <- data.frame(truth = df$Attrition,\n",
    "                             pred = pred)\n",
    "  result_table <- table(result_frame)\n",
    "  return(result_table)\n",
    "}\n",
    "\n",
    "cal_pred_result <- function(cM) {\n",
    "  true_col <- 2\n",
    "  false_col <- 1\n",
    "  positive_row <- 2\n",
    "  negative_row <- 1\n",
    "  \n",
    "  TP <- cM[positive_row, ][true_col]\n",
    "  FN <- cM[positive_row, ][false_col]\n",
    "  TN <- cM[negative_row, ][false_col]\n",
    "  FP <- cM[negative_row, ][true_col]\n",
    "  \n",
    "  result <- c(TP, FP, TN, FN)\n",
    "  names(result) = c(\"TP\", \"FP\", \"TN\", \"FN\")\n",
    "  return(result)\n",
    "}\n",
    "\n",
    "get_rounded <- function(value, round_digits = 2) {\n",
    "  return(round(value, digits = round_digits))\n",
    "}\n",
    "\n",
    "cal_accu <- function(pred_result) {\n",
    "  TP <- unname(pred_result[\"TP\"])\n",
    "  FN <- unname(pred_result[\"FN\"])\n",
    "  TN <- unname(pred_result[\"TN\"])\n",
    "  FP <- unname(pred_result[\"FP\"])\n",
    "  total_rows = TP + FN + TN + FP\n",
    "  accuracy <- (TP + TN) / total_rows\n",
    "  return(get_rounded(accuracy))\n",
    "}\n",
    "\n",
    "cal_sensitivity <- function(pred_result) {\n",
    "  TP <- unname(pred_result[\"TP\"])\n",
    "  FN <- unname(pred_result[\"FN\"])\n",
    "  sensitivity <- TP / (TP + FN)\n",
    "  return(get_rounded(sensitivity))\n",
    "}\n",
    "\n",
    "cal_specificity <- function(pred_result) {\n",
    "  TN <- unname(pred_result[\"TN\"])\n",
    "  FP <- unname(pred_result[\"FP\"])\n",
    "  specificity <- TN / (TN + FP)\n",
    "  return(get_rounded(specificity))\n",
    "}\n",
    "\n",
    "cal_F1 <- function(pred_result) {\n",
    "  precision <- cal_precision(pred_result)\n",
    "  recall <- cal_sensitivity(pred_result)\n",
    "  F1 <- (2 * precision * recall) / (precision + recall)\n",
    "  return(get_rounded(F1))\n",
    "}\n",
    "\n",
    "cal_precision <- function(pred_result) {\n",
    "  TP <- unname(pred_result[\"TP\"])\n",
    "  FP <- unname(pred_result[\"FP\"])\n",
    "  precision <- TP / (TP + FP)\n",
    "  return(get_rounded(precision))\n",
    "}\n",
    "\n",
    "evaluate_model <- function(df, pred){\n",
    "  predict_cm <- build_cm(df, pred)\n",
    "  predict_result <- cal_pred_result(predict_cm)\n",
    "  accu <- cal_accu(predict_result)\n",
    "  preci <- cal_precision(predict_result)\n",
    "  sens <- cal_sensitivity(predict_result)\n",
    "  recl <- sens\n",
    "  spec <- cal_specificity(predict_result)\n",
    "  f1 <- cal_F1(predict_result)\n",
    "  \n",
    "  return(list(cm=predict_cm,\n",
    "              result=predict_result,\n",
    "              accuracy=accu,\n",
    "              recall=recl,\n",
    "              precision=preci,\n",
    "              sensitivity=sens,\n",
    "              specificity=spec,\n",
    "              F1=f1))\n",
    "}"
   ]
  },
  {
   "cell_type": "code",
   "execution_count": 41,
   "metadata": {},
   "outputs": [
    {
     "name": "stderr",
     "output_type": "stream",
     "text": [
      "Warning message in randomForest.default(m, y, ...):\n",
      "“The response has five or fewer unique values.  Are you sure you want to do regression?”\n",
      "Warning message in mean.default(y):\n",
      "“argument is not numeric or logical: returning NA”\n"
     ]
    },
    {
     "ename": "ERROR",
     "evalue": "Error in y - ymean: non-numeric argument to binary operator\n",
     "output_type": "error",
     "traceback": [
      "Error in y - ymean: non-numeric argument to binary operator\nTraceback:\n",
      "1. trainer(splitted_frames$training)",
      "2. train_rf(df)   # at line 1 of file <text>",
      "3. randomForest(Attrition ~ ., data = df, mtry = 9, importance = TRUE, \n .     proximity = TRUE, ntree = 500)   # at line 4-10 of file <text>",
      "4. randomForest.formula(Attrition ~ ., data = df, mtry = 9, importance = TRUE, \n .     proximity = TRUE, ntree = 500)",
      "5. randomForest.default(m, y, ...)"
     ]
    }
   ],
   "source": [
    "trainer <- (function(df) train_rf(df))\n",
    "predictor <- (function(model, df) predict_rf(model, df))\n",
    "\n",
    "model <- trainer(splitted_frames$training)\n",
    "\n",
    "pred_train <- predictor(model, splitted_frames$training)\n",
    "result_train <- evaluate_model(splitted_frames$training, pred_train)\n",
    "pred_valid <- predictor(model, splitted_frames$validation)\n",
    "result_valid <- evaluate_model(splitted_frames$validation, pred_valid)\n",
    "pred_test <- predictor(model, splitted_frames$testing)\n",
    "result_test <- evaluate_model(splitted_frames$testing, pred_test)"
   ]
  },
  {
   "cell_type": "code",
   "execution_count": 42,
   "metadata": {},
   "outputs": [
    {
     "name": "stdout",
     "output_type": "stream",
     "text": [
      "[1] \"train result:\"\n",
      "$cm\n",
      "     pred\n",
      "truth  No Yes\n",
      "  No  331   0\n",
      "  Yes   0  61\n",
      "\n",
      "$result\n",
      " TP  FP  TN  FN \n",
      " 61   0 331   0 \n",
      "\n",
      "$accuracy\n",
      "[1] 1\n",
      "\n",
      "$recall\n",
      "[1] 1\n",
      "\n",
      "$precision\n",
      "[1] 1\n",
      "\n",
      "$sensitivity\n",
      "[1] 1\n",
      "\n",
      "$specificity\n",
      "[1] 1\n",
      "\n",
      "$F1\n",
      "[1] 1\n",
      "\n"
     ]
    }
   ],
   "source": [
    "print('train result:')\n",
    "print(result_train)"
   ]
  },
  {
   "cell_type": "code",
   "execution_count": 43,
   "metadata": {},
   "outputs": [
    {
     "name": "stdout",
     "output_type": "stream",
     "text": [
      "[1] \"validation:\"\n",
      "$cm\n",
      "     pred\n",
      "truth  No Yes\n",
      "  No  323   4\n",
      "  Yes  54  11\n",
      "\n",
      "$result\n",
      " TP  FP  TN  FN \n",
      " 11   4 323  54 \n",
      "\n",
      "$accuracy\n",
      "[1] 0.85\n",
      "\n",
      "$recall\n",
      "[1] 0.17\n",
      "\n",
      "$precision\n",
      "[1] 0.73\n",
      "\n",
      "$sensitivity\n",
      "[1] 0.17\n",
      "\n",
      "$specificity\n",
      "[1] 0.99\n",
      "\n",
      "$F1\n",
      "[1] 0.28\n",
      "\n"
     ]
    }
   ],
   "source": [
    "print('validation:')\n",
    "print(result_valid)"
   ]
  },
  {
   "cell_type": "code",
   "execution_count": 44,
   "metadata": {},
   "outputs": [
    {
     "name": "stdout",
     "output_type": "stream",
     "text": [
      "[1] \"testing\"\n",
      "$cm\n",
      "     pred\n",
      "truth  No Yes\n",
      "  No  318  11\n",
      "  Yes  58   6\n",
      "\n",
      "$result\n",
      " TP  FP  TN  FN \n",
      "  6  11 318  58 \n",
      "\n",
      "$accuracy\n",
      "[1] 0.82\n",
      "\n",
      "$recall\n",
      "[1] 0.09\n",
      "\n",
      "$precision\n",
      "[1] 0.35\n",
      "\n",
      "$sensitivity\n",
      "[1] 0.09\n",
      "\n",
      "$specificity\n",
      "[1] 0.97\n",
      "\n",
      "$F1\n",
      "[1] 0.14\n",
      "\n"
     ]
    }
   ],
   "source": [
    "print('testing')\n",
    "print(result_test)"
   ]
  },
  {
   "cell_type": "code",
   "execution_count": 45,
   "metadata": {},
   "outputs": [],
   "source": [
    "library(ggbiplot)\n",
    "draw_pca <- function(df, x, y){\n",
    "  ggbiplot(df.pca, choices=c(x, y),\n",
    "          obs.scale=1, var.scale=1,\n",
    "          ellipse=TRUE, ellipse.prob=0.68,\n",
    "          circle=TRUE, circle.prob=0.68,\n",
    "          groups=df$Attrition)\n",
    "}"
   ]
  },
  {
   "cell_type": "code",
   "execution_count": 46,
   "metadata": {},
   "outputs": [
    {
     "data": {
      "text/html": [
       "<style>\n",
       ".list-inline {list-style: none; margin:0; padding: 0}\n",
       ".list-inline>li {display: inline-block}\n",
       ".list-inline>li:not(:last-child)::after {content: \"\\00b7\"; padding: 0 .5ex}\n",
       "</style>\n",
       "<ol class=list-inline><li>'Attrition'</li><li>'DistanceFromHome'</li><li>'Education'</li><li>'EmployeeNumber'</li><li>'EnvironmentSatisfaction'</li><li>'JobInvolvement'</li><li>'JobLevel'</li><li>'JobRole'</li><li>'JobSatisfaction'</li><li>'MaritalStatus'</li><li>'MonthlyIncome'</li><li>'NumCompaniesWorked'</li><li>'PerformanceRating'</li><li>'RelationshipSatisfaction'</li><li>'StockOptionLevel'</li><li>'TotalWorkingYears'</li><li>'TrainingTimesLastYear'</li><li>'WorkLifeBalance'</li><li>'YearsAtCompany'</li><li>'YearsInCurrentRole'</li><li>'YearsSinceLastPromotion'</li><li>'YearsWithCurrManager'</li><li>'Gender_1'</li><li>'Age_1'</li><li>'BusinessTravel_1'</li><li>'Department_1'</li><li>'EducationField_1'</li></ol>\n"
      ],
      "text/latex": [
       "\\begin{enumerate*}\n",
       "\\item 'Attrition'\n",
       "\\item 'DistanceFromHome'\n",
       "\\item 'Education'\n",
       "\\item 'EmployeeNumber'\n",
       "\\item 'EnvironmentSatisfaction'\n",
       "\\item 'JobInvolvement'\n",
       "\\item 'JobLevel'\n",
       "\\item 'JobRole'\n",
       "\\item 'JobSatisfaction'\n",
       "\\item 'MaritalStatus'\n",
       "\\item 'MonthlyIncome'\n",
       "\\item 'NumCompaniesWorked'\n",
       "\\item 'PerformanceRating'\n",
       "\\item 'RelationshipSatisfaction'\n",
       "\\item 'StockOptionLevel'\n",
       "\\item 'TotalWorkingYears'\n",
       "\\item 'TrainingTimesLastYear'\n",
       "\\item 'WorkLifeBalance'\n",
       "\\item 'YearsAtCompany'\n",
       "\\item 'YearsInCurrentRole'\n",
       "\\item 'YearsSinceLastPromotion'\n",
       "\\item 'YearsWithCurrManager'\n",
       "\\item 'Gender\\_1'\n",
       "\\item 'Age\\_1'\n",
       "\\item 'BusinessTravel\\_1'\n",
       "\\item 'Department\\_1'\n",
       "\\item 'EducationField\\_1'\n",
       "\\end{enumerate*}\n"
      ],
      "text/markdown": [
       "1. 'Attrition'\n",
       "2. 'DistanceFromHome'\n",
       "3. 'Education'\n",
       "4. 'EmployeeNumber'\n",
       "5. 'EnvironmentSatisfaction'\n",
       "6. 'JobInvolvement'\n",
       "7. 'JobLevel'\n",
       "8. 'JobRole'\n",
       "9. 'JobSatisfaction'\n",
       "10. 'MaritalStatus'\n",
       "11. 'MonthlyIncome'\n",
       "12. 'NumCompaniesWorked'\n",
       "13. 'PerformanceRating'\n",
       "14. 'RelationshipSatisfaction'\n",
       "15. 'StockOptionLevel'\n",
       "16. 'TotalWorkingYears'\n",
       "17. 'TrainingTimesLastYear'\n",
       "18. 'WorkLifeBalance'\n",
       "19. 'YearsAtCompany'\n",
       "20. 'YearsInCurrentRole'\n",
       "21. 'YearsSinceLastPromotion'\n",
       "22. 'YearsWithCurrManager'\n",
       "23. 'Gender_1'\n",
       "24. 'Age_1'\n",
       "25. 'BusinessTravel_1'\n",
       "26. 'Department_1'\n",
       "27. 'EducationField_1'\n",
       "\n",
       "\n"
      ],
      "text/plain": [
       " [1] \"Attrition\"                \"DistanceFromHome\"        \n",
       " [3] \"Education\"                \"EmployeeNumber\"          \n",
       " [5] \"EnvironmentSatisfaction\"  \"JobInvolvement\"          \n",
       " [7] \"JobLevel\"                 \"JobRole\"                 \n",
       " [9] \"JobSatisfaction\"          \"MaritalStatus\"           \n",
       "[11] \"MonthlyIncome\"            \"NumCompaniesWorked\"      \n",
       "[13] \"PerformanceRating\"        \"RelationshipSatisfaction\"\n",
       "[15] \"StockOptionLevel\"         \"TotalWorkingYears\"       \n",
       "[17] \"TrainingTimesLastYear\"    \"WorkLifeBalance\"         \n",
       "[19] \"YearsAtCompany\"           \"YearsInCurrentRole\"      \n",
       "[21] \"YearsSinceLastPromotion\"  \"YearsWithCurrManager\"    \n",
       "[23] \"Gender_1\"                 \"Age_1\"                   \n",
       "[25] \"BusinessTravel_1\"         \"Department_1\"            \n",
       "[27] \"EducationField_1\"        "
      ]
     },
     "metadata": {},
     "output_type": "display_data"
    }
   ],
   "source": [
    "colnames(df)"
   ]
  },
  {
   "cell_type": "code",
   "execution_count": 47,
   "metadata": {},
   "outputs": [
    {
     "data": {
      "text/html": [
       "<table>\n",
       "<caption>A data.frame: 3 × 27</caption>\n",
       "<thead>\n",
       "\t<tr><th></th><th scope=col>Attrition</th><th scope=col>DistanceFromHome</th><th scope=col>Education</th><th scope=col>EmployeeNumber</th><th scope=col>EnvironmentSatisfaction</th><th scope=col>JobInvolvement</th><th scope=col>JobLevel</th><th scope=col>JobRole</th><th scope=col>JobSatisfaction</th><th scope=col>MaritalStatus</th><th scope=col>⋯</th><th scope=col>WorkLifeBalance</th><th scope=col>YearsAtCompany</th><th scope=col>YearsInCurrentRole</th><th scope=col>YearsSinceLastPromotion</th><th scope=col>YearsWithCurrManager</th><th scope=col>Gender_1</th><th scope=col>Age_1</th><th scope=col>BusinessTravel_1</th><th scope=col>Department_1</th><th scope=col>EducationField_1</th></tr>\n",
       "\t<tr><th></th><th scope=col>&lt;chr&gt;</th><th scope=col>&lt;int&gt;</th><th scope=col>&lt;int&gt;</th><th scope=col>&lt;int&gt;</th><th scope=col>&lt;int&gt;</th><th scope=col>&lt;int&gt;</th><th scope=col>&lt;int&gt;</th><th scope=col>&lt;chr&gt;</th><th scope=col>&lt;int&gt;</th><th scope=col>&lt;chr&gt;</th><th scope=col>⋯</th><th scope=col>&lt;int&gt;</th><th scope=col>&lt;int&gt;</th><th scope=col>&lt;int&gt;</th><th scope=col>&lt;int&gt;</th><th scope=col>&lt;int&gt;</th><th scope=col>&lt;fct&gt;</th><th scope=col>&lt;fct&gt;</th><th scope=col>&lt;fct&gt;</th><th scope=col>&lt;fct&gt;</th><th scope=col>&lt;fct&gt;</th></tr>\n",
       "</thead>\n",
       "<tbody>\n",
       "\t<tr><th scope=row>631</th><td>Yes</td><td>25</td><td>3</td><td>1108</td><td>1</td><td>2</td><td>1</td><td>Research Scientist       </td><td>2</td><td>Single  </td><td>⋯</td><td>3</td><td> 2</td><td>2</td><td>2</td><td> 2</td><td>1</td><td>3</td><td>3</td><td>3</td><td>5</td></tr>\n",
       "\t<tr><th scope=row>408</th><td>No </td><td> 3</td><td>1</td><td> 714</td><td>4</td><td>4</td><td>2</td><td>Sales Executive          </td><td>4</td><td>Divorced</td><td>⋯</td><td>3</td><td> 6</td><td>5</td><td>0</td><td> 4</td><td>0</td><td>2</td><td>2</td><td>2</td><td>5</td></tr>\n",
       "\t<tr><th scope=row>526</th><td>No </td><td>14</td><td>1</td><td> 924</td><td>3</td><td>3</td><td>2</td><td>Healthcare Representative</td><td>4</td><td>Married </td><td>⋯</td><td>2</td><td>16</td><td>8</td><td>4</td><td>11</td><td>1</td><td>3</td><td>3</td><td>3</td><td>6</td></tr>\n",
       "</tbody>\n",
       "</table>\n"
      ],
      "text/latex": [
       "A data.frame: 3 × 27\n",
       "\\begin{tabular}{r|lllllllllllllllllllll}\n",
       "  & Attrition & DistanceFromHome & Education & EmployeeNumber & EnvironmentSatisfaction & JobInvolvement & JobLevel & JobRole & JobSatisfaction & MaritalStatus & ⋯ & WorkLifeBalance & YearsAtCompany & YearsInCurrentRole & YearsSinceLastPromotion & YearsWithCurrManager & Gender\\_1 & Age\\_1 & BusinessTravel\\_1 & Department\\_1 & EducationField\\_1\\\\\n",
       "  & <chr> & <int> & <int> & <int> & <int> & <int> & <int> & <chr> & <int> & <chr> & ⋯ & <int> & <int> & <int> & <int> & <int> & <fct> & <fct> & <fct> & <fct> & <fct>\\\\\n",
       "\\hline\n",
       "\t631 & Yes & 25 & 3 & 1108 & 1 & 2 & 1 & Research Scientist        & 2 & Single   & ⋯ & 3 &  2 & 2 & 2 &  2 & 1 & 3 & 3 & 3 & 5\\\\\n",
       "\t408 & No  &  3 & 1 &  714 & 4 & 4 & 2 & Sales Executive           & 4 & Divorced & ⋯ & 3 &  6 & 5 & 0 &  4 & 0 & 2 & 2 & 2 & 5\\\\\n",
       "\t526 & No  & 14 & 1 &  924 & 3 & 3 & 2 & Healthcare Representative & 4 & Married  & ⋯ & 2 & 16 & 8 & 4 & 11 & 1 & 3 & 3 & 3 & 6\\\\\n",
       "\\end{tabular}\n"
      ],
      "text/markdown": [
       "\n",
       "A data.frame: 3 × 27\n",
       "\n",
       "| <!--/--> | Attrition &lt;chr&gt; | DistanceFromHome &lt;int&gt; | Education &lt;int&gt; | EmployeeNumber &lt;int&gt; | EnvironmentSatisfaction &lt;int&gt; | JobInvolvement &lt;int&gt; | JobLevel &lt;int&gt; | JobRole &lt;chr&gt; | JobSatisfaction &lt;int&gt; | MaritalStatus &lt;chr&gt; | ⋯ ⋯ | WorkLifeBalance &lt;int&gt; | YearsAtCompany &lt;int&gt; | YearsInCurrentRole &lt;int&gt; | YearsSinceLastPromotion &lt;int&gt; | YearsWithCurrManager &lt;int&gt; | Gender_1 &lt;fct&gt; | Age_1 &lt;fct&gt; | BusinessTravel_1 &lt;fct&gt; | Department_1 &lt;fct&gt; | EducationField_1 &lt;fct&gt; |\n",
       "|---|---|---|---|---|---|---|---|---|---|---|---|---|---|---|---|---|---|---|---|---|---|\n",
       "| 631 | Yes | 25 | 3 | 1108 | 1 | 2 | 1 | Research Scientist        | 2 | Single   | ⋯ | 3 |  2 | 2 | 2 |  2 | 1 | 3 | 3 | 3 | 5 |\n",
       "| 408 | No  |  3 | 1 |  714 | 4 | 4 | 2 | Sales Executive           | 4 | Divorced | ⋯ | 3 |  6 | 5 | 0 |  4 | 0 | 2 | 2 | 2 | 5 |\n",
       "| 526 | No  | 14 | 1 |  924 | 3 | 3 | 2 | Healthcare Representative | 4 | Married  | ⋯ | 2 | 16 | 8 | 4 | 11 | 1 | 3 | 3 | 3 | 6 |\n",
       "\n"
      ],
      "text/plain": [
       "    Attrition DistanceFromHome Education EmployeeNumber EnvironmentSatisfaction\n",
       "631 Yes       25               3         1108           1                      \n",
       "408 No         3               1          714           4                      \n",
       "526 No        14               1          924           3                      \n",
       "    JobInvolvement JobLevel JobRole                   JobSatisfaction\n",
       "631 2              1        Research Scientist        2              \n",
       "408 4              2        Sales Executive           4              \n",
       "526 3              2        Healthcare Representative 4              \n",
       "    MaritalStatus ⋯ WorkLifeBalance YearsAtCompany YearsInCurrentRole\n",
       "631 Single        ⋯ 3                2             2                 \n",
       "408 Divorced      ⋯ 3                6             5                 \n",
       "526 Married       ⋯ 2               16             8                 \n",
       "    YearsSinceLastPromotion YearsWithCurrManager Gender_1 Age_1\n",
       "631 2                        2                   1        3    \n",
       "408 0                        4                   0        2    \n",
       "526 4                       11                   1        3    \n",
       "    BusinessTravel_1 Department_1 EducationField_1\n",
       "631 3                3            5               \n",
       "408 2                2            5               \n",
       "526 3                3            6               "
      ]
     },
     "metadata": {},
     "output_type": "display_data"
    }
   ],
   "source": [
    "head(df, n=3)"
   ]
  },
  {
   "cell_type": "code",
   "execution_count": null,
   "metadata": {},
   "outputs": [],
   "source": [
    "df.log <- log(df[, c('Attrition', 'DistanceFromHome', 'Education', 'EducationField', 'EmployeeNumber',\n",
    "                     'EnvironmentSatisfaction', 'JobInvolvement', 'JobLevel', 'JobRole', 'JobSatisfaction',\n",
    "                     'MaritalStatus', 'MonthlyIncome', 'NumCompaniesWorked', 'PerformanceRating', \n",
    "                     'RelationshipSatisfaction', 'StockOptionLevel', 'TotalWorkingYears', \n",
    "                     'TrainingTimesLastYear', 'WorkLifeBalance', 'YearsAtCompany', 'YearsInCurrentRole', \n",
    "                     'YearsSinceLastPromotion', 'YearsWithCurrManager', 'Gender_1', 'Age_1', 'BusinessTravel_1',\n",
    "                     'Department_1')])\n",
    "df.pca <- prcomp()"
   ]
  },
  {
   "cell_type": "code",
   "execution_count": null,
   "metadata": {},
   "outputs": [],
   "source": []
  }
 ],
 "metadata": {
  "kernelspec": {
   "display_name": "R",
   "language": "R",
   "name": "ir"
  },
  "language_info": {
   "codemirror_mode": "r",
   "file_extension": ".r",
   "mimetype": "text/x-r-source",
   "name": "R",
   "pygments_lexer": "r",
   "version": "4.0.3"
  }
 },
 "nbformat": 4,
 "nbformat_minor": 4
}
