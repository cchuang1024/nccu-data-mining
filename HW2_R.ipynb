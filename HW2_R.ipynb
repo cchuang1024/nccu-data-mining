{
 "cells": [
  {
   "cell_type": "code",
   "execution_count": 3,
   "metadata": {},
   "outputs": [
    {
     "name": "stderr",
     "output_type": "stream",
     "text": [
      "-- \u001b[1mAttaching packages\u001b[22m ------------------------------------------------------------------------------------------------------- tidyverse 1.3.0 --\n",
      "\n",
      "\u001b[32mv\u001b[39m \u001b[34mggplot2\u001b[39m 3.3.2     \u001b[32mv\u001b[39m \u001b[34mpurrr  \u001b[39m 0.3.4\n",
      "\u001b[32mv\u001b[39m \u001b[34mtibble \u001b[39m 3.0.4     \u001b[32mv\u001b[39m \u001b[34mdplyr  \u001b[39m 1.0.2\n",
      "\u001b[32mv\u001b[39m \u001b[34mtidyr  \u001b[39m 1.1.2     \u001b[32mv\u001b[39m \u001b[34mstringr\u001b[39m 1.4.0\n",
      "\u001b[32mv\u001b[39m \u001b[34mreadr  \u001b[39m 1.3.1     \u001b[32mv\u001b[39m \u001b[34mforcats\u001b[39m 0.5.0\n",
      "\n",
      "-- \u001b[1mConflicts\u001b[22m ---------------------------------------------------------------------------------------------------------- tidyverse_conflicts() --\n",
      "\u001b[31mx\u001b[39m \u001b[34mdplyr\u001b[39m::\u001b[32mfilter()\u001b[39m masks \u001b[34mstats\u001b[39m::filter()\n",
      "\u001b[31mx\u001b[39m \u001b[34mdplyr\u001b[39m::\u001b[32mlag()\u001b[39m    masks \u001b[34mstats\u001b[39m::lag()\n",
      "\n"
     ]
    }
   ],
   "source": [
    "library(tidyverse)"
   ]
  },
  {
   "cell_type": "code",
   "execution_count": 4,
   "metadata": {
    "scrolled": false
   },
   "outputs": [
    {
     "data": {
      "text/html": [
       "<table>\n",
       "<caption>A data.frame: 6 × 27</caption>\n",
       "<thead>\n",
       "\t<tr><th></th><th scope=col>Age</th><th scope=col>Attrition</th><th scope=col>BusinessTravel</th><th scope=col>Department</th><th scope=col>DistanceFromHome</th><th scope=col>Education</th><th scope=col>EducationField</th><th scope=col>EmployeeNumber</th><th scope=col>EnvironmentSatisfaction</th><th scope=col>Gender</th><th scope=col>...</th><th scope=col>PerformanceRating</th><th scope=col>RelationshipSatisfaction</th><th scope=col>StockOptionLevel</th><th scope=col>TotalWorkingYears</th><th scope=col>TrainingTimesLastYear</th><th scope=col>WorkLifeBalance</th><th scope=col>YearsAtCompany</th><th scope=col>YearsInCurrentRole</th><th scope=col>YearsSinceLastPromotion</th><th scope=col>YearsWithCurrManager</th></tr>\n",
       "\t<tr><th></th><th scope=col>&lt;int&gt;</th><th scope=col>&lt;fct&gt;</th><th scope=col>&lt;fct&gt;</th><th scope=col>&lt;fct&gt;</th><th scope=col>&lt;int&gt;</th><th scope=col>&lt;int&gt;</th><th scope=col>&lt;fct&gt;</th><th scope=col>&lt;int&gt;</th><th scope=col>&lt;int&gt;</th><th scope=col>&lt;fct&gt;</th><th scope=col>...</th><th scope=col>&lt;int&gt;</th><th scope=col>&lt;int&gt;</th><th scope=col>&lt;int&gt;</th><th scope=col>&lt;int&gt;</th><th scope=col>&lt;int&gt;</th><th scope=col>&lt;int&gt;</th><th scope=col>&lt;int&gt;</th><th scope=col>&lt;int&gt;</th><th scope=col>&lt;int&gt;</th><th scope=col>&lt;int&gt;</th></tr>\n",
       "</thead>\n",
       "<tbody>\n",
       "\t<tr><th scope=row>1</th><td>41</td><td>Yes</td><td>Travel_Rarely    </td><td>Sales                 </td><td>1</td><td>2</td><td>Life Sciences</td><td>1</td><td>2</td><td>Female</td><td>...</td><td>3</td><td>1</td><td>0</td><td> 8</td><td>0</td><td>1</td><td> 6</td><td>4</td><td>0</td><td>5</td></tr>\n",
       "\t<tr><th scope=row>2</th><td>49</td><td>No </td><td>Travel_Frequently</td><td>Research &amp; Development</td><td>8</td><td>1</td><td>Life Sciences</td><td>2</td><td>3</td><td><span style=white-space:pre-wrap>Male  </span></td><td>...</td><td>4</td><td>4</td><td>1</td><td>10</td><td>3</td><td>3</td><td>10</td><td>7</td><td>1</td><td>7</td></tr>\n",
       "\t<tr><th scope=row>3</th><td>37</td><td>Yes</td><td><span style=white-space:pre-wrap>Travel_Rarely    </span></td><td>Research &amp; Development</td><td>2</td><td>2</td><td><span style=white-space:pre-wrap>Other        </span></td><td>4</td><td>4</td><td><span style=white-space:pre-wrap>Male  </span></td><td>...</td><td>3</td><td>2</td><td>0</td><td> 7</td><td>3</td><td>3</td><td> 0</td><td>0</td><td>0</td><td>0</td></tr>\n",
       "\t<tr><th scope=row>4</th><td>33</td><td>No </td><td>Travel_Frequently</td><td>Research &amp; Development</td><td>3</td><td>4</td><td>Life Sciences</td><td>5</td><td>4</td><td>Female</td><td>...</td><td>3</td><td>3</td><td>0</td><td> 8</td><td>3</td><td>3</td><td> 8</td><td>7</td><td>3</td><td>0</td></tr>\n",
       "\t<tr><th scope=row>5</th><td>27</td><td>No </td><td><span style=white-space:pre-wrap>Travel_Rarely    </span></td><td>Research &amp; Development</td><td>2</td><td>1</td><td><span style=white-space:pre-wrap>Medical      </span></td><td>7</td><td>1</td><td><span style=white-space:pre-wrap>Male  </span></td><td>...</td><td>3</td><td>4</td><td>1</td><td> 6</td><td>3</td><td>3</td><td> 2</td><td>2</td><td>2</td><td>2</td></tr>\n",
       "\t<tr><th scope=row>6</th><td>32</td><td>No </td><td>Travel_Frequently</td><td>Research &amp; Development</td><td>2</td><td>2</td><td>Life Sciences</td><td>8</td><td>4</td><td><span style=white-space:pre-wrap>Male  </span></td><td>...</td><td>3</td><td>3</td><td>0</td><td> 8</td><td>2</td><td>2</td><td> 7</td><td>7</td><td>3</td><td>6</td></tr>\n",
       "</tbody>\n",
       "</table>\n"
      ],
      "text/latex": [
       "A data.frame: 6 × 27\n",
       "\\begin{tabular}{r|lllllllllllllllllllll}\n",
       "  & Age & Attrition & BusinessTravel & Department & DistanceFromHome & Education & EducationField & EmployeeNumber & EnvironmentSatisfaction & Gender & ... & PerformanceRating & RelationshipSatisfaction & StockOptionLevel & TotalWorkingYears & TrainingTimesLastYear & WorkLifeBalance & YearsAtCompany & YearsInCurrentRole & YearsSinceLastPromotion & YearsWithCurrManager\\\\\n",
       "  & <int> & <fct> & <fct> & <fct> & <int> & <int> & <fct> & <int> & <int> & <fct> & ... & <int> & <int> & <int> & <int> & <int> & <int> & <int> & <int> & <int> & <int>\\\\\n",
       "\\hline\n",
       "\t1 & 41 & Yes & Travel\\_Rarely     & Sales                  & 1 & 2 & Life Sciences & 1 & 2 & Female & ... & 3 & 1 & 0 &  8 & 0 & 1 &  6 & 4 & 0 & 5\\\\\n",
       "\t2 & 49 & No  & Travel\\_Frequently & Research \\& Development & 8 & 1 & Life Sciences & 2 & 3 & Male   & ... & 4 & 4 & 1 & 10 & 3 & 3 & 10 & 7 & 1 & 7\\\\\n",
       "\t3 & 37 & Yes & Travel\\_Rarely     & Research \\& Development & 2 & 2 & Other         & 4 & 4 & Male   & ... & 3 & 2 & 0 &  7 & 3 & 3 &  0 & 0 & 0 & 0\\\\\n",
       "\t4 & 33 & No  & Travel\\_Frequently & Research \\& Development & 3 & 4 & Life Sciences & 5 & 4 & Female & ... & 3 & 3 & 0 &  8 & 3 & 3 &  8 & 7 & 3 & 0\\\\\n",
       "\t5 & 27 & No  & Travel\\_Rarely     & Research \\& Development & 2 & 1 & Medical       & 7 & 1 & Male   & ... & 3 & 4 & 1 &  6 & 3 & 3 &  2 & 2 & 2 & 2\\\\\n",
       "\t6 & 32 & No  & Travel\\_Frequently & Research \\& Development & 2 & 2 & Life Sciences & 8 & 4 & Male   & ... & 3 & 3 & 0 &  8 & 2 & 2 &  7 & 7 & 3 & 6\\\\\n",
       "\\end{tabular}\n"
      ],
      "text/markdown": [
       "\n",
       "A data.frame: 6 × 27\n",
       "\n",
       "| <!--/--> | Age &lt;int&gt; | Attrition &lt;fct&gt; | BusinessTravel &lt;fct&gt; | Department &lt;fct&gt; | DistanceFromHome &lt;int&gt; | Education &lt;int&gt; | EducationField &lt;fct&gt; | EmployeeNumber &lt;int&gt; | EnvironmentSatisfaction &lt;int&gt; | Gender &lt;fct&gt; | ... ... | PerformanceRating &lt;int&gt; | RelationshipSatisfaction &lt;int&gt; | StockOptionLevel &lt;int&gt; | TotalWorkingYears &lt;int&gt; | TrainingTimesLastYear &lt;int&gt; | WorkLifeBalance &lt;int&gt; | YearsAtCompany &lt;int&gt; | YearsInCurrentRole &lt;int&gt; | YearsSinceLastPromotion &lt;int&gt; | YearsWithCurrManager &lt;int&gt; |\n",
       "|---|---|---|---|---|---|---|---|---|---|---|---|---|---|---|---|---|---|---|---|---|---|\n",
       "| 1 | 41 | Yes | Travel_Rarely     | Sales                  | 1 | 2 | Life Sciences | 1 | 2 | Female | ... | 3 | 1 | 0 |  8 | 0 | 1 |  6 | 4 | 0 | 5 |\n",
       "| 2 | 49 | No  | Travel_Frequently | Research &amp; Development | 8 | 1 | Life Sciences | 2 | 3 | Male   | ... | 4 | 4 | 1 | 10 | 3 | 3 | 10 | 7 | 1 | 7 |\n",
       "| 3 | 37 | Yes | Travel_Rarely     | Research &amp; Development | 2 | 2 | Other         | 4 | 4 | Male   | ... | 3 | 2 | 0 |  7 | 3 | 3 |  0 | 0 | 0 | 0 |\n",
       "| 4 | 33 | No  | Travel_Frequently | Research &amp; Development | 3 | 4 | Life Sciences | 5 | 4 | Female | ... | 3 | 3 | 0 |  8 | 3 | 3 |  8 | 7 | 3 | 0 |\n",
       "| 5 | 27 | No  | Travel_Rarely     | Research &amp; Development | 2 | 1 | Medical       | 7 | 1 | Male   | ... | 3 | 4 | 1 |  6 | 3 | 3 |  2 | 2 | 2 | 2 |\n",
       "| 6 | 32 | No  | Travel_Frequently | Research &amp; Development | 2 | 2 | Life Sciences | 8 | 4 | Male   | ... | 3 | 3 | 0 |  8 | 2 | 2 |  7 | 7 | 3 | 6 |\n",
       "\n"
      ],
      "text/plain": [
       "  Age Attrition BusinessTravel    Department             DistanceFromHome\n",
       "1 41  Yes       Travel_Rarely     Sales                  1               \n",
       "2 49  No        Travel_Frequently Research & Development 8               \n",
       "3 37  Yes       Travel_Rarely     Research & Development 2               \n",
       "4 33  No        Travel_Frequently Research & Development 3               \n",
       "5 27  No        Travel_Rarely     Research & Development 2               \n",
       "6 32  No        Travel_Frequently Research & Development 2               \n",
       "  Education EducationField EmployeeNumber EnvironmentSatisfaction Gender ...\n",
       "1 2         Life Sciences  1              2                       Female ...\n",
       "2 1         Life Sciences  2              3                       Male   ...\n",
       "3 2         Other          4              4                       Male   ...\n",
       "4 4         Life Sciences  5              4                       Female ...\n",
       "5 1         Medical        7              1                       Male   ...\n",
       "6 2         Life Sciences  8              4                       Male   ...\n",
       "  PerformanceRating RelationshipSatisfaction StockOptionLevel TotalWorkingYears\n",
       "1 3                 1                        0                 8               \n",
       "2 4                 4                        1                10               \n",
       "3 3                 2                        0                 7               \n",
       "4 3                 3                        0                 8               \n",
       "5 3                 4                        1                 6               \n",
       "6 3                 3                        0                 8               \n",
       "  TrainingTimesLastYear WorkLifeBalance YearsAtCompany YearsInCurrentRole\n",
       "1 0                     1                6             4                 \n",
       "2 3                     3               10             7                 \n",
       "3 3                     3                0             0                 \n",
       "4 3                     3                8             7                 \n",
       "5 3                     3                2             2                 \n",
       "6 2                     2                7             7                 \n",
       "  YearsSinceLastPromotion YearsWithCurrManager\n",
       "1 0                       5                   \n",
       "2 1                       7                   \n",
       "3 0                       0                   \n",
       "4 3                       0                   \n",
       "5 2                       2                   \n",
       "6 3                       6                   "
      ]
     },
     "metadata": {},
     "output_type": "display_data"
    }
   ],
   "source": [
    "df <- read.csv('./hw2/training.csv', sep = ',')\n",
    "head(df)"
   ]
  },
  {
   "cell_type": "code",
   "execution_count": 5,
   "metadata": {},
   "outputs": [
    {
     "data": {
      "text/html": [
       "<style>\n",
       ".list-inline {list-style: none; margin:0; padding: 0}\n",
       ".list-inline>li {display: inline-block}\n",
       ".list-inline>li:not(:last-child)::after {content: \"\\00b7\"; padding: 0 .5ex}\n",
       "</style>\n",
       "<ol class=list-inline><li>'Age'</li><li>'Attrition'</li><li>'BusinessTravel'</li><li>'Department'</li><li>'DistanceFromHome'</li><li>'Education'</li><li>'EducationField'</li><li>'EmployeeNumber'</li><li>'EnvironmentSatisfaction'</li><li>'Gender'</li><li>'JobInvolvement'</li><li>'JobLevel'</li><li>'JobRole'</li><li>'JobSatisfaction'</li><li>'MaritalStatus'</li><li>'MonthlyIncome'</li><li>'NumCompaniesWorked'</li><li>'PerformanceRating'</li><li>'RelationshipSatisfaction'</li><li>'StockOptionLevel'</li><li>'TotalWorkingYears'</li><li>'TrainingTimesLastYear'</li><li>'WorkLifeBalance'</li><li>'YearsAtCompany'</li><li>'YearsInCurrentRole'</li><li>'YearsSinceLastPromotion'</li><li>'YearsWithCurrManager'</li></ol>\n"
      ],
      "text/latex": [
       "\\begin{enumerate*}\n",
       "\\item 'Age'\n",
       "\\item 'Attrition'\n",
       "\\item 'BusinessTravel'\n",
       "\\item 'Department'\n",
       "\\item 'DistanceFromHome'\n",
       "\\item 'Education'\n",
       "\\item 'EducationField'\n",
       "\\item 'EmployeeNumber'\n",
       "\\item 'EnvironmentSatisfaction'\n",
       "\\item 'Gender'\n",
       "\\item 'JobInvolvement'\n",
       "\\item 'JobLevel'\n",
       "\\item 'JobRole'\n",
       "\\item 'JobSatisfaction'\n",
       "\\item 'MaritalStatus'\n",
       "\\item 'MonthlyIncome'\n",
       "\\item 'NumCompaniesWorked'\n",
       "\\item 'PerformanceRating'\n",
       "\\item 'RelationshipSatisfaction'\n",
       "\\item 'StockOptionLevel'\n",
       "\\item 'TotalWorkingYears'\n",
       "\\item 'TrainingTimesLastYear'\n",
       "\\item 'WorkLifeBalance'\n",
       "\\item 'YearsAtCompany'\n",
       "\\item 'YearsInCurrentRole'\n",
       "\\item 'YearsSinceLastPromotion'\n",
       "\\item 'YearsWithCurrManager'\n",
       "\\end{enumerate*}\n"
      ],
      "text/markdown": [
       "1. 'Age'\n",
       "2. 'Attrition'\n",
       "3. 'BusinessTravel'\n",
       "4. 'Department'\n",
       "5. 'DistanceFromHome'\n",
       "6. 'Education'\n",
       "7. 'EducationField'\n",
       "8. 'EmployeeNumber'\n",
       "9. 'EnvironmentSatisfaction'\n",
       "10. 'Gender'\n",
       "11. 'JobInvolvement'\n",
       "12. 'JobLevel'\n",
       "13. 'JobRole'\n",
       "14. 'JobSatisfaction'\n",
       "15. 'MaritalStatus'\n",
       "16. 'MonthlyIncome'\n",
       "17. 'NumCompaniesWorked'\n",
       "18. 'PerformanceRating'\n",
       "19. 'RelationshipSatisfaction'\n",
       "20. 'StockOptionLevel'\n",
       "21. 'TotalWorkingYears'\n",
       "22. 'TrainingTimesLastYear'\n",
       "23. 'WorkLifeBalance'\n",
       "24. 'YearsAtCompany'\n",
       "25. 'YearsInCurrentRole'\n",
       "26. 'YearsSinceLastPromotion'\n",
       "27. 'YearsWithCurrManager'\n",
       "\n",
       "\n"
      ],
      "text/plain": [
       " [1] \"Age\"                      \"Attrition\"               \n",
       " [3] \"BusinessTravel\"           \"Department\"              \n",
       " [5] \"DistanceFromHome\"         \"Education\"               \n",
       " [7] \"EducationField\"           \"EmployeeNumber\"          \n",
       " [9] \"EnvironmentSatisfaction\"  \"Gender\"                  \n",
       "[11] \"JobInvolvement\"           \"JobLevel\"                \n",
       "[13] \"JobRole\"                  \"JobSatisfaction\"         \n",
       "[15] \"MaritalStatus\"            \"MonthlyIncome\"           \n",
       "[17] \"NumCompaniesWorked\"       \"PerformanceRating\"       \n",
       "[19] \"RelationshipSatisfaction\" \"StockOptionLevel\"        \n",
       "[21] \"TotalWorkingYears\"        \"TrainingTimesLastYear\"   \n",
       "[23] \"WorkLifeBalance\"          \"YearsAtCompany\"          \n",
       "[25] \"YearsInCurrentRole\"       \"YearsSinceLastPromotion\" \n",
       "[27] \"YearsWithCurrManager\"    "
      ]
     },
     "metadata": {},
     "output_type": "display_data"
    }
   ],
   "source": [
    "colnames(df)"
   ]
  },
  {
   "cell_type": "code",
   "execution_count": 6,
   "metadata": {},
   "outputs": [
    {
     "data": {
      "image/png": "[encoded data removed]",
      "text/plain": [
       "plot without title"
      ]
     },
     "metadata": {
      "image/png": {
       "height": 420,
       "width": 420
      }
     },
     "output_type": "display_data"
    }
   ],
   "source": [
    "ggplot(df, aes(x = Attrition)) + geom_bar()"
   ]
  },
  {
   "cell_type": "code",
   "execution_count": 7,
   "metadata": {},
   "outputs": [],
   "source": [
    "set_col_to_factor <- function(df, ...){\n",
    "  cols <- unlist(list(...))\n",
    "  for(col in cols){\n",
    "    df[, col] <- as.factor(df[, col])\n",
    "  }\n",
    "  return(df)\n",
    "}\n",
    "set_col_to_integer <- function(df, ...){\n",
    "  cols <- unlist(list(...))\n",
    "  for(col in cols) {\n",
    "    df[, col] <- as.integer(df[, col])\n",
    "  }\n",
    "  return(df)\n",
    "}\n",
    "set_col_to_numeric <- function(df, ...){\n",
    "  cols <- unlist(list(...))\n",
    "  for(col in cols){\n",
    "    df[, col] <- as.numeric(df[, col])\n",
    "  } \n",
    "  return (df)\n",
    "}"
   ]
  },
  {
   "cell_type": "code",
   "execution_count": 8,
   "metadata": {},
   "outputs": [],
   "source": [
    "df <- set_col_to_factor(df, 'Attrition', 'Gender', 'Department')\n",
    "df <- set_col_to_integer(df, 'Age')"
   ]
  },
  {
   "cell_type": "code",
   "execution_count": 9,
   "metadata": {},
   "outputs": [
    {
     "data": {
      "image/png": "[encoded data removed]",
      "text/plain": [
       "plot without title"
      ]
     },
     "metadata": {
      "image/png": {
       "height": 420,
       "width": 420
      }
     },
     "output_type": "display_data"
    }
   ],
   "source": [
    "ggplot(df, aes(x = Age, fill = Attrition)) + geom_bar()"
   ]
  },
  {
   "cell_type": "code",
   "execution_count": 10,
   "metadata": {},
   "outputs": [],
   "source": [
    "build_fold_indices <- function(fold) {\n",
    "  test_fold <- 1:fold\n",
    "  shifted <- (test_fold + 1)\n",
    "  valid_fold <- ifelse((shifted > fold), shifted %% fold, shifted)\n",
    "  fold_indices <- data.frame(test = test_fold, valid = valid_fold)\n",
    "  \n",
    "  return(fold_indices)\n",
    "}\n",
    "\n",
    "pick_out_indices <- function(total_rows, fold, ...) {\n",
    "  indices <- c()\n",
    "  \n",
    "  for (i in list(...)) {\n",
    "    indices <- append(indices, seq(i, total_rows, fold))\n",
    "  }\n",
    "  \n",
    "  indices <- unique(indices)\n",
    "  \n",
    "  return(indices)\n",
    "}\n",
    "\n",
    "get_by_exclude <- function(df, fold, ...) {\n",
    "  total_rows <- nrow(df)\n",
    "  exclude <- pick_out_indices(total_rows, fold, ...)\n",
    "  excluded <- df[-exclude,]\n",
    "  \n",
    "  return(excluded)\n",
    "}\n",
    "\n",
    "get_by_index <- function(df, fold, ...) {\n",
    "  total_rows <- nrow(df)\n",
    "  \n",
    "  include <- pick_out_indices(total_rows, fold, ...)\n",
    "  included <- df[include,]\n",
    "  \n",
    "  return(included)\n",
    "}\n",
    "\n",
    "subset_by_fold <- function(df, fold, index, indices){\n",
    "  training_frame <- get_by_exclude(df,\n",
    "                                   fold,\n",
    "                                   indices[index, ]$test,\n",
    "                                   indices[index, ]$valid)\n",
    "  validation_frame <- get_by_index(df, fold, indices[index, ]$valid)\n",
    "  testing_frame <- get_by_index(df, fold, indices[index, ]$test)\n",
    "  \n",
    "  return(list(training=training_frame,\n",
    "              validation=validation_frame,\n",
    "              testing=testing_frame))\n",
    "}"
   ]
  },
  {
   "cell_type": "code",
   "execution_count": 11,
   "metadata": {},
   "outputs": [],
   "source": [
    "fold <- 3\n",
    "index <- 1\n",
    "fold_indices <- build_fold_indices(fold)\n",
    "splitted_frames <- subset_by_fold(df, fold, index, fold_indices)"
   ]
  },
  {
   "cell_type": "code",
   "execution_count": 12,
   "metadata": {},
   "outputs": [],
   "source": [
    "library(rpart)\n",
    "\n",
    "train_dt <- function(df, depth) {\n",
    "  model <- rpart(\n",
    "    Attrition ~ .,\n",
    "    data = df,\n",
    "    control = rpart.control(maxdepth = depth),\n",
    "    method = \"class\"\n",
    "  )\n",
    "  return (model)\n",
    "}\n",
    "\n",
    "predict_dt <- function(model, df) {\n",
    "  pred_frame <- predict(model, df, type = \"class\")\n",
    "  return (pred_frame)\n",
    "}"
   ]
  },
  {
   "cell_type": "code",
   "execution_count": 21,
   "metadata": {},
   "outputs": [],
   "source": [
    "build_cm <- function(df, pred) {\n",
    "  result_frame <- data.frame(truth = df$Attrition,\n",
    "                             pred = pred)\n",
    "  result_table <- table(result_frame)\n",
    "  return(result_table)\n",
    "}\n",
    "\n",
    "cal_pred_result <- function(cM) {\n",
    "  true_col <- 2\n",
    "  false_col <- 1\n",
    "  positive_row <- 2\n",
    "  negative_row <- 1\n",
    "  \n",
    "  TP <- cM[positive_row, ][true_col]\n",
    "  FN <- cM[positive_row, ][false_col]\n",
    "  TN <- cM[negative_row, ][false_col]\n",
    "  FP <- cM[negative_row, ][true_col]\n",
    "  \n",
    "  result <- c(TP, FP, TN, FN)\n",
    "  names(result) = c(\"TP\", \"FP\", \"TN\", \"FN\")\n",
    "  return(result)\n",
    "}\n",
    "\n",
    "get_rounded <- function(value, round_digits = 2) {\n",
    "  return(round(value, digits = round_digits))\n",
    "}\n",
    "\n",
    "cal_accu <- function(pred_result) {\n",
    "  TP <- unname(pred_result[\"TP\"])\n",
    "  FN <- unname(pred_result[\"FN\"])\n",
    "  TN <- unname(pred_result[\"TN\"])\n",
    "  FP <- unname(pred_result[\"FP\"])\n",
    "  total_rows = TP + FN + TN + FP\n",
    "  accuracy <- (TP + TN) / total_rows\n",
    "  return(get_rounded(accuracy))\n",
    "}\n",
    "\n",
    "cal_sensitivity <- function(pred_result) {\n",
    "  TP <- unname(pred_result[\"TP\"])\n",
    "  FN <- unname(pred_result[\"FN\"])\n",
    "  sensitivity <- TP / (TP + FN)\n",
    "  return(get_rounded(sensitivity))\n",
    "}\n",
    "\n",
    "cal_specificity <- function(pred_result) {\n",
    "  TN <- unname(pred_result[\"TN\"])\n",
    "  FP <- unname(pred_result[\"FP\"])\n",
    "  specificity <- TN / (TN + FP)\n",
    "  return(get_rounded(specificity))\n",
    "}\n",
    "\n",
    "cal_F1 <- function(pred_result) {\n",
    "  precision <- cal_precision(pred_result)\n",
    "  recall <- cal_sensitivity(pred_result)\n",
    "  F1 <- (2 * precision * recall) / (precision + recall)\n",
    "  return(get_rounded(F1))\n",
    "}\n",
    "\n",
    "cal_precision <- function(pred_result) {\n",
    "  TP <- unname(pred_result[\"TP\"])\n",
    "  FP <- unname(pred_result[\"FP\"])\n",
    "  precision <- TP / (TP + FP)\n",
    "  return(get_rounded(precision))\n",
    "}\n",
    "\n",
    "evaluate_model <- function(df, pred){\n",
    "  predict_cm <- build_cm(df, pred)\n",
    "  predict_result <- cal_pred_result(predict_cm)\n",
    "  accu <- cal_accu(predict_result)\n",
    "  preci <- cal_precision(predict_result)\n",
    "  sens <- cal_sensitivity(predict_result)\n",
    "  recl <- sens\n",
    "  spec <- cal_specificity(predict_result)\n",
    "  f1 <- cal_F1(predict_result)\n",
    "  \n",
    "  return(list(accuracy=accu,\n",
    "              recall=recl,\n",
    "             precision=preci,\n",
    "             sensitivity=sens,\n",
    "             specificity=spec,\n",
    "             F1=f1))\n",
    "}"
   ]
  },
  {
   "cell_type": "code",
   "execution_count": 22,
   "metadata": {},
   "outputs": [],
   "source": [
    "model <- train_dt(splitted_frames$training, 5)\n",
    "\n",
    "pred_train <- predict_dt(model, splitted_frames$training)\n",
    "result_train <- evaluate_model(splitted_frames$training, pred_train)\n",
    "pred_valid <- predict_dt(model, splitted_frames$validation)\n",
    "result_valid <- evaluate_model(splitted_frames$validation, pred_valid)\n",
    "pred_test <- predict_dt(model, splitted_frames$testing)\n",
    "result_test <- evaluate_model(splitted_frames$testing, pred_test)"
   ]
  },
  {
   "cell_type": "code",
   "execution_count": 23,
   "metadata": {},
   "outputs": [
    {
     "name": "stdout",
     "output_type": "stream",
     "text": [
      "[1] \"train result:\"\n",
      "$accuracy\n",
      "[1] 0.89\n",
      "\n",
      "$recall\n",
      "[1] 0.35\n",
      "\n",
      "$precision\n",
      "[1] 0.81\n",
      "\n",
      "$sensitivity\n",
      "[1] 0.35\n",
      "\n",
      "$specificity\n",
      "[1] 0.98\n",
      "\n",
      "$F1\n",
      "[1] 0.49\n",
      "\n"
     ]
    }
   ],
   "source": [
    "print('train result:')\n",
    "print(result_train)"
   ]
  },
  {
   "cell_type": "code",
   "execution_count": 24,
   "metadata": {},
   "outputs": [
    {
     "name": "stdout",
     "output_type": "stream",
     "text": [
      "[1] \"validation:\"\n",
      "$accuracy\n",
      "[1] 0.83\n",
      "\n",
      "$recall\n",
      "[1] 0.16\n",
      "\n",
      "$precision\n",
      "[1] 0.33\n",
      "\n",
      "$sensitivity\n",
      "[1] 0.16\n",
      "\n",
      "$specificity\n",
      "[1] 0.95\n",
      "\n",
      "$F1\n",
      "[1] 0.22\n",
      "\n"
     ]
    }
   ],
   "source": [
    "print('validation:')\n",
    "print(result_valid)"
   ]
  },
  {
   "cell_type": "code",
   "execution_count": 25,
   "metadata": {},
   "outputs": [
    {
     "name": "stdout",
     "output_type": "stream",
     "text": [
      "[1] \"testing\"\n",
      "$accuracy\n",
      "[1] 0.82\n",
      "\n",
      "$recall\n",
      "[1] 0.17\n",
      "\n",
      "$precision\n",
      "[1] 0.48\n",
      "\n",
      "$sensitivity\n",
      "[1] 0.17\n",
      "\n",
      "$specificity\n",
      "[1] 0.96\n",
      "\n",
      "$F1\n",
      "[1] 0.25\n",
      "\n"
     ]
    }
   ],
   "source": [
    "print('testing')\n",
    "print(result_test)"
   ]
  },
  {
   "cell_type": "code",
   "execution_count": null,
   "metadata": {},
   "outputs": [],
   "source": []
  },
  {
   "cell_type": "code",
   "execution_count": null,
   "metadata": {},
   "outputs": [],
   "source": []
  }
 ],
 "metadata": {
  "kernelspec": {
   "display_name": "R",
   "language": "R",
   "name": "ir"
  },
  "language_info": {
   "codemirror_mode": "r",
   "file_extension": ".r",
   "mimetype": "text/x-r-source",
   "name": "R",
   "pygments_lexer": "r",
   "version": "3.6.3"
  }
 },
 "nbformat": 4,
 "nbformat_minor": 4
}
