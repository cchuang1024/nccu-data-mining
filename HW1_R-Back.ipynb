{
 "cells": [
  {
   "cell_type": "markdown",
   "metadata": {},
   "source": [
    "### _執行前說明_\n",
    "\n",
    "須先至 [Microsoft Access 2016 ODBC Driver](https://www.microsoft.com/zh-TW/download/details.aspx?id=54920) 下載 Driver 檔案，安裝後，再安裝 `RODBC`，即可執行。"
   ]
  },
  {
   "cell_type": "code",
   "execution_count": 13,
   "metadata": {},
   "outputs": [],
   "source": [
    "library(RODBC)\n",
    "library(RWeka)\n",
    "library(arules)\n",
    "library(knitr)"
   ]
  },
  {
   "cell_type": "code",
   "execution_count": 121,
   "metadata": {},
   "outputs": [
    {
     "data": {
      "text/html": [
       "<table>\n",
       "<caption>A data.frame: 6 × 2</caption>\n",
       "<thead>\n",
       "\t<tr><th></th><th scope=col>tid</th><th scope=col>item</th></tr>\n",
       "\t<tr><th></th><th scope=col>&lt;chr&gt;</th><th scope=col>&lt;chr&gt;</th></tr>\n",
       "</thead>\n",
       "<tbody>\n",
       "\t<tr><th scope=row>1</th><td>2094-748-1</td><td>Vegetables      </td></tr>\n",
       "\t<tr><th scope=row>2</th><td>2094-748-1</td><td>Vegetables      </td></tr>\n",
       "\t<tr><th scope=row>3</th><td>2094-748-1</td><td>Jams and Jellies</td></tr>\n",
       "\t<tr><th scope=row>4</th><td>2094-748-1</td><td>Paper Products  </td></tr>\n",
       "\t<tr><th scope=row>5</th><td>2094-748-1</td><td>Frozen Desserts </td></tr>\n",
       "\t<tr><th scope=row>6</th><td>2094-748-1</td><td>Canned Soup     </td></tr>\n",
       "</tbody>\n",
       "</table>\n"
      ],
      "text/latex": [
       "A data.frame: 6 × 2\n",
       "\\begin{tabular}{r|ll}\n",
       "  & tid & item\\\\\n",
       "  & <chr> & <chr>\\\\\n",
       "\\hline\n",
       "\t1 & 2094-748-1 & Vegetables      \\\\\n",
       "\t2 & 2094-748-1 & Vegetables      \\\\\n",
       "\t3 & 2094-748-1 & Jams and Jellies\\\\\n",
       "\t4 & 2094-748-1 & Paper Products  \\\\\n",
       "\t5 & 2094-748-1 & Frozen Desserts \\\\\n",
       "\t6 & 2094-748-1 & Canned Soup     \\\\\n",
       "\\end{tabular}\n"
      ],
      "text/markdown": [
       "\n",
       "A data.frame: 6 × 2\n",
       "\n",
       "| <!--/--> | tid &lt;chr&gt; | item &lt;chr&gt; |\n",
       "|---|---|---|\n",
       "| 1 | 2094-748-1 | Vegetables       |\n",
       "| 2 | 2094-748-1 | Vegetables       |\n",
       "| 3 | 2094-748-1 | Jams and Jellies |\n",
       "| 4 | 2094-748-1 | Paper Products   |\n",
       "| 5 | 2094-748-1 | Frozen Desserts  |\n",
       "| 6 | 2094-748-1 | Canned Soup      |\n",
       "\n"
      ],
      "text/plain": [
       "  tid        item            \n",
       "1 2094-748-1 Vegetables      \n",
       "2 2094-748-1 Vegetables      \n",
       "3 2094-748-1 Jams and Jellies\n",
       "4 2094-748-1 Paper Products  \n",
       "5 2094-748-1 Frozen Desserts \n",
       "6 2094-748-1 Canned Soup     "
      ]
     },
     "metadata": {},
     "output_type": "display_data"
    }
   ],
   "source": [
    "db <- odbcDriverConnect(\"Driver={Microsoft Access Driver (*.mdb, *.accdb)};\n",
    "                        DBQ=.\\\\foodmart2000.mdb\")\n",
    "\n",
    "sql1 <- \"\n",
    "select\n",
    "    ct.account_num,\n",
    "    dt.the_date,\n",
    "    st.store_name,\n",
    "    pc.product_category\n",
    "from sales_fact_1998 as tx, product as pd, product_class as pc, store as st, customer as ct, time_by_day as dt\n",
    "where pd.product_id = tx.product_id\n",
    "and pd.product_class_id = pc.product_class_id\n",
    "and st.store_id = tx.store_id\n",
    "and ct.customer_id = tx.customer_id\n",
    "and dt.time_id = tx.time_id;\"\n",
    "\n",
    "sql2 <- \"\n",
    "select\n",
    "    trim(str(ft.customer_id)) & '-' & trim(str(ft.time_id)) & '-' & trim(str(ft.store_id)) as tid,\n",
    "    pc.product_category as item\n",
    "from sales_fact_1998 as ft, product as pd, product_class as pc\n",
    "where pd.product_id = ft.product_id\n",
    "and pd.product_class_id = pc.product_class_id;\"\n",
    "\n",
    "ft <- as.data.frame(sqlQuery(db, sql2))\n",
    "ft[, 1] <- as.character(ft[, 1])\n",
    "ft[, 2] <- as.character(ft[, 2])\n",
    "# for(ci in 1:4){\n",
    "#     ft[,ci] <- as.character(ft[,ci])\n",
    "# }\n",
    "head(ft)\n"
   ]
  },
  {
   "cell_type": "code",
   "execution_count": null,
   "metadata": {},
   "outputs": [],
   "source": [
    "write.arff(ft, file = 'sales_fact_1998_2.arff')\n",
    "write.table(\n",
    "    ft,\n",
    "    'sales_fact_1998_2.csv',\n",
    "    row.names = FALSE,\n",
    "    col.names = FALSE,\n",
    "    sep = \",\",\n",
    "    quote = FALSE)"
   ]
  },
  {
   "cell_type": "code",
   "execution_count": null,
   "metadata": {},
   "outputs": [],
   "source": []
  },
  {
   "cell_type": "code",
   "execution_count": null,
   "metadata": {},
   "outputs": [],
   "source": []
  },
  {
   "cell_type": "code",
   "execution_count": null,
   "metadata": {},
   "outputs": [],
   "source": []
  },
  {
   "cell_type": "code",
   "execution_count": 77,
   "metadata": {},
   "outputs": [
    {
     "data": {
      "text/html": [
       "34070"
      ],
      "text/latex": [
       "34070"
      ],
      "text/markdown": [
       "34070"
      ],
      "text/plain": [
       "[1] 34070"
      ]
     },
     "metadata": {},
     "output_type": "display_data"
    }
   ],
   "source": [
    "# tids <- head(unique(ft$tid), n=50)\n"
   ]
  },
  {
   "cell_type": "code",
   "execution_count": 78,
   "metadata": {},
   "outputs": [],
   "source": []
  },
  {
   "cell_type": "code",
   "execution_count": 72,
   "metadata": {},
   "outputs": [
    {
     "data": {
      "text/html": [
       "<style>\n",
       ".list-inline {list-style: none; margin:0; padding: 0}\n",
       ".list-inline>li {display: inline-block}\n",
       ".list-inline>li:not(:last-child)::after {content: \"\\00b7\"; padding: 0 .5ex}\n",
       "</style>\n",
       "<ol class=list-inline><li>'Vegetables'</li><li>'Jams and Jellies'</li><li>'Paper Products'</li><li>'Frozen Desserts'</li><li>'Canned Soup'</li><li>'Beer and Wine'</li><li>'Snack Foods'</li></ol>\n"
      ],
      "text/latex": [
       "\\begin{enumerate*}\n",
       "\\item 'Vegetables'\n",
       "\\item 'Jams and Jellies'\n",
       "\\item 'Paper Products'\n",
       "\\item 'Frozen Desserts'\n",
       "\\item 'Canned Soup'\n",
       "\\item 'Beer and Wine'\n",
       "\\item 'Snack Foods'\n",
       "\\end{enumerate*}\n"
      ],
      "text/markdown": [
       "1. 'Vegetables'\n",
       "2. 'Jams and Jellies'\n",
       "3. 'Paper Products'\n",
       "4. 'Frozen Desserts'\n",
       "5. 'Canned Soup'\n",
       "6. 'Beer and Wine'\n",
       "7. 'Snack Foods'\n",
       "\n",
       "\n"
      ],
      "text/plain": [
       "[1] \"Vegetables\"       \"Jams and Jellies\" \"Paper Products\"   \"Frozen Desserts\" \n",
       "[5] \"Canned Soup\"      \"Beer and Wine\"    \"Snack Foods\"     "
      ]
     },
     "metadata": {},
     "output_type": "display_data"
    }
   ],
   "source": [
    "tid1 <- tids[[1]]\n",
    "item1 <- unique(ft[ft$tid==tid1, 2])\n",
    "c(item1)"
   ]
  },
  {
   "cell_type": "code",
   "execution_count": 82,
   "metadata": {},
   "outputs": [
    {
     "name": "stdout",
     "output_type": "stream",
     "text": [
      "[1] 34070\n",
      "[1] 18\n"
     ]
    }
   ],
   "source": [
    "tids <- unique(ft$tid)\n",
    "print(length(tids))\n",
    "\n",
    "max_len <- 0\n",
    "for (tid in tids){\n",
    "    items <- unique(ft[ft$tid==tid, 2])\n",
    "    item_len <- length(items)\n",
    "    max_len <- ifelse(item_len > max_len, item_len, max_len)\n",
    "}\n",
    "\n",
    "print(max_len)\n",
    "\n",
    "# max_len <- max_len + 1\n",
    "header <- paste('I', 1:max_len, sep = '')\n",
    "result_frame <- rbind(NULL)\n",
    "\n",
    "for (tid in tids){\n",
    "    items <- unique(ft[ft$tid==tid, 2])\n",
    "    items_len <- length(items)\n",
    "    # print(items_len)\n",
    "    diff_len <- max_len - items_len\n",
    "    # print(diff_len)\n",
    "    row <- c(items, rep('', diff_len))\n",
    "    # print(row)\n",
    "    result_frame <- rbind(result_frame, row)\n",
    "}\n",
    "\n",
    "result_frame <- rbind(header, result_frame)\n",
    "\n",
    "print(head(result_frame))\n",
    "\n",
    "write.arff(result_frame, file = 'sales_fact_1998_tx2.arff')\n",
    "write.table(\n",
    "    result_frame,\n",
    "    'sales_fact_1998_tx2.csv',\n",
    "    row.names = FALSE,\n",
    "    col.names = FALSE,\n",
    "    sep = \",\",\n",
    "    quote = TRUE)"
   ]
  },
  {
   "cell_type": "code",
   "execution_count": 83,
   "metadata": {},
   "outputs": [
    {
     "name": "stdout",
     "output_type": "stream",
     "text": [
      "Apriori\n",
      "\n",
      "Parameter specification:\n",
      " confidence minval smax arem  aval originalSupport maxtime support minlen\n",
      "        0.9    0.1    1 none FALSE            TRUE       5   1e-04      2\n",
      " maxlen target  ext\n",
      "     17  rules TRUE\n",
      "\n",
      "Algorithmic control:\n",
      " filter tree heap memopt load sort verbose\n",
      "    0.1 TRUE TRUE  FALSE TRUE    2    TRUE\n",
      "\n",
      "Absolute minimum support count: 3 \n",
      "\n",
      "set item appearances ...[0 item(s)] done [0.00s].\n",
      "set transactions ...[45 item(s), 34070 transaction(s)] done [0.01s].\n",
      "sorting and recoding items ... [45 item(s)] done [0.00s].\n",
      "creating transaction tree ... done [0.01s].\n",
      "checking subsets of size 1 2 3 4 5 6 7 8 done [0.05s].\n",
      "writing ... [9478 rule(s)] done [0.01s].\n",
      "creating S4 object  ... done [0.01s].\n"
     ]
    },
    {
     "data": {
      "text/plain": [
       "\n",
       "\n",
       "|     |LHS                                                                        |RHS             |   support| confidence|  coverage|     lift| count|\n",
       "|:----|:--------------------------------------------------------------------------|:---------------|---------:|----------:|---------:|--------:|-----:|\n",
       "|661  |{Dairy,Frozen Entrees,Kitchen Products,Side Dishes}                        |{Miscellaneous} | 0.0001174|          1| 0.0001174| 64.89524|     4|\n",
       "|672  |{Canned Soup,Electrical,Kitchen Products,Side Dishes}                      |{Miscellaneous} | 0.0001468|          1| 0.0001468| 64.89524|     5|\n",
       "|3532 |{Canned Soup,Electrical,Frozen Entrees,Kitchen Products,Side Dishes}       |{Miscellaneous} | 0.0001174|          1| 0.0001174| 64.89524|     4|\n",
       "|3537 |{Dairy,Electrical,Frozen Entrees,Kitchen Products,Side Dishes}             |{Miscellaneous} | 0.0001174|          1| 0.0001174| 64.89524|     4|\n",
       "|3542 |{Canned Soup,Dairy,Frozen Entrees,Kitchen Products,Side Dishes}            |{Miscellaneous} | 0.0001174|          1| 0.0001174| 64.89524|     4|\n",
       "|3551 |{Canned Soup,Electrical,Kitchen Products,Meat,Side Dishes}                 |{Miscellaneous} | 0.0001174|          1| 0.0001174| 64.89524|     4|\n",
       "|3556 |{Canned Soup,Dairy,Electrical,Kitchen Products,Side Dishes}                |{Miscellaneous} | 0.0001468|          1| 0.0001468| 64.89524|     5|\n",
       "|3570 |{Canned Soup,Dairy,Electrical,Frozen Entrees,Kitchen Products}             |{Miscellaneous} | 0.0001174|          1| 0.0001174| 64.89524|     4|\n",
       "|7874 |{Canned Soup,Dairy,Electrical,Frozen Entrees,Kitchen Products,Side Dishes} |{Miscellaneous} | 0.0001174|          1| 0.0001174| 64.89524|     4|\n",
       "|7880 |{Canned Soup,Dairy,Electrical,Kitchen Products,Meat,Side Dishes}           |{Miscellaneous} | 0.0001174|          1| 0.0001174| 64.89524|     4|"
      ]
     },
     "metadata": {},
     "output_type": "display_data"
    }
   ],
   "source": [
    "tx <- read.transactions('sales_fact_1998_tx2.csv',\n",
    "                        sep = ',',\n",
    "                        format = 'basket',\n",
    "                        header = TRUE)\n",
    "rules <- apriori(tx, parameter = list(supp = 0.0001,\n",
    "                                      conf = 0.9,\n",
    "                                      minlen = 2,\n",
    "                                      maxlen = (max_len - 1),\n",
    "                                      target = 'rules'))\n",
    "result <- DATAFRAME(head(rules, by = 'lift', n = 10))\n",
    "knitr::kable(result, format=\"markdown\")"
   ]
  },
  {
   "cell_type": "code",
   "execution_count": 40,
   "metadata": {},
   "outputs": [],
   "source": [
    "write.arff(ft, file = 'sales_fact_1998_tx.arff')\n",
    "write.table(\n",
    "    ft,\n",
    "    'sales_fact_1998_tx.csv',\n",
    "    row.names = FALSE,\n",
    "    col.names = TRUE,\n",
    "    sep = \",\",\n",
    "    quote = FALSE)"
   ]
  },
  {
   "cell_type": "code",
   "execution_count": 106,
   "metadata": {},
   "outputs": [],
   "source": []
  },
  {
   "cell_type": "code",
   "execution_count": 122,
   "metadata": {},
   "outputs": [
    {
     "data": {
      "text/html": [
       "<table>\n",
       "<caption>A data.frame: 6 × 48</caption>\n",
       "<thead>\n",
       "\t<tr><th></th><th scope=col>tid</th><th scope=col>Baking Goods</th><th scope=col>Bathroom Products</th><th scope=col>Beer and Wine</th><th scope=col>Bread</th><th scope=col>Breakfast Foods</th><th scope=col>Candles</th><th scope=col>Candy</th><th scope=col>Canned Anchovies</th><th scope=col>Canned Clams</th><th scope=col>...</th><th scope=col>Paper Products</th><th scope=col>Pizza</th><th scope=col>Plastic Products</th><th scope=col>Pure Juice Beverages</th><th scope=col>Seafood</th><th scope=col>Side Dishes</th><th scope=col>Snack Foods</th><th scope=col>Specialty</th><th scope=col>Starchy Foods</th><th scope=col>Vegetables</th></tr>\n",
       "\t<tr><th></th><th scope=col>&lt;fct&gt;</th><th scope=col>&lt;fct&gt;</th><th scope=col>&lt;fct&gt;</th><th scope=col>&lt;fct&gt;</th><th scope=col>&lt;fct&gt;</th><th scope=col>&lt;fct&gt;</th><th scope=col>&lt;fct&gt;</th><th scope=col>&lt;fct&gt;</th><th scope=col>&lt;fct&gt;</th><th scope=col>&lt;fct&gt;</th><th scope=col>...</th><th scope=col>&lt;fct&gt;</th><th scope=col>&lt;fct&gt;</th><th scope=col>&lt;fct&gt;</th><th scope=col>&lt;fct&gt;</th><th scope=col>&lt;fct&gt;</th><th scope=col>&lt;fct&gt;</th><th scope=col>&lt;fct&gt;</th><th scope=col>&lt;fct&gt;</th><th scope=col>&lt;fct&gt;</th><th scope=col>&lt;fct&gt;</th></tr>\n",
       "</thead>\n",
       "<tbody>\n",
       "\t<tr><th scope=row>1</th><td>2094-748-1</td><td>0</td><td>0</td><td>1</td><td>0</td><td>0</td><td>0</td><td>0</td><td>0</td><td>0</td><td>...</td><td>1</td><td>0</td><td>0</td><td>0</td><td>0</td><td>0</td><td>1</td><td>0</td><td>0</td><td>1</td></tr>\n",
       "\t<tr><th scope=row>2</th><td>1277-748-1</td><td>0</td><td>0</td><td>0</td><td>0</td><td>0</td><td>0</td><td>0</td><td>0</td><td>0</td><td>...</td><td>0</td><td>0</td><td>0</td><td>0</td><td>0</td><td>0</td><td>1</td><td>0</td><td>0</td><td>0</td></tr>\n",
       "\t<tr><th scope=row>3</th><td>1745-748-1</td><td>0</td><td>0</td><td>1</td><td>0</td><td>0</td><td>0</td><td>0</td><td>0</td><td>0</td><td>...</td><td>0</td><td>0</td><td>0</td><td>0</td><td>0</td><td>0</td><td>0</td><td>0</td><td>0</td><td>1</td></tr>\n",
       "\t<tr><th scope=row>4</th><td>2312-748-1</td><td>0</td><td>0</td><td>0</td><td>0</td><td>0</td><td>0</td><td>0</td><td>0</td><td>0</td><td>...</td><td>0</td><td>0</td><td>0</td><td>0</td><td>0</td><td>0</td><td>0</td><td>0</td><td>0</td><td>1</td></tr>\n",
       "\t<tr><th scope=row>5</th><td>8943-748-1</td><td>0</td><td>0</td><td>0</td><td>1</td><td>0</td><td>0</td><td>0</td><td>0</td><td>0</td><td>...</td><td>0</td><td>0</td><td>0</td><td>0</td><td>0</td><td>0</td><td>0</td><td>1</td><td>0</td><td>1</td></tr>\n",
       "\t<tr><th scope=row>6</th><td>1447-748-1</td><td>0</td><td>0</td><td>0</td><td>0</td><td>1</td><td>0</td><td>0</td><td>0</td><td>0</td><td>...</td><td>0</td><td>0</td><td>0</td><td>0</td><td>0</td><td>0</td><td>1</td><td>1</td><td>1</td><td>0</td></tr>\n",
       "</tbody>\n",
       "</table>\n"
      ],
      "text/latex": [
       "A data.frame: 6 × 48\n",
       "\\begin{tabular}{r|lllllllllllllllllllll}\n",
       "  & tid & Baking Goods & Bathroom Products & Beer and Wine & Bread & Breakfast Foods & Candles & Candy & Canned Anchovies & Canned Clams & ... & Paper Products & Pizza & Plastic Products & Pure Juice Beverages & Seafood & Side Dishes & Snack Foods & Specialty & Starchy Foods & Vegetables\\\\\n",
       "  & <fct> & <fct> & <fct> & <fct> & <fct> & <fct> & <fct> & <fct> & <fct> & <fct> & ... & <fct> & <fct> & <fct> & <fct> & <fct> & <fct> & <fct> & <fct> & <fct> & <fct>\\\\\n",
       "\\hline\n",
       "\t1 & 2094-748-1 & 0 & 0 & 1 & 0 & 0 & 0 & 0 & 0 & 0 & ... & 1 & 0 & 0 & 0 & 0 & 0 & 1 & 0 & 0 & 1\\\\\n",
       "\t2 & 1277-748-1 & 0 & 0 & 0 & 0 & 0 & 0 & 0 & 0 & 0 & ... & 0 & 0 & 0 & 0 & 0 & 0 & 1 & 0 & 0 & 0\\\\\n",
       "\t3 & 1745-748-1 & 0 & 0 & 1 & 0 & 0 & 0 & 0 & 0 & 0 & ... & 0 & 0 & 0 & 0 & 0 & 0 & 0 & 0 & 0 & 1\\\\\n",
       "\t4 & 2312-748-1 & 0 & 0 & 0 & 0 & 0 & 0 & 0 & 0 & 0 & ... & 0 & 0 & 0 & 0 & 0 & 0 & 0 & 0 & 0 & 1\\\\\n",
       "\t5 & 8943-748-1 & 0 & 0 & 0 & 1 & 0 & 0 & 0 & 0 & 0 & ... & 0 & 0 & 0 & 0 & 0 & 0 & 0 & 1 & 0 & 1\\\\\n",
       "\t6 & 1447-748-1 & 0 & 0 & 0 & 0 & 1 & 0 & 0 & 0 & 0 & ... & 0 & 0 & 0 & 0 & 0 & 0 & 1 & 1 & 1 & 0\\\\\n",
       "\\end{tabular}\n"
      ],
      "text/markdown": [
       "\n",
       "A data.frame: 6 × 48\n",
       "\n",
       "| <!--/--> | tid &lt;fct&gt; | Baking Goods &lt;fct&gt; | Bathroom Products &lt;fct&gt; | Beer and Wine &lt;fct&gt; | Bread &lt;fct&gt; | Breakfast Foods &lt;fct&gt; | Candles &lt;fct&gt; | Candy &lt;fct&gt; | Canned Anchovies &lt;fct&gt; | Canned Clams &lt;fct&gt; | ... ... | Paper Products &lt;fct&gt; | Pizza &lt;fct&gt; | Plastic Products &lt;fct&gt; | Pure Juice Beverages &lt;fct&gt; | Seafood &lt;fct&gt; | Side Dishes &lt;fct&gt; | Snack Foods &lt;fct&gt; | Specialty &lt;fct&gt; | Starchy Foods &lt;fct&gt; | Vegetables &lt;fct&gt; |\n",
       "|---|---|---|---|---|---|---|---|---|---|---|---|---|---|---|---|---|---|---|---|---|---|\n",
       "| 1 | 2094-748-1 | 0 | 0 | 1 | 0 | 0 | 0 | 0 | 0 | 0 | ... | 1 | 0 | 0 | 0 | 0 | 0 | 1 | 0 | 0 | 1 |\n",
       "| 2 | 1277-748-1 | 0 | 0 | 0 | 0 | 0 | 0 | 0 | 0 | 0 | ... | 0 | 0 | 0 | 0 | 0 | 0 | 1 | 0 | 0 | 0 |\n",
       "| 3 | 1745-748-1 | 0 | 0 | 1 | 0 | 0 | 0 | 0 | 0 | 0 | ... | 0 | 0 | 0 | 0 | 0 | 0 | 0 | 0 | 0 | 1 |\n",
       "| 4 | 2312-748-1 | 0 | 0 | 0 | 0 | 0 | 0 | 0 | 0 | 0 | ... | 0 | 0 | 0 | 0 | 0 | 0 | 0 | 0 | 0 | 1 |\n",
       "| 5 | 8943-748-1 | 0 | 0 | 0 | 1 | 0 | 0 | 0 | 0 | 0 | ... | 0 | 0 | 0 | 0 | 0 | 0 | 0 | 1 | 0 | 1 |\n",
       "| 6 | 1447-748-1 | 0 | 0 | 0 | 0 | 1 | 0 | 0 | 0 | 0 | ... | 0 | 0 | 0 | 0 | 0 | 0 | 1 | 1 | 1 | 0 |\n",
       "\n"
      ],
      "text/plain": [
       "  tid        Baking Goods Bathroom Products Beer and Wine Bread Breakfast Foods\n",
       "1 2094-748-1 0            0                 1             0     0              \n",
       "2 1277-748-1 0            0                 0             0     0              \n",
       "3 1745-748-1 0            0                 1             0     0              \n",
       "4 2312-748-1 0            0                 0             0     0              \n",
       "5 8943-748-1 0            0                 0             1     0              \n",
       "6 1447-748-1 0            0                 0             0     1              \n",
       "  Candles Candy Canned Anchovies Canned Clams ... Paper Products Pizza\n",
       "1 0       0     0                0            ... 1              0    \n",
       "2 0       0     0                0            ... 0              0    \n",
       "3 0       0     0                0            ... 0              0    \n",
       "4 0       0     0                0            ... 0              0    \n",
       "5 0       0     0                0            ... 0              0    \n",
       "6 0       0     0                0            ... 0              0    \n",
       "  Plastic Products Pure Juice Beverages Seafood Side Dishes Snack Foods\n",
       "1 0                0                    0       0           1          \n",
       "2 0                0                    0       0           1          \n",
       "3 0                0                    0       0           0          \n",
       "4 0                0                    0       0           0          \n",
       "5 0                0                    0       0           0          \n",
       "6 0                0                    0       0           1          \n",
       "  Specialty Starchy Foods Vegetables\n",
       "1 0         0             1         \n",
       "2 0         0             0         \n",
       "3 0         0             1         \n",
       "4 0         0             1         \n",
       "5 1         0             1         \n",
       "6 1         1             0         "
      ]
     },
     "metadata": {},
     "output_type": "display_data"
    }
   ],
   "source": [
    "sql_pc <- \"\n",
    "select distinct product_category from product_class; \n",
    "\"\n",
    "\n",
    "pc <- as.data.frame(sqlQuery(db, sql_pc))\n",
    "pc[,1] <- as.character(pc[,1])\n",
    "\n",
    "columns <- c(\"tid\", as.vector(t(pc)[1,]))\n",
    "# print(columns)\n",
    "\n",
    "len <- length(columns)\n",
    "# tids <- head(unique(ft$tid), n=500)\n",
    "tids <- unique(ft$tid)\n",
    "df <- as.data.frame(matrix(ncol = length(columns), \n",
    "                           nrow=0, \n",
    "                           dimnames = list(NULL,columns)))\n",
    "\n",
    "# print(columns)\n",
    "# print(colnames(df))\n",
    "\n",
    "ridx <- 1\n",
    "\n",
    "for(tid in tids){\n",
    "    df[ridx, 1] = tid\n",
    "    df[ridx, 2:len] = 0\n",
    "\n",
    "    pcs <- unique(as.vector(ft[ft$tid==tid,2]))\n",
    "    \n",
    "    for(pc in pcs){\n",
    "        df[ridx, pc] = 1\n",
    "    }\n",
    "    \n",
    "    ridx <- ridx + 1\n",
    "}\n",
    "\n",
    "for (idx in 1:length(columns)){\n",
    "    df[,idx] <- as.factor(df[,idx])\n",
    "}\n",
    "\n",
    "head(df)"
   ]
  },
  {
   "cell_type": "code",
   "execution_count": 123,
   "metadata": {},
   "outputs": [],
   "source": [
    "write.arff(df[,2:len], file = 'sales_fact_1998_fp.arff')\n",
    "write.table(\n",
    "    df[,2:len],\n",
    "    'sales_fact_1998_fp.csv',\n",
    "    row.names = FALSE,\n",
    "    col.names = TRUE,\n",
    "    sep = \",\",\n",
    "    quote = FALSE)"
   ]
  },
  {
   "cell_type": "markdown",
   "metadata": {},
   "source": [
    "### 題目 1\n",
    "\n",
    "請利用Weka 中的Apriori 演算法，從Foodmart資料庫的交易資料中，探勘符合Minimum Support = 0.0001且Minimum Confidence = 0.9的Association Rules，並列出Confidence最高的前10條Rules。若無法跑出結果，請簡述其原因。"
   ]
  },
  {
   "cell_type": "code",
   "execution_count": 92,
   "metadata": {},
   "outputs": [
    {
     "data": {
      "text/plain": [
       "transactions as itemMatrix in sparse format with\n",
       " 49 rows (elements/itemsets/transactions) and\n",
       " 40 columns (items) and a density of 0.1061224 \n",
       "\n",
       "most frequent items:\n",
       " Vegetables Snack Foods        Meat       Bread       Dairy     (Other) \n",
       "         20          17          12          10          10         139 \n",
       "\n",
       "element (itemset/transaction) length distribution:\n",
       "sizes\n",
       " 1  2  3  4  5  6  7  8 13 \n",
       " 7  6  8  6  7  8  3  3  1 \n",
       "\n",
       "   Min. 1st Qu.  Median    Mean 3rd Qu.    Max. \n",
       "  1.000   2.000   4.000   4.245   6.000  13.000 \n",
       "\n",
       "includes extended item information - examples:\n",
       "             labels\n",
       "1      Baking Goods\n",
       "2 Bathroom Products\n",
       "3     Beer and Wine"
      ]
     },
     "metadata": {},
     "output_type": "display_data"
    }
   ],
   "source": [
    "# tx <- read.transactions('sales_fact_1998_tx.csv',\n",
    "#                         sep = ',',\n",
    "#                         format = 'single',\n",
    "#                         header = TRUE,\n",
    "#                         cols = c('tid', 'item'))\n",
    "\n",
    "# tx <- read.transactions('sales_fact_1998.csv',\n",
    "#                         sep = ',',\n",
    "#                         format = 'basket',\n",
    "#                         header = TRUE)\n",
    "\n",
    "tx <- read.transactions('sales_fact_1998_tx2.csv',\n",
    "                        sep = ',',\n",
    "                        format = 'basket',\n",
    "                        header = TRUE)\n",
    "summary(tx)\n",
    "# summary(df[,2:len])"
   ]
  },
  {
   "cell_type": "code",
   "execution_count": 93,
   "metadata": {},
   "outputs": [
    {
     "name": "stdout",
     "output_type": "stream",
     "text": [
      "Apriori\n",
      "\n",
      "Parameter specification:\n",
      " confidence minval smax arem  aval originalSupport maxtime support minlen\n",
      "        0.9    0.1    1 none FALSE            TRUE       5   1e-04      1\n",
      " maxlen target  ext\n",
      "     10  rules TRUE\n",
      "\n",
      "Algorithmic control:\n",
      " filter tree heap memopt load sort verbose\n",
      "    0.1 TRUE TRUE  FALSE TRUE    2    TRUE\n",
      "\n",
      "Absolute minimum support count: 0 \n",
      "\n",
      "set item appearances ...[0 item(s)] done [0.00s].\n",
      "set transactions ...[40 item(s), 49 transaction(s)] done [0.00s].\n",
      "sorting and recoding items ... [40 item(s)] done [0.00s].\n",
      "creating transaction tree ... done [0.00s].\n",
      "checking subsets of size 1 2 3 4 5 6 7 8 9 10"
     ]
    },
    {
     "name": "stderr",
     "output_type": "stream",
     "text": [
      "Warning message in apriori(tx, parameter = list(supp = 1e-04, conf = 0.9, maxlen = 10, :\n",
      "\"Mining stopped (maxlen reached). Only patterns up to a length of 10 returned!\"\n"
     ]
    },
    {
     "name": "stdout",
     "output_type": "stream",
     "text": [
      " done [0.00s].\n",
      "writing ... [55664 rule(s)] done [0.01s].\n",
      "creating S4 object  ... done [0.02s].\n"
     ]
    },
    {
     "data": {
      "text/plain": [
       "set of 55664 rules\n",
       "\n",
       "rule length distribution (lhs + rhs):sizes\n",
       "    2     3     4     5     6     7     8     9    10 \n",
       "   46  1133  4069  7653 10947 12201 10320  6435  2860 \n",
       "\n",
       "   Min. 1st Qu.  Median    Mean 3rd Qu.    Max. \n",
       "  2.000   6.000   7.000   6.794   8.000  10.000 \n",
       "\n",
       "summary of quality measures:\n",
       "    support          confidence    coverage            lift      \n",
       " Min.   :0.02041   Min.   :1    Min.   :0.02041   Min.   : 2.45  \n",
       " 1st Qu.:0.02041   1st Qu.:1    1st Qu.:0.02041   1st Qu.: 4.90  \n",
       " Median :0.02041   Median :1    Median :0.02041   Median : 7.00  \n",
       " Mean   :0.02047   Mean   :1    Mean   :0.02047   Mean   :11.03  \n",
       " 3rd Qu.:0.02041   3rd Qu.:1    3rd Qu.:0.02041   3rd Qu.: 9.80  \n",
       " Max.   :0.06122   Max.   :1    Max.   :0.06122   Max.   :49.00  \n",
       "     count      \n",
       " Min.   :1.000  \n",
       " 1st Qu.:1.000  \n",
       " Median :1.000  \n",
       " Mean   :1.003  \n",
       " 3rd Qu.:1.000  \n",
       " Max.   :3.000  \n",
       "\n",
       "mining info:\n",
       " data ntransactions support confidence\n",
       "   tx            49   1e-04        0.9"
      ]
     },
     "metadata": {},
     "output_type": "display_data"
    }
   ],
   "source": [
    "# rules <- apriori(df[,2:len], parameter = list(supp = 0.01, conf = 0.9, maxlen = 10))\n",
    "rules <- apriori(tx, parameter = list(supp = 0.0001, conf = 0.9, maxlen = 10, target = 'rules'))\n",
    "summary(rules)"
   ]
  },
  {
   "cell_type": "code",
   "execution_count": 94,
   "metadata": {},
   "outputs": [
    {
     "data": {
      "text/plain": [
       "set of 55664 rules\n",
       "\n",
       "rule length distribution (lhs + rhs):sizes\n",
       "    2     3     4     5     6     7     8     9    10 \n",
       "   46  1133  4069  7653 10947 12201 10320  6435  2860 \n",
       "\n",
       "   Min. 1st Qu.  Median    Mean 3rd Qu.    Max. \n",
       "  2.000   6.000   7.000   6.794   8.000  10.000 \n",
       "\n",
       "summary of quality measures:\n",
       "    support          confidence    coverage            lift      \n",
       " Min.   :0.02041   Min.   :1    Min.   :0.02041   Min.   : 2.45  \n",
       " 1st Qu.:0.02041   1st Qu.:1    1st Qu.:0.02041   1st Qu.: 4.90  \n",
       " Median :0.02041   Median :1    Median :0.02041   Median : 7.00  \n",
       " Mean   :0.02047   Mean   :1    Mean   :0.02047   Mean   :11.03  \n",
       " 3rd Qu.:0.02041   3rd Qu.:1    3rd Qu.:0.02041   3rd Qu.: 9.80  \n",
       " Max.   :0.06122   Max.   :1    Max.   :0.06122   Max.   :49.00  \n",
       "     count      \n",
       " Min.   :1.000  \n",
       " 1st Qu.:1.000  \n",
       " Median :1.000  \n",
       " Mean   :1.003  \n",
       " 3rd Qu.:1.000  \n",
       " Max.   :3.000  \n",
       "\n",
       "mining info:\n",
       " data ntransactions support confidence\n",
       "   tx            49   1e-04        0.9"
      ]
     },
     "metadata": {},
     "output_type": "display_data"
    }
   ],
   "source": [
    "summary(rules)"
   ]
  },
  {
   "cell_type": "code",
   "execution_count": 95,
   "metadata": {},
   "outputs": [
    {
     "name": "stdout",
     "output_type": "stream",
     "text": [
      "     lhs                                  rhs               support   \n",
      "[1]  {Drinks,Pain Relievers}           => {Canned Tuna}     0.02040816\n",
      "[2]  {Drinks,Eggs}                     => {Canned Tuna}     0.02040816\n",
      "[3]  {Eggs,Pain Relievers}             => {Canned Tuna}     0.02040816\n",
      "[4]  {Electrical,Hot Beverages}        => {Candles}         0.02040816\n",
      "[5]  {Breakfast Foods,Candy}           => {Candles}         0.02040816\n",
      "[6]  {Breakfast Foods,Electrical}      => {Candles}         0.02040816\n",
      "[7]  {Eggs,Jams and Jellies}           => {Decongestants}   0.02040816\n",
      "[8]  {Jams and Jellies,Meat}           => {Decongestants}   0.02040816\n",
      "[9]  {Cold Remedies,Frozen Entrees}    => {Canned Sardines} 0.02040816\n",
      "[10] {Cleaning Supplies,Cold Remedies} => {Canned Sardines} 0.02040816\n",
      "     confidence coverage   lift count\n",
      "[1]  1          0.02040816 49   1    \n",
      "[2]  1          0.02040816 49   1    \n",
      "[3]  1          0.02040816 49   1    \n",
      "[4]  1          0.02040816 49   1    \n",
      "[5]  1          0.02040816 49   1    \n",
      "[6]  1          0.02040816 49   1    \n",
      "[7]  1          0.02040816 49   1    \n",
      "[8]  1          0.02040816 49   1    \n",
      "[9]  1          0.02040816 49   1    \n",
      "[10] 1          0.02040816 49   1    \n"
     ]
    }
   ],
   "source": [
    "inspect(head(rules, by = 'lift', n = 10))"
   ]
  },
  {
   "cell_type": "markdown",
   "metadata": {},
   "source": [
    "### 題目 2\n",
    "\n",
    "請利用Weka 中的FP-Growth演算法，從Foodmart資料庫的交易資料中，探勘符合Minimum Support = 0.0001 且Minimum Confidence = 0.9的Association Rules，並列出Confidence最高的前10條Rules。若無法跑出結果，請簡述其原因。"
   ]
  },
  {
   "cell_type": "code",
   "execution_count": null,
   "metadata": {},
   "outputs": [],
   "source": []
  },
  {
   "cell_type": "markdown",
   "metadata": {},
   "source": [
    "### 題目 3\n",
    "\n",
    "有時候我們有興趣的資料不只有產品間的資訊，也會想要由User Profile探勘顧客的基本資料。請運用Weka，給定Minimum Support = 0.05且Minimum Confidence= 0.9的條件下，探勘Foodmart顧客基本資料的屬性{State_Province, Yearly_Income , Gender , Total_Children , Num_Children_at_Home , Education , Occupation, Houseowner , Num_cars,owned } 間的association rule。(列出10條)"
   ]
  },
  {
   "cell_type": "code",
   "execution_count": 132,
   "metadata": {},
   "outputs": [
    {
     "data": {
      "text/html": [
       "<table>\n",
       "<caption>A data.frame: 6 × 10</caption>\n",
       "<thead>\n",
       "\t<tr><th></th><th scope=col>customer_id</th><th scope=col>state_province</th><th scope=col>yearly_income</th><th scope=col>gender</th><th scope=col>total_children</th><th scope=col>num_children_at_home</th><th scope=col>education</th><th scope=col>occupation</th><th scope=col>houseowner</th><th scope=col>num_cars_owned</th></tr>\n",
       "\t<tr><th></th><th scope=col>&lt;int&gt;</th><th scope=col>&lt;fct&gt;</th><th scope=col>&lt;fct&gt;</th><th scope=col>&lt;fct&gt;</th><th scope=col>&lt;fct&gt;</th><th scope=col>&lt;fct&gt;</th><th scope=col>&lt;fct&gt;</th><th scope=col>&lt;fct&gt;</th><th scope=col>&lt;fct&gt;</th><th scope=col>&lt;fct&gt;</th></tr>\n",
       "</thead>\n",
       "<tbody>\n",
       "\t<tr><th scope=row>1</th><td> 3</td><td>WA</td><td>$50K - $70K</td><td>F</td><td>1</td><td>1</td><td>Bachelors Degree   </td><td>Professional  </td><td>Y</td><td>2</td></tr>\n",
       "\t<tr><th scope=row>2</th><td> 6</td><td>WA</td><td>$70K - $90K</td><td>F</td><td>3</td><td>0</td><td>Bachelors Degree   </td><td>Professional  </td><td>Y</td><td>3</td></tr>\n",
       "\t<tr><th scope=row>3</th><td> 8</td><td>DF</td><td>$50K - $70K</td><td>M</td><td>2</td><td>2</td><td>Bachelors Degree   </td><td>Professional  </td><td>Y</td><td>3</td></tr>\n",
       "\t<tr><th scope=row>4</th><td> 9</td><td>BC</td><td>$10K - $30K</td><td>M</td><td>5</td><td>3</td><td>Partial High School</td><td>Skilled Manual</td><td>Y</td><td>1</td></tr>\n",
       "\t<tr><th scope=row>5</th><td>10</td><td>OR</td><td>$30K - $50K</td><td>M</td><td>4</td><td>0</td><td>Bachelors Degree   </td><td>Management    </td><td>N</td><td>4</td></tr>\n",
       "\t<tr><th scope=row>6</th><td>11</td><td>CA</td><td>$50K - $70K</td><td>M</td><td>4</td><td>0</td><td>High School Degree </td><td>Manual        </td><td>N</td><td>2</td></tr>\n",
       "</tbody>\n",
       "</table>\n"
      ],
      "text/latex": [
       "A data.frame: 6 × 10\n",
       "\\begin{tabular}{r|llllllllll}\n",
       "  & customer\\_id & state\\_province & yearly\\_income & gender & total\\_children & num\\_children\\_at\\_home & education & occupation & houseowner & num\\_cars\\_owned\\\\\n",
       "  & <int> & <fct> & <fct> & <fct> & <fct> & <fct> & <fct> & <fct> & <fct> & <fct>\\\\\n",
       "\\hline\n",
       "\t1 &  3 & WA & \\$50K - \\$70K & F & 1 & 1 & Bachelors Degree    & Professional   & Y & 2\\\\\n",
       "\t2 &  6 & WA & \\$70K - \\$90K & F & 3 & 0 & Bachelors Degree    & Professional   & Y & 3\\\\\n",
       "\t3 &  8 & DF & \\$50K - \\$70K & M & 2 & 2 & Bachelors Degree    & Professional   & Y & 3\\\\\n",
       "\t4 &  9 & BC & \\$10K - \\$30K & M & 5 & 3 & Partial High School & Skilled Manual & Y & 1\\\\\n",
       "\t5 & 10 & OR & \\$30K - \\$50K & M & 4 & 0 & Bachelors Degree    & Management     & N & 4\\\\\n",
       "\t6 & 11 & CA & \\$50K - \\$70K & M & 4 & 0 & High School Degree  & Manual         & N & 2\\\\\n",
       "\\end{tabular}\n"
      ],
      "text/markdown": [
       "\n",
       "A data.frame: 6 × 10\n",
       "\n",
       "| <!--/--> | customer_id &lt;int&gt; | state_province &lt;fct&gt; | yearly_income &lt;fct&gt; | gender &lt;fct&gt; | total_children &lt;fct&gt; | num_children_at_home &lt;fct&gt; | education &lt;fct&gt; | occupation &lt;fct&gt; | houseowner &lt;fct&gt; | num_cars_owned &lt;fct&gt; |\n",
       "|---|---|---|---|---|---|---|---|---|---|---|\n",
       "| 1 |  3 | WA | $50K - $70K | F | 1 | 1 | Bachelors Degree    | Professional   | Y | 2 |\n",
       "| 2 |  6 | WA | $70K - $90K | F | 3 | 0 | Bachelors Degree    | Professional   | Y | 3 |\n",
       "| 3 |  8 | DF | $50K - $70K | M | 2 | 2 | Bachelors Degree    | Professional   | Y | 3 |\n",
       "| 4 |  9 | BC | $10K - $30K | M | 5 | 3 | Partial High School | Skilled Manual | Y | 1 |\n",
       "| 5 | 10 | OR | $30K - $50K | M | 4 | 0 | Bachelors Degree    | Management     | N | 4 |\n",
       "| 6 | 11 | CA | $50K - $70K | M | 4 | 0 | High School Degree  | Manual         | N | 2 |\n",
       "\n"
      ],
      "text/plain": [
       "  customer_id state_province yearly_income gender total_children\n",
       "1  3          WA             $50K - $70K   F      1             \n",
       "2  6          WA             $70K - $90K   F      3             \n",
       "3  8          DF             $50K - $70K   M      2             \n",
       "4  9          BC             $10K - $30K   M      5             \n",
       "5 10          OR             $30K - $50K   M      4             \n",
       "6 11          CA             $50K - $70K   M      4             \n",
       "  num_children_at_home education           occupation     houseowner\n",
       "1 1                    Bachelors Degree    Professional   Y         \n",
       "2 0                    Bachelors Degree    Professional   Y         \n",
       "3 2                    Bachelors Degree    Professional   Y         \n",
       "4 3                    Partial High School Skilled Manual Y         \n",
       "5 0                    Bachelors Degree    Management     N         \n",
       "6 0                    High School Degree  Manual         N         \n",
       "  num_cars_owned\n",
       "1 2             \n",
       "2 3             \n",
       "3 3             \n",
       "4 1             \n",
       "5 4             \n",
       "6 2             "
      ]
     },
     "metadata": {},
     "output_type": "display_data"
    }
   ],
   "source": [
    "db <- odbcDriverConnect(\"Driver={Microsoft Access Driver (*.mdb, *.accdb)};\n",
    "                        DBQ=.\\\\foodmart2000.mdb\")\n",
    "\n",
    "sql3 <- \"\n",
    "select distinct\n",
    "    ct.customer_id,\n",
    "    ct.state_province,\n",
    "    ct.yearly_income,\n",
    "    ct.gender,\n",
    "    ct.total_children,\n",
    "    ct.num_children_at_home,\n",
    "    ct.education,\n",
    "    ct.occupation,\n",
    "    ct.houseowner,\n",
    "    ct.num_cars_owned\n",
    "from sales_fact_1998 tx, customer ct\n",
    "where tx.customer_id = ct.customer_id;\n",
    "\"\n",
    "\n",
    "ct <- as.data.frame(sqlQuery(db, sql3))\n",
    "for(idx in 2:10){\n",
    "    ct[,idx] <- as.factor(ct[, idx])\n",
    "}\n",
    "\n",
    "head(ct)"
   ]
  },
  {
   "cell_type": "code",
   "execution_count": 133,
   "metadata": {},
   "outputs": [],
   "source": [
    "write.arff(ct[,2:10], file = 'customer.arff')\n",
    "write.table(\n",
    "    df[,2:10],\n",
    "    'customer.csv',\n",
    "    row.names = FALSE,\n",
    "    col.names = TRUE,\n",
    "    sep = \",\",\n",
    "    quote = FALSE)"
   ]
  },
  {
   "cell_type": "code",
   "execution_count": null,
   "metadata": {},
   "outputs": [],
   "source": []
  },
  {
   "cell_type": "code",
   "execution_count": null,
   "metadata": {},
   "outputs": [],
   "source": []
  },
  {
   "cell_type": "code",
   "execution_count": 131,
   "metadata": {},
   "outputs": [
    {
     "data": {
      "text/html": [
       "<dl>\n",
       "\t<dt>$state_province</dt>\n",
       "\t\t<dd><style>\n",
       ".list-inline {list-style: none; margin:0; padding: 0}\n",
       ".list-inline>li {display: inline-block}\n",
       ".list-inline>li:not(:last-child)::after {content: \"\\00b7\"; padding: 0 .5ex}\n",
       "</style>\n",
       "<ol class=list-inline><li>'BC'</li><li>'CA'</li><li>'DF'</li><li>'Guerrero'</li><li>'Jalisco'</li><li>'Mexico'</li><li>'Oaxaca'</li><li>'OR'</li><li>'Sinaloa'</li><li>'Veracruz'</li><li>'WA'</li><li>'Yucatan'</li><li>'Zacatecas'</li></ol>\n",
       "</dd>\n",
       "\t<dt>$yearly_income</dt>\n",
       "\t\t<dd><style>\n",
       ".list-inline {list-style: none; margin:0; padding: 0}\n",
       ".list-inline>li {display: inline-block}\n",
       ".list-inline>li:not(:last-child)::after {content: \"\\00b7\"; padding: 0 .5ex}\n",
       "</style>\n",
       "<ol class=list-inline><li>'$10K - $30K'</li><li>'$110K - $130K'</li><li>'$130K - $150K'</li><li>'$150K +'</li><li>'$30K - $50K'</li><li>'$50K - $70K'</li><li>'$70K - $90K'</li><li>'$90K - $110K'</li></ol>\n",
       "</dd>\n",
       "\t<dt>$gender</dt>\n",
       "\t\t<dd><style>\n",
       ".list-inline {list-style: none; margin:0; padding: 0}\n",
       ".list-inline>li {display: inline-block}\n",
       ".list-inline>li:not(:last-child)::after {content: \"\\00b7\"; padding: 0 .5ex}\n",
       "</style>\n",
       "<ol class=list-inline><li>'F'</li><li>'M'</li></ol>\n",
       "</dd>\n",
       "\t<dt>$total_children</dt>\n",
       "\t\t<dd><style>\n",
       ".list-inline {list-style: none; margin:0; padding: 0}\n",
       ".list-inline>li {display: inline-block}\n",
       ".list-inline>li:not(:last-child)::after {content: \"\\00b7\"; padding: 0 .5ex}\n",
       "</style>\n",
       "<ol class=list-inline><li>0</li><li>1</li><li>2</li><li>3</li><li>4</li><li>5</li></ol>\n",
       "</dd>\n",
       "\t<dt>$num_children_at_home</dt>\n",
       "\t\t<dd><style>\n",
       ".list-inline {list-style: none; margin:0; padding: 0}\n",
       ".list-inline>li {display: inline-block}\n",
       ".list-inline>li:not(:last-child)::after {content: \"\\00b7\"; padding: 0 .5ex}\n",
       "</style>\n",
       "<ol class=list-inline><li>0</li><li>1</li><li>2</li><li>3</li><li>4</li><li>5</li></ol>\n",
       "</dd>\n",
       "\t<dt>$education</dt>\n",
       "\t\t<dd><style>\n",
       ".list-inline {list-style: none; margin:0; padding: 0}\n",
       ".list-inline>li {display: inline-block}\n",
       ".list-inline>li:not(:last-child)::after {content: \"\\00b7\"; padding: 0 .5ex}\n",
       "</style>\n",
       "<ol class=list-inline><li>'Bachelors Degree'</li><li>'Graduate Degree'</li><li>'High School Degree'</li><li>'Partial College'</li><li>'Partial High School'</li></ol>\n",
       "</dd>\n",
       "</dl>\n"
      ],
      "text/latex": [
       "\\begin{description}\n",
       "\\item[\\$state\\_province] \\begin{enumerate*}\n",
       "\\item 'BC'\n",
       "\\item 'CA'\n",
       "\\item 'DF'\n",
       "\\item 'Guerrero'\n",
       "\\item 'Jalisco'\n",
       "\\item 'Mexico'\n",
       "\\item 'Oaxaca'\n",
       "\\item 'OR'\n",
       "\\item 'Sinaloa'\n",
       "\\item 'Veracruz'\n",
       "\\item 'WA'\n",
       "\\item 'Yucatan'\n",
       "\\item 'Zacatecas'\n",
       "\\end{enumerate*}\n",
       "\n",
       "\\item[\\$yearly\\_income] \\begin{enumerate*}\n",
       "\\item '\\$10K - \\$30K'\n",
       "\\item '\\$110K - \\$130K'\n",
       "\\item '\\$130K - \\$150K'\n",
       "\\item '\\$150K +'\n",
       "\\item '\\$30K - \\$50K'\n",
       "\\item '\\$50K - \\$70K'\n",
       "\\item '\\$70K - \\$90K'\n",
       "\\item '\\$90K - \\$110K'\n",
       "\\end{enumerate*}\n",
       "\n",
       "\\item[\\$gender] \\begin{enumerate*}\n",
       "\\item 'F'\n",
       "\\item 'M'\n",
       "\\end{enumerate*}\n",
       "\n",
       "\\item[\\$total\\_children] \\begin{enumerate*}\n",
       "\\item 0\n",
       "\\item 1\n",
       "\\item 2\n",
       "\\item 3\n",
       "\\item 4\n",
       "\\item 5\n",
       "\\end{enumerate*}\n",
       "\n",
       "\\item[\\$num\\_children\\_at\\_home] \\begin{enumerate*}\n",
       "\\item 0\n",
       "\\item 1\n",
       "\\item 2\n",
       "\\item 3\n",
       "\\item 4\n",
       "\\item 5\n",
       "\\end{enumerate*}\n",
       "\n",
       "\\item[\\$education] \\begin{enumerate*}\n",
       "\\item 'Bachelors Degree'\n",
       "\\item 'Graduate Degree'\n",
       "\\item 'High School Degree'\n",
       "\\item 'Partial College'\n",
       "\\item 'Partial High School'\n",
       "\\end{enumerate*}\n",
       "\n",
       "\\end{description}\n"
      ],
      "text/markdown": [
       "$state_province\n",
       ":   1. 'BC'\n",
       "2. 'CA'\n",
       "3. 'DF'\n",
       "4. 'Guerrero'\n",
       "5. 'Jalisco'\n",
       "6. 'Mexico'\n",
       "7. 'Oaxaca'\n",
       "8. 'OR'\n",
       "9. 'Sinaloa'\n",
       "10. 'Veracruz'\n",
       "11. 'WA'\n",
       "12. 'Yucatan'\n",
       "13. 'Zacatecas'\n",
       "\n",
       "\n",
       "\n",
       "$yearly_income\n",
       ":   1. '$10K - $30K'\n",
       "2. '$110K - $130K'\n",
       "3. '$130K - $150K'\n",
       "4. '$150K +'\n",
       "5. '$30K - $50K'\n",
       "6. '$50K - $70K'\n",
       "7. '$70K - $90K'\n",
       "8. '$90K - $110K'\n",
       "\n",
       "\n",
       "\n",
       "$gender\n",
       ":   1. 'F'\n",
       "2. 'M'\n",
       "\n",
       "\n",
       "\n",
       "$total_children\n",
       ":   1. 0\n",
       "2. 1\n",
       "3. 2\n",
       "4. 3\n",
       "5. 4\n",
       "6. 5\n",
       "\n",
       "\n",
       "\n",
       "$num_children_at_home\n",
       ":   1. 0\n",
       "2. 1\n",
       "3. 2\n",
       "4. 3\n",
       "5. 4\n",
       "6. 5\n",
       "\n",
       "\n",
       "\n",
       "$education\n",
       ":   1. 'Bachelors Degree'\n",
       "2. 'Graduate Degree'\n",
       "3. 'High School Degree'\n",
       "4. 'Partial College'\n",
       "5. 'Partial High School'\n",
       "\n",
       "\n",
       "\n",
       "\n",
       "\n"
      ],
      "text/plain": [
       "$state_province\n",
       " [1] \"BC\"        \"CA\"        \"DF\"        \"Guerrero\"  \"Jalisco\"   \"Mexico\"   \n",
       " [7] \"Oaxaca\"    \"OR\"        \"Sinaloa\"   \"Veracruz\"  \"WA\"        \"Yucatan\"  \n",
       "[13] \"Zacatecas\"\n",
       "\n",
       "$yearly_income\n",
       "[1] \"$10K - $30K\"   \"$110K - $130K\" \"$130K - $150K\" \"$150K +\"      \n",
       "[5] \"$30K - $50K\"   \"$50K - $70K\"   \"$70K - $90K\"   \"$90K - $110K\" \n",
       "\n",
       "$gender\n",
       "[1] \"F\" \"M\"\n",
       "\n",
       "$total_children\n",
       "[1] 0 1 2 3 4 5\n",
       "\n",
       "$num_children_at_home\n",
       "[1] 0 1 2 3 4 5\n",
       "\n",
       "$education\n",
       "[1] \"Bachelors Degree\"    \"Graduate Degree\"     \"High School Degree\" \n",
       "[4] \"Partial College\"     \"Partial High School\"\n"
      ]
     },
     "metadata": {},
     "output_type": "display_data"
    }
   ],
   "source": [
    "items <- c(\"state_province\",\n",
    "           \"yearly_income\",\n",
    "           \"gender\",\n",
    "           \"total_children\",\n",
    "           \"num_children_at_home\",\n",
    "           \"education\",\n",
    "           \"occupation\",\n",
    "           \"houseowner\",\n",
    "           \"num_cars_owned\")\n",
    "\n",
    "fact_list <- list()\n",
    "for(item in items){\n",
    "    item_sql = paste(\"select distinct\", item, \"from customer;\")\n",
    "    fact_rows <- as.data.frame(sqlQuery(db, item_sql))\n",
    "    facts <- as.vector(t(fact_rows)[1,])\n",
    "    fact_list[[item]] <- facts\n",
    "}\n",
    "\n",
    "head(fact_list)"
   ]
  },
  {
   "cell_type": "code",
   "execution_count": null,
   "metadata": {},
   "outputs": [],
   "source": []
  },
  {
   "cell_type": "code",
   "execution_count": null,
   "metadata": {},
   "outputs": [],
   "source": []
  },
  {
   "cell_type": "markdown",
   "metadata": {},
   "source": [
    "### 題目 4\n",
    "\n",
    "請運用Weka探勘Foodmart資料庫中，顧客背景資料與其交易資料之間的關係(Quantitative Association Rules)。例如80%女性顧客常買保養品。請自行嘗試設定Minimum Support Minimum Confidence，找出10條你覺得有意義的Rules。請說明你的作法及相關參數設定。"
   ]
  },
  {
   "cell_type": "code",
   "execution_count": 160,
   "metadata": {
    "collapsed": true
   },
   "outputs": [
    {
     "data": {
      "text/html": [
       "<table>\n",
       "<caption>A data.frame: 6 × 5</caption>\n",
       "<thead>\n",
       "\t<tr><th></th><th scope=col>tid</th><th scope=col>yearly_income</th><th scope=col>gender</th><th scope=col>occupation</th><th scope=col>item</th></tr>\n",
       "\t<tr><th></th><th scope=col>&lt;chr&gt;</th><th scope=col>&lt;chr&gt;</th><th scope=col>&lt;chr&gt;</th><th scope=col>&lt;chr&gt;</th><th scope=col>&lt;chr&gt;</th></tr>\n",
       "</thead>\n",
       "<tbody>\n",
       "\t<tr><th scope=row>1</th><td>3-819-15</td><td>$50K - $70K</td><td>F</td><td>Professional</td><td>Magazines       </td></tr>\n",
       "\t<tr><th scope=row>2</th><td>3-838-15</td><td>$50K - $70K</td><td>F</td><td>Professional</td><td>Dairy           </td></tr>\n",
       "\t<tr><th scope=row>3</th><td>3-838-15</td><td>$50K - $70K</td><td>F</td><td>Professional</td><td>Dairy           </td></tr>\n",
       "\t<tr><th scope=row>4</th><td>3-838-15</td><td>$50K - $70K</td><td>F</td><td>Professional</td><td>Candy           </td></tr>\n",
       "\t<tr><th scope=row>5</th><td>3-838-15</td><td>$50K - $70K</td><td>F</td><td>Professional</td><td>Starchy Foods   </td></tr>\n",
       "\t<tr><th scope=row>6</th><td>3-838-15</td><td>$50K - $70K</td><td>F</td><td>Professional</td><td>Kitchen Products</td></tr>\n",
       "</tbody>\n",
       "</table>\n"
      ],
      "text/latex": [
       "A data.frame: 6 × 5\n",
       "\\begin{tabular}{r|lllll}\n",
       "  & tid & yearly\\_income & gender & occupation & item\\\\\n",
       "  & <chr> & <chr> & <chr> & <chr> & <chr>\\\\\n",
       "\\hline\n",
       "\t1 & 3-819-15 & \\$50K - \\$70K & F & Professional & Magazines       \\\\\n",
       "\t2 & 3-838-15 & \\$50K - \\$70K & F & Professional & Dairy           \\\\\n",
       "\t3 & 3-838-15 & \\$50K - \\$70K & F & Professional & Dairy           \\\\\n",
       "\t4 & 3-838-15 & \\$50K - \\$70K & F & Professional & Candy           \\\\\n",
       "\t5 & 3-838-15 & \\$50K - \\$70K & F & Professional & Starchy Foods   \\\\\n",
       "\t6 & 3-838-15 & \\$50K - \\$70K & F & Professional & Kitchen Products\\\\\n",
       "\\end{tabular}\n"
      ],
      "text/markdown": [
       "\n",
       "A data.frame: 6 × 5\n",
       "\n",
       "| <!--/--> | tid &lt;chr&gt; | yearly_income &lt;chr&gt; | gender &lt;chr&gt; | occupation &lt;chr&gt; | item &lt;chr&gt; |\n",
       "|---|---|---|---|---|---|\n",
       "| 1 | 3-819-15 | $50K - $70K | F | Professional | Magazines        |\n",
       "| 2 | 3-838-15 | $50K - $70K | F | Professional | Dairy            |\n",
       "| 3 | 3-838-15 | $50K - $70K | F | Professional | Dairy            |\n",
       "| 4 | 3-838-15 | $50K - $70K | F | Professional | Candy            |\n",
       "| 5 | 3-838-15 | $50K - $70K | F | Professional | Starchy Foods    |\n",
       "| 6 | 3-838-15 | $50K - $70K | F | Professional | Kitchen Products |\n",
       "\n"
      ],
      "text/plain": [
       "  tid      yearly_income gender occupation   item            \n",
       "1 3-819-15 $50K - $70K   F      Professional Magazines       \n",
       "2 3-838-15 $50K - $70K   F      Professional Dairy           \n",
       "3 3-838-15 $50K - $70K   F      Professional Dairy           \n",
       "4 3-838-15 $50K - $70K   F      Professional Candy           \n",
       "5 3-838-15 $50K - $70K   F      Professional Starchy Foods   \n",
       "6 3-838-15 $50K - $70K   F      Professional Kitchen Products"
      ]
     },
     "metadata": {},
     "output_type": "display_data"
    }
   ],
   "source": [
    "db <- odbcDriverConnect(\"Driver={Microsoft Access Driver (*.mdb, *.accdb)};\n",
    "                        DBQ=.\\\\foodmart2000.mdb\")\n",
    "\n",
    "sql4 <- \"\n",
    "select\n",
    "    trim(str(ft.customer_id)) & '-' & trim(str(ft.time_id)) & '-' & trim(str(ft.store_id)) as tid,\n",
    "    ct.yearly_income,\n",
    "    ct.gender,\n",
    "    ct.occupation,\n",
    "    pc.product_category as item\n",
    "from sales_fact_1998 as ft, product as pd, product_class as pc, customer as ct\n",
    "where pd.product_id = ft.product_id\n",
    "and pd.product_class_id = pc.product_class_id\n",
    "and ft.customer_id = ct.customer_id\n",
    "union all\n",
    "select\n",
    "    trim(str(ft.customer_id)) & '-' & trim(str(ft.time_id)) & '-' & trim(str(ft.store_id)) as tid,\n",
    "    ct.yearly_income,\n",
    "    ct.gender,\n",
    "    ct.occupation,\n",
    "    pc.product_category as item\n",
    "from sales_fact_dec_1998 as ft, product as pd, product_class as pc, customer as ct\n",
    "where pd.product_id = ft.product_id\n",
    "and pd.product_class_id = pc.product_class_id\n",
    "and ft.customer_id = ct.customer_id;\"\n",
    "\n",
    "max_columns <- 5\n",
    "\n",
    "ft <- as.data.frame(sqlQuery(db, sql4))\n",
    "\n",
    "for(ci in 1:max_columns){\n",
    "   ft[,ci] <- as.character(ft[,ci])\n",
    "}\n",
    "\n",
    "head(ft)"
   ]
  },
  {
   "cell_type": "code",
   "execution_count": 161,
   "metadata": {
    "collapsed": true
   },
   "outputs": [
    {
     "data": {
      "text/html": [
       "<table>\n",
       "<caption>A data.frame: 6 × 68</caption>\n",
       "<thead>\n",
       "\t<tr><th></th><th scope=col>tid</th><th scope=col>$10K - $30K</th><th scope=col>$110K - $130K</th><th scope=col>$130K - $150K</th><th scope=col>$150K +</th><th scope=col>$30K - $50K</th><th scope=col>$50K - $70K</th><th scope=col>$70K - $90K</th><th scope=col>$90K - $110K</th><th scope=col>F</th><th scope=col>...</th><th scope=col>Paper Products</th><th scope=col>Pizza</th><th scope=col>Plastic Products</th><th scope=col>Pure Juice Beverages</th><th scope=col>Seafood</th><th scope=col>Side Dishes</th><th scope=col>Snack Foods</th><th scope=col>Specialty</th><th scope=col>Starchy Foods</th><th scope=col>Vegetables</th></tr>\n",
       "\t<tr><th></th><th scope=col>&lt;fct&gt;</th><th scope=col>&lt;fct&gt;</th><th scope=col>&lt;fct&gt;</th><th scope=col>&lt;fct&gt;</th><th scope=col>&lt;fct&gt;</th><th scope=col>&lt;fct&gt;</th><th scope=col>&lt;fct&gt;</th><th scope=col>&lt;fct&gt;</th><th scope=col>&lt;fct&gt;</th><th scope=col>&lt;fct&gt;</th><th scope=col>...</th><th scope=col>&lt;fct&gt;</th><th scope=col>&lt;fct&gt;</th><th scope=col>&lt;fct&gt;</th><th scope=col>&lt;fct&gt;</th><th scope=col>&lt;fct&gt;</th><th scope=col>&lt;fct&gt;</th><th scope=col>&lt;fct&gt;</th><th scope=col>&lt;fct&gt;</th><th scope=col>&lt;fct&gt;</th><th scope=col>&lt;fct&gt;</th></tr>\n",
       "</thead>\n",
       "<tbody>\n",
       "\t<tr><th scope=row>1</th><td>3-819-15 </td><td>0</td><td>0</td><td>0</td><td>0</td><td>0</td><td>1</td><td>0</td><td>0</td><td>1</td><td>...</td><td>0</td><td>0</td><td>0</td><td>0</td><td>0</td><td>0</td><td>0</td><td>0</td><td>0</td><td>1</td></tr>\n",
       "\t<tr><th scope=row>2</th><td>3-838-15 </td><td>0</td><td>0</td><td>0</td><td>0</td><td>0</td><td>1</td><td>0</td><td>0</td><td>1</td><td>...</td><td>0</td><td>0</td><td>0</td><td>0</td><td>0</td><td>0</td><td>0</td><td>0</td><td>1</td><td>0</td></tr>\n",
       "\t<tr><th scope=row>3</th><td>6-907-15 </td><td>0</td><td>0</td><td>0</td><td>0</td><td>0</td><td>0</td><td>1</td><td>0</td><td>1</td><td>...</td><td>0</td><td>0</td><td>0</td><td>0</td><td>0</td><td>0</td><td>0</td><td>0</td><td>0</td><td>0</td></tr>\n",
       "\t<tr><th scope=row>4</th><td>6-747-15 </td><td>0</td><td>0</td><td>0</td><td>0</td><td>0</td><td>0</td><td>1</td><td>0</td><td>1</td><td>...</td><td>0</td><td>0</td><td>0</td><td>0</td><td>0</td><td>1</td><td>0</td><td>0</td><td>0</td><td>0</td></tr>\n",
       "\t<tr><th scope=row>5</th><td>8-984-21 </td><td>0</td><td>0</td><td>0</td><td>0</td><td>0</td><td>1</td><td>0</td><td>0</td><td>0</td><td>...</td><td>0</td><td>0</td><td>0</td><td>0</td><td>0</td><td>0</td><td>1</td><td>0</td><td>0</td><td>1</td></tr>\n",
       "\t<tr><th scope=row>6</th><td>8-1062-21</td><td>0</td><td>0</td><td>0</td><td>0</td><td>0</td><td>1</td><td>0</td><td>0</td><td>0</td><td>...</td><td>0</td><td>0</td><td>0</td><td>0</td><td>0</td><td>0</td><td>0</td><td>0</td><td>0</td><td>0</td></tr>\n",
       "</tbody>\n",
       "</table>\n"
      ],
      "text/latex": [
       "A data.frame: 6 × 68\n",
       "\\begin{tabular}{r|lllllllllllllllllllll}\n",
       "  & tid & \\$10K - \\$30K & \\$110K - \\$130K & \\$130K - \\$150K & \\$150K + & \\$30K - \\$50K & \\$50K - \\$70K & \\$70K - \\$90K & \\$90K - \\$110K & F & ... & Paper Products & Pizza & Plastic Products & Pure Juice Beverages & Seafood & Side Dishes & Snack Foods & Specialty & Starchy Foods & Vegetables\\\\\n",
       "  & <fct> & <fct> & <fct> & <fct> & <fct> & <fct> & <fct> & <fct> & <fct> & <fct> & ... & <fct> & <fct> & <fct> & <fct> & <fct> & <fct> & <fct> & <fct> & <fct> & <fct>\\\\\n",
       "\\hline\n",
       "\t1 & 3-819-15  & 0 & 0 & 0 & 0 & 0 & 1 & 0 & 0 & 1 & ... & 0 & 0 & 0 & 0 & 0 & 0 & 0 & 0 & 0 & 1\\\\\n",
       "\t2 & 3-838-15  & 0 & 0 & 0 & 0 & 0 & 1 & 0 & 0 & 1 & ... & 0 & 0 & 0 & 0 & 0 & 0 & 0 & 0 & 1 & 0\\\\\n",
       "\t3 & 6-907-15  & 0 & 0 & 0 & 0 & 0 & 0 & 1 & 0 & 1 & ... & 0 & 0 & 0 & 0 & 0 & 0 & 0 & 0 & 0 & 0\\\\\n",
       "\t4 & 6-747-15  & 0 & 0 & 0 & 0 & 0 & 0 & 1 & 0 & 1 & ... & 0 & 0 & 0 & 0 & 0 & 1 & 0 & 0 & 0 & 0\\\\\n",
       "\t5 & 8-984-21  & 0 & 0 & 0 & 0 & 0 & 1 & 0 & 0 & 0 & ... & 0 & 0 & 0 & 0 & 0 & 0 & 1 & 0 & 0 & 1\\\\\n",
       "\t6 & 8-1062-21 & 0 & 0 & 0 & 0 & 0 & 1 & 0 & 0 & 0 & ... & 0 & 0 & 0 & 0 & 0 & 0 & 0 & 0 & 0 & 0\\\\\n",
       "\\end{tabular}\n"
      ],
      "text/markdown": [
       "\n",
       "A data.frame: 6 × 68\n",
       "\n",
       "| <!--/--> | tid &lt;fct&gt; | $10K - $30K &lt;fct&gt; | $110K - $130K &lt;fct&gt; | $130K - $150K &lt;fct&gt; | $150K + &lt;fct&gt; | $30K - $50K &lt;fct&gt; | $50K - $70K &lt;fct&gt; | $70K - $90K &lt;fct&gt; | $90K - $110K &lt;fct&gt; | F &lt;fct&gt; | ... ... | Paper Products &lt;fct&gt; | Pizza &lt;fct&gt; | Plastic Products &lt;fct&gt; | Pure Juice Beverages &lt;fct&gt; | Seafood &lt;fct&gt; | Side Dishes &lt;fct&gt; | Snack Foods &lt;fct&gt; | Specialty &lt;fct&gt; | Starchy Foods &lt;fct&gt; | Vegetables &lt;fct&gt; |\n",
       "|---|---|---|---|---|---|---|---|---|---|---|---|---|---|---|---|---|---|---|---|---|---|\n",
       "| 1 | 3-819-15  | 0 | 0 | 0 | 0 | 0 | 1 | 0 | 0 | 1 | ... | 0 | 0 | 0 | 0 | 0 | 0 | 0 | 0 | 0 | 1 |\n",
       "| 2 | 3-838-15  | 0 | 0 | 0 | 0 | 0 | 1 | 0 | 0 | 1 | ... | 0 | 0 | 0 | 0 | 0 | 0 | 0 | 0 | 1 | 0 |\n",
       "| 3 | 6-907-15  | 0 | 0 | 0 | 0 | 0 | 0 | 1 | 0 | 1 | ... | 0 | 0 | 0 | 0 | 0 | 0 | 0 | 0 | 0 | 0 |\n",
       "| 4 | 6-747-15  | 0 | 0 | 0 | 0 | 0 | 0 | 1 | 0 | 1 | ... | 0 | 0 | 0 | 0 | 0 | 1 | 0 | 0 | 0 | 0 |\n",
       "| 5 | 8-984-21  | 0 | 0 | 0 | 0 | 0 | 1 | 0 | 0 | 0 | ... | 0 | 0 | 0 | 0 | 0 | 0 | 1 | 0 | 0 | 1 |\n",
       "| 6 | 8-1062-21 | 0 | 0 | 0 | 0 | 0 | 1 | 0 | 0 | 0 | ... | 0 | 0 | 0 | 0 | 0 | 0 | 0 | 0 | 0 | 0 |\n",
       "\n"
      ],
      "text/plain": [
       "  tid       $10K - $30K $110K - $130K $130K - $150K $150K + $30K - $50K\n",
       "1 3-819-15  0           0             0             0       0          \n",
       "2 3-838-15  0           0             0             0       0          \n",
       "3 6-907-15  0           0             0             0       0          \n",
       "4 6-747-15  0           0             0             0       0          \n",
       "5 8-984-21  0           0             0             0       0          \n",
       "6 8-1062-21 0           0             0             0       0          \n",
       "  $50K - $70K $70K - $90K $90K - $110K F ... Paper Products Pizza\n",
       "1 1           0           0            1 ... 0              0    \n",
       "2 1           0           0            1 ... 0              0    \n",
       "3 0           1           0            1 ... 0              0    \n",
       "4 0           1           0            1 ... 0              0    \n",
       "5 1           0           0            0 ... 0              0    \n",
       "6 1           0           0            0 ... 0              0    \n",
       "  Plastic Products Pure Juice Beverages Seafood Side Dishes Snack Foods\n",
       "1 0                0                    0       0           0          \n",
       "2 0                0                    0       0           0          \n",
       "3 0                0                    0       0           0          \n",
       "4 0                0                    0       1           0          \n",
       "5 0                0                    0       0           1          \n",
       "6 0                0                    0       0           0          \n",
       "  Specialty Starchy Foods Vegetables\n",
       "1 0         0             1         \n",
       "2 0         1             0         \n",
       "3 0         0             0         \n",
       "4 0         0             0         \n",
       "5 0         0             1         \n",
       "6 0         0             0         "
      ]
     },
     "metadata": {},
     "output_type": "display_data"
    }
   ],
   "source": [
    "columns <- c(\"tid\")\n",
    "\n",
    "cate_sql <- \"select distinct product_category from product_class;\"\n",
    "\n",
    "cust_attrs <- c(\"yearly_income\", \"gender\", \"education\", \"occupation\")\n",
    "\n",
    "attr_sqls = paste(\"select distinct\", cust_attrs, \"from customer;\")\n",
    "\n",
    "all_attr_sqls = c(attr_sqls, cate_sql)\n",
    "\n",
    "for( sql in all_attr_sqls){\n",
    "  pc <- as.data.frame(sqlQuery(db, sql))\n",
    "  pc[,1] <- as.character(pc[,1])\n",
    "  columns <- c(columns, as.vector(t(pc)[1,]))\n",
    "}\n",
    "\n",
    "len <- length(columns)\n",
    "# tids <- head(unique(ft$tid), n=5000)\n",
    "tids <- unique(ft$tid)\n",
    "df <- as.data.frame(matrix(ncol = length(columns), \n",
    "                           nrow=0, \n",
    "                           dimnames = list(NULL,columns)))\n",
    "\n",
    "ridx <- 1\n",
    "for(tid in tids){\n",
    "  df[ridx, 1] = tid\n",
    "  df[ridx, 2:len] = 0\n",
    "  \n",
    "  cust_indices <- 2:(length(cust_attrs) + 1)\n",
    "  for(cust_idx in cust_indices){\n",
    "    ca <- unique(as.vector(ft[ft$tid==tid, cust_idx]))\n",
    "    df[ridx, ca] = 1\n",
    "  }\n",
    "  \n",
    "  prod_idx <- max_columns\n",
    "  pcs <- unique(as.vector(ft[ft$tid==tid, prod_idx]))    \n",
    "  for(pc in pcs){\n",
    "    df[ridx, pc] = 1\n",
    "  }\n",
    "  \n",
    "  ridx <- ridx + 1\n",
    "}\n",
    "\n",
    "for (idx in 1:length(columns)){\n",
    "  df[,idx] <- as.factor(df[,idx])\n",
    "}\n",
    "\n",
    "head(df)\n",
    "\n",
    "write.arff(df[,2:len], file = 'q4_customer_tx.arff')\n",
    "write.table(\n",
    "  df[,2:len],\n",
    "  'q4_customer_tx.csv',\n",
    "  row.names = FALSE,\n",
    "  col.names = TRUE,\n",
    "  sep = \",\",\n",
    "  quote = FALSE)"
   ]
  },
  {
   "cell_type": "markdown",
   "metadata": {},
   "source": []
  },
  {
   "cell_type": "code",
   "execution_count": null,
   "metadata": {},
   "outputs": [],
   "source": []
  },
  {
   "cell_type": "code",
   "execution_count": null,
   "metadata": {},
   "outputs": [],
   "source": []
  },
  {
   "cell_type": "code",
   "execution_count": null,
   "metadata": {},
   "outputs": [],
   "source": []
  },
  {
   "cell_type": "markdown",
   "metadata": {},
   "source": [
    "### 題目 5\n",
    "\n",
    "在美國由於聖誕節，12月是購物的旺季。請探勘分析比較12月與1~11月的顧客購物行為。有哪些相似的地方，有哪些差異的地方？ "
   ]
  },
  {
   "cell_type": "code",
   "execution_count": 14,
   "metadata": {},
   "outputs": [],
   "source": [
    "db <- odbcDriverConnect(\"Driver={Microsoft Access Driver (*.mdb, *.accdb)};\n",
    "                        DBQ=.\\\\foodmart2000.mdb\")\n",
    "\n",
    "sql5_xmas <- \"\n",
    "select\n",
    "    trim(str(ft.customer_id)) & '-' & trim(str(ft.time_id)) & '-' & trim(str(ft.store_id)) as tid,\n",
    "    pc.product_category as item\n",
    "from sales_fact_1998 as ft, product as pd, product_class as pc, time_by_day as dt\n",
    "where pd.product_id = ft.product_id\n",
    "and pd.product_class_id = pc.product_class_id\n",
    "and ft.time_id = dt.time_id\n",
    "and dt.month_of_year = 12;\"\n",
    "\n",
    "\n",
    "sql5_normal <- \"\n",
    "select\n",
    "    trim(str(ft.customer_id)) & '-' & trim(str(ft.time_id)) & '-' & trim(str(ft.store_id)) as tid,\n",
    "    pc.product_category as item\n",
    "from sales_fact_1998 as ft, product as pd, product_class as pc, time_by_day as dt\n",
    "where pd.product_id = ft.product_id\n",
    "and pd.product_class_id = pc.product_class_id\n",
    "and ft.time_id = dt.time_id\n",
    "and dt.month_of_year <> 12;\"\n"
   ]
  },
  {
   "cell_type": "code",
   "execution_count": 15,
   "metadata": {},
   "outputs": [],
   "source": [
    "export_factor_table <- function(db, sql, file_name){\n",
    "    max_columns <- 2\n",
    "\n",
    "    ft <- as.data.frame(sqlQuery(db, sql))\n",
    "\n",
    "    for(ci in 1:max_columns){\n",
    "       ft[,ci] <- as.character(ft[,ci])\n",
    "    }\n",
    "\n",
    "    head(ft)\n",
    "\n",
    "    columns <- c(\"tid\")\n",
    "\n",
    "    cate_sql <- \"select distinct product_category from product_class;\"\n",
    "    pc <- as.data.frame(sqlQuery(db, cate_sql))\n",
    "    pc[,1] <- as.character(pc[,1])\n",
    "    columns <- c(columns, as.vector(t(pc)[1,]))\n",
    "\n",
    "    len <- length(columns)\n",
    "\n",
    "    # tids <- head(unique(ft$tid), n=5000)\n",
    "    tids <- unique(ft$tid)\n",
    "\n",
    "    df <- as.data.frame(matrix(ncol = length(columns), \n",
    "                               nrow=0, \n",
    "                               dimnames = list(NULL,columns)))\n",
    "\n",
    "    ridx <- 1\n",
    "    for(tid in tids){\n",
    "        df[ridx, 1] = tid\n",
    "        df[ridx, 2:len] = 0\n",
    "\n",
    "        prod_idx <- max_columns\n",
    "        pcs <- unique(as.vector(ft[ft$tid==tid, prod_idx]))    \n",
    "        for(pc in pcs){\n",
    "            df[ridx, pc] = 1\n",
    "        }\n",
    "\n",
    "        ridx <- ridx + 1\n",
    "    }\n",
    "\n",
    "    for (idx in 1:length(columns)){\n",
    "        df[,idx] <- as.factor(df[,idx])\n",
    "    }\n",
    "\n",
    "    head(df)\n",
    "\n",
    "    write.arff(df[,2:len], file = paste(file_name, '.arff', sep = \"\"))\n",
    "    write.table(\n",
    "        df[,2:len],\n",
    "        paste(file_name, '.csv', sep = \"\"),\n",
    "        row.names = FALSE,\n",
    "        col.names = TRUE,\n",
    "        sep = \",\",\n",
    "        quote = FALSE)\n",
    "}"
   ]
  },
  {
   "cell_type": "code",
   "execution_count": 17,
   "metadata": {},
   "outputs": [],
   "source": [
    "export_factor_table(db, sql5_xmas, 'tx_xmas_fp')"
   ]
  },
  {
   "cell_type": "code",
   "execution_count": 16,
   "metadata": {},
   "outputs": [],
   "source": [
    "export_factor_table(db, sql5_normal, 'tx_normal_fp')"
   ]
  },
  {
   "cell_type": "code",
   "execution_count": null,
   "metadata": {},
   "outputs": [],
   "source": []
  }
 ],
 "metadata": {
  "kernelspec": {
   "display_name": "R",
   "language": "R",
   "name": "ir"
  },
  "language_info": {
   "codemirror_mode": "r",
   "file_extension": ".r",
   "mimetype": "text/x-r-source",
   "name": "R",
   "pygments_lexer": "r",
   "version": "3.6.3"
  }
 },
 "nbformat": 4,
 "nbformat_minor": 4
}
